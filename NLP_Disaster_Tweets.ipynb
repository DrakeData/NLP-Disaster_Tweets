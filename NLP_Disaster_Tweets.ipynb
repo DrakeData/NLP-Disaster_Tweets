{
  "nbformat": 4,
  "nbformat_minor": 0,
  "metadata": {
    "colab": {
      "name": "NLP_Disaster Tweets.ipynb",
      "provenance": [],
      "toc_visible": true,
      "mount_file_id": "1EBkSLo8xPc3mE5hlPpvBFt4P9XMb6qe3",
      "authorship_tag": "ABX9TyMEP9zsC5gznM9/RmZcRYHp",
      "include_colab_link": true
    },
    "kernelspec": {
      "name": "python3",
      "display_name": "Python 3"
    },
    "language_info": {
      "name": "python"
    }
  },
  "cells": [
    {
      "cell_type": "markdown",
      "metadata": {
        "id": "view-in-github",
        "colab_type": "text"
      },
      "source": [
        "<a href=\"https://colab.research.google.com/github/DrakeData/NLP-Disaster_Tweets/blob/main/NLP_Disaster_Tweets.ipynb\" target=\"_parent\"><img src=\"https://colab.research.google.com/assets/colab-badge.svg\" alt=\"Open In Colab\"/></a>"
      ]
    },
    {
      "cell_type": "markdown",
      "source": [
        "# NLP Disaster Tweets"
      ],
      "metadata": {
        "id": "Hy3SMCGqrxMM"
      }
    },
    {
      "cell_type": "code",
      "execution_count": 207,
      "metadata": {
        "id": "OsEYa8ENrSds"
      },
      "outputs": [],
      "source": [
        "import pandas as pd\n",
        "import matplotlib.pyplot as plt\n",
        "import seaborn as sns\n",
        "import numpy as np\n",
        "import tensorflow as tf\n",
        "import random\n",
        "import os\n",
        "import nltk\n",
        "from nltk.tokenize import RegexpTokenizer\n",
        "from sklearn.metrics import accuracy_score\n",
        "from keras.callbacks import CSVLogger\n",
        "from nltk.stem import WordNetLemmatizer, PorterStemmer\n",
        "from nltk.corpus import stopwords\n",
        "import matplotlib.pyplot as plt\n",
        "from matplotlib import pyplot\n",
        "from sklearn.feature_extraction.text import CountVectorizer,TfidfVectorizer, TfidfTransformer\n",
        "from keras.preprocessing.text import Tokenizer\n",
        "from keras.preprocessing.sequence import pad_sequences\n",
        "from keras.models import Sequential, load_model\n",
        "from keras.layers import LSTM, GRU\n",
        "from keras.layers import Dense, Embedding, Bidirectional, Dropout, Flatten\n",
        "from nltk.stem import SnowballStemmer\n",
        "import re"
      ]
    },
    {
      "cell_type": "markdown",
      "source": [
        "## Ingest\n",
        "Donwloading the data from Kaggle's API"
      ],
      "metadata": {
        "id": "E-kPzgwCsWxD"
      }
    },
    {
      "cell_type": "code",
      "source": [
        "! pip install kaggle"
      ],
      "metadata": {
        "colab": {
          "base_uri": "https://localhost:8080/"
        },
        "id": "HYPO3RqWsVLa",
        "outputId": "75c91003-4282-4372-8972-55ec5e05d371"
      },
      "execution_count": 55,
      "outputs": [
        {
          "output_type": "stream",
          "name": "stdout",
          "text": [
            "Requirement already satisfied: kaggle in /usr/local/lib/python3.7/dist-packages (1.5.12)\n",
            "Requirement already satisfied: tqdm in /usr/local/lib/python3.7/dist-packages (from kaggle) (4.63.0)\n",
            "Requirement already satisfied: requests in /usr/local/lib/python3.7/dist-packages (from kaggle) (2.23.0)\n",
            "Requirement already satisfied: python-slugify in /usr/local/lib/python3.7/dist-packages (from kaggle) (6.1.1)\n",
            "Requirement already satisfied: python-dateutil in /usr/local/lib/python3.7/dist-packages (from kaggle) (2.8.2)\n",
            "Requirement already satisfied: urllib3 in /usr/local/lib/python3.7/dist-packages (from kaggle) (1.24.3)\n",
            "Requirement already satisfied: six>=1.10 in /usr/local/lib/python3.7/dist-packages (from kaggle) (1.15.0)\n",
            "Requirement already satisfied: certifi in /usr/local/lib/python3.7/dist-packages (from kaggle) (2021.10.8)\n",
            "Requirement already satisfied: text-unidecode>=1.3 in /usr/local/lib/python3.7/dist-packages (from python-slugify->kaggle) (1.3)\n",
            "Requirement already satisfied: idna<3,>=2.5 in /usr/local/lib/python3.7/dist-packages (from requests->kaggle) (2.10)\n",
            "Requirement already satisfied: chardet<4,>=3.0.2 in /usr/local/lib/python3.7/dist-packages (from requests->kaggle) (3.0.4)\n"
          ]
        }
      ]
    },
    {
      "cell_type": "code",
      "source": [
        "! mkdir ~/.kaggle"
      ],
      "metadata": {
        "colab": {
          "base_uri": "https://localhost:8080/"
        },
        "id": "Ix-ZZ7nPvdLt",
        "outputId": "fdc896ec-a866-42cb-9ea3-dc868cd46ab5"
      },
      "execution_count": 56,
      "outputs": [
        {
          "output_type": "stream",
          "name": "stdout",
          "text": [
            "mkdir: cannot create directory ‘/root/.kaggle’: File exists\n"
          ]
        }
      ]
    },
    {
      "cell_type": "code",
      "source": [
        "! cp './drive/MyDrive/Colab Notebooks/API Keys/kaggle.json' ~/.kaggle/"
      ],
      "metadata": {
        "id": "oic19J0Fve7y"
      },
      "execution_count": 57,
      "outputs": []
    },
    {
      "cell_type": "code",
      "source": [
        "! chmod 600 ~/.kaggle/kaggle.json"
      ],
      "metadata": {
        "id": "NF3_ScFFvgnI"
      },
      "execution_count": 58,
      "outputs": []
    },
    {
      "cell_type": "code",
      "source": [
        "! kaggle competitions download nlp-getting-started"
      ],
      "metadata": {
        "colab": {
          "base_uri": "https://localhost:8080/"
        },
        "id": "sywCpNMMvmW7",
        "outputId": "b510c275-d53e-4175-e990-5d47edd97c29"
      },
      "execution_count": 59,
      "outputs": [
        {
          "output_type": "stream",
          "name": "stdout",
          "text": [
            "Warning: Looks like you're using an outdated API Version, please consider updating (server 1.5.12 / client 1.5.4)\n",
            "sample_submission.csv: Skipping, found more recently modified local copy (use --force to force download)\n",
            "test.csv: Skipping, found more recently modified local copy (use --force to force download)\n",
            "train.csv: Skipping, found more recently modified local copy (use --force to force download)\n"
          ]
        }
      ]
    },
    {
      "cell_type": "code",
      "source": [
        "! wget http://nlp.stanford.edu/data/glove.6B.zip"
      ],
      "metadata": {
        "colab": {
          "base_uri": "https://localhost:8080/"
        },
        "id": "4W2FtLEpIA7l",
        "outputId": "b30516a6-1c9a-4bfa-aeaf-57342596e174"
      },
      "execution_count": 60,
      "outputs": [
        {
          "output_type": "stream",
          "name": "stdout",
          "text": [
            "--2022-03-05 22:50:56--  http://nlp.stanford.edu/data/glove.6B.zip\n",
            "Resolving nlp.stanford.edu (nlp.stanford.edu)... 171.64.67.140\n",
            "Connecting to nlp.stanford.edu (nlp.stanford.edu)|171.64.67.140|:80... connected.\n",
            "HTTP request sent, awaiting response... 302 Found\n",
            "Location: https://nlp.stanford.edu/data/glove.6B.zip [following]\n",
            "--2022-03-05 22:50:57--  https://nlp.stanford.edu/data/glove.6B.zip\n",
            "Connecting to nlp.stanford.edu (nlp.stanford.edu)|171.64.67.140|:443... connected.\n",
            "HTTP request sent, awaiting response... 301 Moved Permanently\n",
            "Location: http://downloads.cs.stanford.edu/nlp/data/glove.6B.zip [following]\n",
            "--2022-03-05 22:50:57--  http://downloads.cs.stanford.edu/nlp/data/glove.6B.zip\n",
            "Resolving downloads.cs.stanford.edu (downloads.cs.stanford.edu)... 171.64.64.22\n",
            "Connecting to downloads.cs.stanford.edu (downloads.cs.stanford.edu)|171.64.64.22|:80... connected.\n",
            "HTTP request sent, awaiting response... 200 OK\n",
            "Length: 862182613 (822M) [application/zip]\n",
            "Saving to: ‘glove.6B.zip.1’\n",
            "\n",
            "glove.6B.zip.1      100%[===================>] 822.24M  5.10MB/s    in 2m 41s  \n",
            "\n",
            "2022-03-05 22:53:39 (5.10 MB/s) - ‘glove.6B.zip.1’ saved [862182613/862182613]\n",
            "\n"
          ]
        }
      ]
    },
    {
      "cell_type": "code",
      "source": [
        "! unzip glove*.zip"
      ],
      "metadata": {
        "colab": {
          "base_uri": "https://localhost:8080/"
        },
        "id": "qcPqCicgI4gE",
        "outputId": "d205536a-c50c-4734-e014-867d6e56865b"
      },
      "execution_count": 61,
      "outputs": [
        {
          "output_type": "stream",
          "name": "stdout",
          "text": [
            "Archive:  glove.6B.zip\n",
            "replace glove.6B.50d.txt? [y]es, [n]o, [A]ll, [N]one, [r]ename: "
          ]
        }
      ]
    },
    {
      "cell_type": "code",
      "source": [
        "train_df = pd.read_csv('train.csv')\n",
        "\n",
        "test_df = pd.read_csv('test.csv')"
      ],
      "metadata": {
        "id": "NPpXanNFwefB"
      },
      "execution_count": 62,
      "outputs": []
    },
    {
      "cell_type": "markdown",
      "source": [
        "## EDA"
      ],
      "metadata": {
        "id": "podxhxnRwZw3"
      }
    },
    {
      "cell_type": "code",
      "source": [
        "# Look at random sample of 10\n",
        "train_df.sample(10)"
      ],
      "metadata": {
        "colab": {
          "base_uri": "https://localhost:8080/",
          "height": 363
        },
        "id": "Dm3X13FLvr3K",
        "outputId": "b7604ab1-a1d9-4cea-b82b-36acc20686f2"
      },
      "execution_count": 63,
      "outputs": [
        {
          "output_type": "execute_result",
          "data": {
            "text/html": [
              "\n",
              "  <div id=\"df-f44ccda0-c626-4bca-9f9c-f92ed3b2d2be\">\n",
              "    <div class=\"colab-df-container\">\n",
              "      <div>\n",
              "<style scoped>\n",
              "    .dataframe tbody tr th:only-of-type {\n",
              "        vertical-align: middle;\n",
              "    }\n",
              "\n",
              "    .dataframe tbody tr th {\n",
              "        vertical-align: top;\n",
              "    }\n",
              "\n",
              "    .dataframe thead th {\n",
              "        text-align: right;\n",
              "    }\n",
              "</style>\n",
              "<table border=\"1\" class=\"dataframe\">\n",
              "  <thead>\n",
              "    <tr style=\"text-align: right;\">\n",
              "      <th></th>\n",
              "      <th>id</th>\n",
              "      <th>keyword</th>\n",
              "      <th>location</th>\n",
              "      <th>text</th>\n",
              "      <th>target</th>\n",
              "    </tr>\n",
              "  </thead>\n",
              "  <tbody>\n",
              "    <tr>\n",
              "      <th>3626</th>\n",
              "      <td>5175</td>\n",
              "      <td>fatalities</td>\n",
              "      <td>#WashingtonState #Seattle</td>\n",
              "      <td>#Seattle's deadliest red light runner intersec...</td>\n",
              "      <td>1</td>\n",
              "    </tr>\n",
              "    <tr>\n",
              "      <th>7060</th>\n",
              "      <td>10114</td>\n",
              "      <td>upheaval</td>\n",
              "      <td>Jamaica</td>\n",
              "      <td>Series finale of #TheGame :( It survived so mu...</td>\n",
              "      <td>0</td>\n",
              "    </tr>\n",
              "    <tr>\n",
              "      <th>2692</th>\n",
              "      <td>3861</td>\n",
              "      <td>detonation</td>\n",
              "      <td>NaN</td>\n",
              "      <td>Ignition Knock (Detonation) Sensor-Senso Stand...</td>\n",
              "      <td>1</td>\n",
              "    </tr>\n",
              "    <tr>\n",
              "      <th>920</th>\n",
              "      <td>1332</td>\n",
              "      <td>blown%20up</td>\n",
              "      <td>L/S/Z/L/T/H/C/H/R/A/S/C</td>\n",
              "      <td>@Papcrdoll and I s2g if my mentions get blown ...</td>\n",
              "      <td>0</td>\n",
              "    </tr>\n",
              "    <tr>\n",
              "      <th>5189</th>\n",
              "      <td>7408</td>\n",
              "      <td>obliterated</td>\n",
              "      <td>#freegucci</td>\n",
              "      <td>Me- Don't bother calling or texting me because...</td>\n",
              "      <td>0</td>\n",
              "    </tr>\n",
              "    <tr>\n",
              "      <th>49</th>\n",
              "      <td>71</td>\n",
              "      <td>ablaze</td>\n",
              "      <td>England.</td>\n",
              "      <td>First night with retainers in. It's quite weir...</td>\n",
              "      <td>0</td>\n",
              "    </tr>\n",
              "    <tr>\n",
              "      <th>1928</th>\n",
              "      <td>2771</td>\n",
              "      <td>curfew</td>\n",
              "      <td>NaN</td>\n",
              "      <td>@aptly_engineerd There is no such curfew.</td>\n",
              "      <td>0</td>\n",
              "    </tr>\n",
              "    <tr>\n",
              "      <th>5618</th>\n",
              "      <td>8016</td>\n",
              "      <td>refugees</td>\n",
              "      <td>paradise</td>\n",
              "      <td>#retweet Cameroon repatriating about 12000 Nig...</td>\n",
              "      <td>1</td>\n",
              "    </tr>\n",
              "    <tr>\n",
              "      <th>2737</th>\n",
              "      <td>3935</td>\n",
              "      <td>devastated</td>\n",
              "      <td>Banbridge</td>\n",
              "      <td>'Er indoors will be devastated. RIP Arfur. #Ge...</td>\n",
              "      <td>1</td>\n",
              "    </tr>\n",
              "    <tr>\n",
              "      <th>2489</th>\n",
              "      <td>3573</td>\n",
              "      <td>desolate</td>\n",
              "      <td>NaN</td>\n",
              "      <td>Daniel 12:11  And from the time that the daily...</td>\n",
              "      <td>0</td>\n",
              "    </tr>\n",
              "  </tbody>\n",
              "</table>\n",
              "</div>\n",
              "      <button class=\"colab-df-convert\" onclick=\"convertToInteractive('df-f44ccda0-c626-4bca-9f9c-f92ed3b2d2be')\"\n",
              "              title=\"Convert this dataframe to an interactive table.\"\n",
              "              style=\"display:none;\">\n",
              "        \n",
              "  <svg xmlns=\"http://www.w3.org/2000/svg\" height=\"24px\"viewBox=\"0 0 24 24\"\n",
              "       width=\"24px\">\n",
              "    <path d=\"M0 0h24v24H0V0z\" fill=\"none\"/>\n",
              "    <path d=\"M18.56 5.44l.94 2.06.94-2.06 2.06-.94-2.06-.94-.94-2.06-.94 2.06-2.06.94zm-11 1L8.5 8.5l.94-2.06 2.06-.94-2.06-.94L8.5 2.5l-.94 2.06-2.06.94zm10 10l.94 2.06.94-2.06 2.06-.94-2.06-.94-.94-2.06-.94 2.06-2.06.94z\"/><path d=\"M17.41 7.96l-1.37-1.37c-.4-.4-.92-.59-1.43-.59-.52 0-1.04.2-1.43.59L10.3 9.45l-7.72 7.72c-.78.78-.78 2.05 0 2.83L4 21.41c.39.39.9.59 1.41.59.51 0 1.02-.2 1.41-.59l7.78-7.78 2.81-2.81c.8-.78.8-2.07 0-2.86zM5.41 20L4 18.59l7.72-7.72 1.47 1.35L5.41 20z\"/>\n",
              "  </svg>\n",
              "      </button>\n",
              "      \n",
              "  <style>\n",
              "    .colab-df-container {\n",
              "      display:flex;\n",
              "      flex-wrap:wrap;\n",
              "      gap: 12px;\n",
              "    }\n",
              "\n",
              "    .colab-df-convert {\n",
              "      background-color: #E8F0FE;\n",
              "      border: none;\n",
              "      border-radius: 50%;\n",
              "      cursor: pointer;\n",
              "      display: none;\n",
              "      fill: #1967D2;\n",
              "      height: 32px;\n",
              "      padding: 0 0 0 0;\n",
              "      width: 32px;\n",
              "    }\n",
              "\n",
              "    .colab-df-convert:hover {\n",
              "      background-color: #E2EBFA;\n",
              "      box-shadow: 0px 1px 2px rgba(60, 64, 67, 0.3), 0px 1px 3px 1px rgba(60, 64, 67, 0.15);\n",
              "      fill: #174EA6;\n",
              "    }\n",
              "\n",
              "    [theme=dark] .colab-df-convert {\n",
              "      background-color: #3B4455;\n",
              "      fill: #D2E3FC;\n",
              "    }\n",
              "\n",
              "    [theme=dark] .colab-df-convert:hover {\n",
              "      background-color: #434B5C;\n",
              "      box-shadow: 0px 1px 3px 1px rgba(0, 0, 0, 0.15);\n",
              "      filter: drop-shadow(0px 1px 2px rgba(0, 0, 0, 0.3));\n",
              "      fill: #FFFFFF;\n",
              "    }\n",
              "  </style>\n",
              "\n",
              "      <script>\n",
              "        const buttonEl =\n",
              "          document.querySelector('#df-f44ccda0-c626-4bca-9f9c-f92ed3b2d2be button.colab-df-convert');\n",
              "        buttonEl.style.display =\n",
              "          google.colab.kernel.accessAllowed ? 'block' : 'none';\n",
              "\n",
              "        async function convertToInteractive(key) {\n",
              "          const element = document.querySelector('#df-f44ccda0-c626-4bca-9f9c-f92ed3b2d2be');\n",
              "          const dataTable =\n",
              "            await google.colab.kernel.invokeFunction('convertToInteractive',\n",
              "                                                     [key], {});\n",
              "          if (!dataTable) return;\n",
              "\n",
              "          const docLinkHtml = 'Like what you see? Visit the ' +\n",
              "            '<a target=\"_blank\" href=https://colab.research.google.com/notebooks/data_table.ipynb>data table notebook</a>'\n",
              "            + ' to learn more about interactive tables.';\n",
              "          element.innerHTML = '';\n",
              "          dataTable['output_type'] = 'display_data';\n",
              "          await google.colab.output.renderOutput(dataTable, element);\n",
              "          const docLink = document.createElement('div');\n",
              "          docLink.innerHTML = docLinkHtml;\n",
              "          element.appendChild(docLink);\n",
              "        }\n",
              "      </script>\n",
              "    </div>\n",
              "  </div>\n",
              "  "
            ],
            "text/plain": [
              "         id      keyword                   location  \\\n",
              "3626   5175   fatalities  #WashingtonState #Seattle   \n",
              "7060  10114     upheaval                    Jamaica   \n",
              "2692   3861   detonation                        NaN   \n",
              "920    1332   blown%20up    L/S/Z/L/T/H/C/H/R/A/S/C   \n",
              "5189   7408  obliterated                 #freegucci   \n",
              "49       71       ablaze                   England.   \n",
              "1928   2771       curfew                        NaN   \n",
              "5618   8016     refugees                   paradise   \n",
              "2737   3935   devastated                  Banbridge   \n",
              "2489   3573     desolate                        NaN   \n",
              "\n",
              "                                                   text  target  \n",
              "3626  #Seattle's deadliest red light runner intersec...       1  \n",
              "7060  Series finale of #TheGame :( It survived so mu...       0  \n",
              "2692  Ignition Knock (Detonation) Sensor-Senso Stand...       1  \n",
              "920   @Papcrdoll and I s2g if my mentions get blown ...       0  \n",
              "5189  Me- Don't bother calling or texting me because...       0  \n",
              "49    First night with retainers in. It's quite weir...       0  \n",
              "1928          @aptly_engineerd There is no such curfew.       0  \n",
              "5618  #retweet Cameroon repatriating about 12000 Nig...       1  \n",
              "2737  'Er indoors will be devastated. RIP Arfur. #Ge...       1  \n",
              "2489  Daniel 12:11  And from the time that the daily...       0  "
            ]
          },
          "metadata": {},
          "execution_count": 63
        }
      ]
    },
    {
      "cell_type": "markdown",
      "source": [
        "Column notes:\n",
        "- id: tweet unique identifier\n",
        "- keyword: keyword from the tweet; can return blank\n",
        "- location: location that the tweet was sent from; can return blank\n",
        "- text: text from tweet\n",
        "- target: labels the tweet if the tweet is about a real disaster (1) or not (0)"
      ],
      "metadata": {
        "id": "znpZB2STxDe0"
      }
    },
    {
      "cell_type": "code",
      "source": [
        "# Check shape of data sets\n",
        "print(f\"Train data set shape: {train_df.shape}\")\n",
        "print(f\"Test data set shape: {test_df.shape}\")"
      ],
      "metadata": {
        "colab": {
          "base_uri": "https://localhost:8080/"
        },
        "id": "YoKPHwSkCXgy",
        "outputId": "9d21fc9c-9dee-4460-aa6a-0eb288499909"
      },
      "execution_count": 64,
      "outputs": [
        {
          "output_type": "stream",
          "name": "stdout",
          "text": [
            "Train data set shape: (7613, 5)\n",
            "Test data set shape: (3263, 4)\n"
          ]
        }
      ]
    },
    {
      "cell_type": "code",
      "source": [
        "# Check missing values\n",
        "print(f\"Train Dataset missing data: \\n{train_df.isnull().sum()}\\n\")\n",
        "print(f\"Test Dataset missing data: \\n{test_df.isnull().sum()}\")"
      ],
      "metadata": {
        "colab": {
          "base_uri": "https://localhost:8080/"
        },
        "id": "t_BR8EqJCXdC",
        "outputId": "e52c86ad-c5f3-41cb-9282-f030cea3c10e"
      },
      "execution_count": 65,
      "outputs": [
        {
          "output_type": "stream",
          "name": "stdout",
          "text": [
            "Train Dataset missing data: \n",
            "id             0\n",
            "keyword       61\n",
            "location    2533\n",
            "text           0\n",
            "target         0\n",
            "dtype: int64\n",
            "\n",
            "Test Dataset missing data: \n",
            "id             0\n",
            "keyword       26\n",
            "location    1105\n",
            "text           0\n",
            "dtype: int64\n"
          ]
        }
      ]
    },
    {
      "cell_type": "code",
      "source": [
        "sns.countplot(x='target', data=train_df);"
      ],
      "metadata": {
        "colab": {
          "base_uri": "https://localhost:8080/",
          "height": 278
        },
        "id": "ScUax2YJcGuo",
        "outputId": "54b2b468-9a28-42e2-f781-93b099863f7d"
      },
      "execution_count": 66,
      "outputs": [
        {
          "output_type": "display_data",
          "data": {
            "image/png": "[encoded data removed]",
            "text/plain": [
              "<Figure size 432x288 with 1 Axes>"
            ]
          },
          "metadata": {
            "needs_background": "light"
          }
        }
      ]
    },
    {
      "cell_type": "code",
      "source": [
        "# Check key words\n",
        "keywords_check = train_df[\"keyword\"].value_counts()[:20].to_frame()\n",
        "\n",
        "fig = plt.figure(figsize=(15,6))\n",
        "sns.barplot(data=keywords_check, x=keywords_check.index, y=\"keyword\", palette=\"PRGn\")\n",
        "plt.title(\"Most common keywords\",size=16)\n",
        "plt.xticks(rotation=70,size=12);"
      ],
      "metadata": {
        "colab": {
          "base_uri": "https://localhost:8080/",
          "height": 466
        },
        "id": "ac0oTqz3poBT",
        "outputId": "e68c099f-1b58-4b02-eba8-87bcb478e446"
      },
      "execution_count": 67,
      "outputs": [
        {
          "output_type": "display_data",
          "data": {
            "image/png": "[encoded data removed]",
            "text/plain": [
              "<Figure size 1080x432 with 1 Axes>"
            ]
          },
          "metadata": {
            "needs_background": "light"
          }
        }
      ]
    },
    {
      "cell_type": "markdown",
      "source": [
        "### Preprocessing\n",
        "- Make all text lowercase\n",
        "- Remove special characters\n",
        "- Remove numbers \n",
        "- Remove stop words\n",
        "- Remove extra spacing (whitespace)\n",
        "- Remove weblinks\n",
        "- Expand contractions when possible\n",
        "- Tokenize\n"
      ],
      "metadata": {
        "id": "yIRMum7XzuVs"
      }
    },
    {
      "cell_type": "code",
      "source": [
        "nltk.download('stopwords')\n",
        "nltk.download('wordnet')"
      ],
      "metadata": {
        "colab": {
          "base_uri": "https://localhost:8080/"
        },
        "id": "8FKnrB8snOWV",
        "outputId": "d7f714cf-c1e9-458d-c0c3-557f35114883"
      },
      "execution_count": 68,
      "outputs": [
        {
          "output_type": "stream",
          "name": "stdout",
          "text": [
            "[nltk_data] Downloading package stopwords to /root/nltk_data...\n",
            "[nltk_data]   Package stopwords is already up-to-date!\n",
            "[nltk_data] Downloading package wordnet to /root/nltk_data...\n",
            "[nltk_data]   Package wordnet is already up-to-date!\n"
          ]
        },
        {
          "output_type": "execute_result",
          "data": {
            "text/plain": [
              "True"
            ]
          },
          "metadata": {},
          "execution_count": 68
        }
      ]
    },
    {
      "cell_type": "code",
      "source": [
        "def remove_emoji(string):\n",
        "  '''\n",
        "  Remove emojies from text\n",
        "  '''\n",
        "  emoji_pattern = re.compile(\"[\"\n",
        "  u\"\\U0001F600-\\U0001F64F\"\n",
        "  u\"\\U0001F300-\\U0001F5FF\"\n",
        "  u\"\\U0001F680-\\U0001F6FF\"\n",
        "  u\"\\U0001F1E0-\\U0001F1FF\"\n",
        "  u\"\\U00002702-\\U000027B0\"\n",
        "  u\"\\U000024C2-\\U0001F251\"\n",
        "  u\"\\U0001f926-\\U0001f937\"\n",
        "  u'\\U00010000-\\U0010ffff'\n",
        "  u\"\\u200d\"\n",
        "  u\"\\u2640-\\u2642\"\n",
        "  u\"\\u2600-\\u2B55\"\n",
        "  u\"\\u23cf\"\n",
        "  u\"\\u23e9\"\n",
        "  u\"\\u231a\"\n",
        "  u\"\\u3030\"\n",
        "  u\"\\ufe0f\"\n",
        "  \"]+\", flags=re.UNICODE)\n",
        "  \n",
        "  return emoji_pattern.sub(r' ', string)"
      ],
      "metadata": {
        "id": "BhgH-T8NouUJ"
      },
      "execution_count": 69,
      "outputs": []
    },
    {
      "cell_type": "code",
      "source": [
        "lemmatizer = WordNetLemmatizer()\n",
        "stemmer = SnowballStemmer('english') \n",
        "\n",
        "def preprocess(sentence):\n",
        "  # dtype to string\n",
        "  sentence=str(sentence)\n",
        "  # lowercase\n",
        "  sentence = sentence.lower()\n",
        "  # remove html links\n",
        "  sentence = sentence.replace('{html}',\"\")\n",
        "  # remove emojies\n",
        "  sentence = remove_emoji(sentence)\n",
        "  # remove special characters\n",
        "  cleanr = re.compile('<.*?>')\n",
        "  cleantext = re.sub(cleanr, '', sentence)\n",
        "  # remove urls\n",
        "  rem_url=re.sub(r'http\\S+', '',cleantext)\n",
        "  # remove numbers\n",
        "  rem_num = re.sub('[0-9]+', '', rem_url)\n",
        "\n",
        "  # tokenize text\n",
        "  tokenizer = RegexpTokenizer(r'\\w+')\n",
        "  tokens = tokenizer.tokenize(rem_num)\n",
        "\n",
        "  # remove stopwords  \n",
        "  filtered_words = [w for w in tokens if len(w) > 2 if not w in stopwords.words('english')]\n",
        "  stem_words=[stemmer.stem(w) for w in filtered_words]\n",
        "  lemma_words=[lemmatizer.lemmatize(w) for w in stem_words]\n",
        "  \n",
        "  return \" \".join(filtered_words)\n",
        "\n",
        "text_ls = ['keyword', 'location', 'text']\n",
        "\n",
        "\n",
        "# Clean train_df\n",
        "for col in text_ls:\n",
        "  for i in range(len(train_df[col])):\n",
        "    train_df[col][i] = preprocess(train_df[col][i])\n",
        "\n",
        "# Clean test_df\n",
        "for col in text_ls:\n",
        "  for i in range(len(test_df[col])):\n",
        "    test_df[col][i] = preprocess(test_df[col][i])\n",
        "\n",
        "print(\"\\nTrain Set:\")\n",
        "train_df.head()"
      ],
      "metadata": {
        "colab": {
          "base_uri": "https://localhost:8080/",
          "height": 391
        },
        "id": "tAh31Jd3v2EJ",
        "outputId": "860d5a2d-6a37-4d2d-edc0-5151a2cc7918"
      },
      "execution_count": 126,
      "outputs": [
        {
          "output_type": "stream",
          "name": "stderr",
          "text": [
            "/usr/local/lib/python3.7/dist-packages/ipykernel_launcher.py:38: SettingWithCopyWarning: \n",
            "A value is trying to be set on a copy of a slice from a DataFrame\n",
            "\n",
            "See the caveats in the documentation: https://pandas.pydata.org/pandas-docs/stable/user_guide/indexing.html#returning-a-view-versus-a-copy\n",
            "/usr/local/lib/python3.7/dist-packages/ipykernel_launcher.py:43: SettingWithCopyWarning: \n",
            "A value is trying to be set on a copy of a slice from a DataFrame\n",
            "\n",
            "See the caveats in the documentation: https://pandas.pydata.org/pandas-docs/stable/user_guide/indexing.html#returning-a-view-versus-a-copy\n"
          ]
        },
        {
          "output_type": "stream",
          "name": "stdout",
          "text": [
            "\n",
            "Train Set:\n"
          ]
        },
        {
          "output_type": "execute_result",
          "data": {
            "text/html": [
              "\n",
              "  <div id=\"df-fe8e0091-4daa-4abd-bf96-537f3ba6b7cb\">\n",
              "    <div class=\"colab-df-container\">\n",
              "      <div>\n",
              "<style scoped>\n",
              "    .dataframe tbody tr th:only-of-type {\n",
              "        vertical-align: middle;\n",
              "    }\n",
              "\n",
              "    .dataframe tbody tr th {\n",
              "        vertical-align: top;\n",
              "    }\n",
              "\n",
              "    .dataframe thead th {\n",
              "        text-align: right;\n",
              "    }\n",
              "</style>\n",
              "<table border=\"1\" class=\"dataframe\">\n",
              "  <thead>\n",
              "    <tr style=\"text-align: right;\">\n",
              "      <th></th>\n",
              "      <th>id</th>\n",
              "      <th>keyword</th>\n",
              "      <th>location</th>\n",
              "      <th>text</th>\n",
              "      <th>target</th>\n",
              "    </tr>\n",
              "  </thead>\n",
              "  <tbody>\n",
              "    <tr>\n",
              "      <th>0</th>\n",
              "      <td>1</td>\n",
              "      <td>nan</td>\n",
              "      <td>nan</td>\n",
              "      <td>deeds reason earthquake may allah forgive</td>\n",
              "      <td>1</td>\n",
              "    </tr>\n",
              "    <tr>\n",
              "      <th>1</th>\n",
              "      <td>4</td>\n",
              "      <td>nan</td>\n",
              "      <td>nan</td>\n",
              "      <td>forest fire near ronge sask canada</td>\n",
              "      <td>1</td>\n",
              "    </tr>\n",
              "    <tr>\n",
              "      <th>2</th>\n",
              "      <td>5</td>\n",
              "      <td>nan</td>\n",
              "      <td>nan</td>\n",
              "      <td>residents asked shelter place notified officer...</td>\n",
              "      <td>1</td>\n",
              "    </tr>\n",
              "    <tr>\n",
              "      <th>3</th>\n",
              "      <td>6</td>\n",
              "      <td>nan</td>\n",
              "      <td>nan</td>\n",
              "      <td>people receive wildfires evacuation orders cal...</td>\n",
              "      <td>1</td>\n",
              "    </tr>\n",
              "    <tr>\n",
              "      <th>4</th>\n",
              "      <td>7</td>\n",
              "      <td>nan</td>\n",
              "      <td>nan</td>\n",
              "      <td>got sent photo ruby alaska smoke wildfires pou...</td>\n",
              "      <td>1</td>\n",
              "    </tr>\n",
              "  </tbody>\n",
              "</table>\n",
              "</div>\n",
              "      <button class=\"colab-df-convert\" onclick=\"convertToInteractive('df-fe8e0091-4daa-4abd-bf96-537f3ba6b7cb')\"\n",
              "              title=\"Convert this dataframe to an interactive table.\"\n",
              "              style=\"display:none;\">\n",
              "        \n",
              "  <svg xmlns=\"http://www.w3.org/2000/svg\" height=\"24px\"viewBox=\"0 0 24 24\"\n",
              "       width=\"24px\">\n",
              "    <path d=\"M0 0h24v24H0V0z\" fill=\"none\"/>\n",
              "    <path d=\"M18.56 5.44l.94 2.06.94-2.06 2.06-.94-2.06-.94-.94-2.06-.94 2.06-2.06.94zm-11 1L8.5 8.5l.94-2.06 2.06-.94-2.06-.94L8.5 2.5l-.94 2.06-2.06.94zm10 10l.94 2.06.94-2.06 2.06-.94-2.06-.94-.94-2.06-.94 2.06-2.06.94z\"/><path d=\"M17.41 7.96l-1.37-1.37c-.4-.4-.92-.59-1.43-.59-.52 0-1.04.2-1.43.59L10.3 9.45l-7.72 7.72c-.78.78-.78 2.05 0 2.83L4 21.41c.39.39.9.59 1.41.59.51 0 1.02-.2 1.41-.59l7.78-7.78 2.81-2.81c.8-.78.8-2.07 0-2.86zM5.41 20L4 18.59l7.72-7.72 1.47 1.35L5.41 20z\"/>\n",
              "  </svg>\n",
              "      </button>\n",
              "      \n",
              "  <style>\n",
              "    .colab-df-container {\n",
              "      display:flex;\n",
              "      flex-wrap:wrap;\n",
              "      gap: 12px;\n",
              "    }\n",
              "\n",
              "    .colab-df-convert {\n",
              "      background-color: #E8F0FE;\n",
              "      border: none;\n",
              "      border-radius: 50%;\n",
              "      cursor: pointer;\n",
              "      display: none;\n",
              "      fill: #1967D2;\n",
              "      height: 32px;\n",
              "      padding: 0 0 0 0;\n",
              "      width: 32px;\n",
              "    }\n",
              "\n",
              "    .colab-df-convert:hover {\n",
              "      background-color: #E2EBFA;\n",
              "      box-shadow: 0px 1px 2px rgba(60, 64, 67, 0.3), 0px 1px 3px 1px rgba(60, 64, 67, 0.15);\n",
              "      fill: #174EA6;\n",
              "    }\n",
              "\n",
              "    [theme=dark] .colab-df-convert {\n",
              "      background-color: #3B4455;\n",
              "      fill: #D2E3FC;\n",
              "    }\n",
              "\n",
              "    [theme=dark] .colab-df-convert:hover {\n",
              "      background-color: #434B5C;\n",
              "      box-shadow: 0px 1px 3px 1px rgba(0, 0, 0, 0.15);\n",
              "      filter: drop-shadow(0px 1px 2px rgba(0, 0, 0, 0.3));\n",
              "      fill: #FFFFFF;\n",
              "    }\n",
              "  </style>\n",
              "\n",
              "      <script>\n",
              "        const buttonEl =\n",
              "          document.querySelector('#df-fe8e0091-4daa-4abd-bf96-537f3ba6b7cb button.colab-df-convert');\n",
              "        buttonEl.style.display =\n",
              "          google.colab.kernel.accessAllowed ? 'block' : 'none';\n",
              "\n",
              "        async function convertToInteractive(key) {\n",
              "          const element = document.querySelector('#df-fe8e0091-4daa-4abd-bf96-537f3ba6b7cb');\n",
              "          const dataTable =\n",
              "            await google.colab.kernel.invokeFunction('convertToInteractive',\n",
              "                                                     [key], {});\n",
              "          if (!dataTable) return;\n",
              "\n",
              "          const docLinkHtml = 'Like what you see? Visit the ' +\n",
              "            '<a target=\"_blank\" href=https://colab.research.google.com/notebooks/data_table.ipynb>data table notebook</a>'\n",
              "            + ' to learn more about interactive tables.';\n",
              "          element.innerHTML = '';\n",
              "          dataTable['output_type'] = 'display_data';\n",
              "          await google.colab.output.renderOutput(dataTable, element);\n",
              "          const docLink = document.createElement('div');\n",
              "          docLink.innerHTML = docLinkHtml;\n",
              "          element.appendChild(docLink);\n",
              "        }\n",
              "      </script>\n",
              "    </div>\n",
              "  </div>\n",
              "  "
            ],
            "text/plain": [
              "   id keyword location                                               text  \\\n",
              "0   1     nan      nan          deeds reason earthquake may allah forgive   \n",
              "1   4     nan      nan                 forest fire near ronge sask canada   \n",
              "2   5     nan      nan  residents asked shelter place notified officer...   \n",
              "3   6     nan      nan  people receive wildfires evacuation orders cal...   \n",
              "4   7     nan      nan  got sent photo ruby alaska smoke wildfires pou...   \n",
              "\n",
              "   target  \n",
              "0       1  \n",
              "1       1  \n",
              "2       1  \n",
              "3       1  \n",
              "4       1  "
            ]
          },
          "metadata": {},
          "execution_count": 126
        }
      ]
    },
    {
      "cell_type": "code",
      "source": [
        "train_df.sample(10)"
      ],
      "metadata": {
        "colab": {
          "base_uri": "https://localhost:8080/",
          "height": 363
        },
        "id": "m8LvInwB2Rkl",
        "outputId": "b4f81ef3-0d81-4e0c-ec61-3938ddcdb14c"
      },
      "execution_count": 127,
      "outputs": [
        {
          "output_type": "execute_result",
          "data": {
            "text/html": [
              "\n",
              "  <div id=\"df-f8bbc995-b988-4585-a7f5-9a6ad4defa27\">\n",
              "    <div class=\"colab-df-container\">\n",
              "      <div>\n",
              "<style scoped>\n",
              "    .dataframe tbody tr th:only-of-type {\n",
              "        vertical-align: middle;\n",
              "    }\n",
              "\n",
              "    .dataframe tbody tr th {\n",
              "        vertical-align: top;\n",
              "    }\n",
              "\n",
              "    .dataframe thead th {\n",
              "        text-align: right;\n",
              "    }\n",
              "</style>\n",
              "<table border=\"1\" class=\"dataframe\">\n",
              "  <thead>\n",
              "    <tr style=\"text-align: right;\">\n",
              "      <th></th>\n",
              "      <th>id</th>\n",
              "      <th>keyword</th>\n",
              "      <th>location</th>\n",
              "      <th>text</th>\n",
              "      <th>target</th>\n",
              "    </tr>\n",
              "  </thead>\n",
              "  <tbody>\n",
              "    <tr>\n",
              "      <th>553</th>\n",
              "      <td>802</td>\n",
              "      <td>battle</td>\n",
              "      <td>nan</td>\n",
              "      <td>baaaack petersen bowhunting battle bows make s...</td>\n",
              "      <td>0</td>\n",
              "    </tr>\n",
              "    <tr>\n",
              "      <th>1984</th>\n",
              "      <td>2855</td>\n",
              "      <td>damage</td>\n",
              "      <td>cheshire london allover</td>\n",
              "      <td>unions say supportive london yet prepared dama...</td>\n",
              "      <td>0</td>\n",
              "    </tr>\n",
              "    <tr>\n",
              "      <th>2797</th>\n",
              "      <td>4024</td>\n",
              "      <td>disaster</td>\n",
              "      <td>nan</td>\n",
              "      <td>vitaly churkin briliantly exposes hypocrisy uk...</td>\n",
              "      <td>1</td>\n",
              "    </tr>\n",
              "    <tr>\n",
              "      <th>4695</th>\n",
              "      <td>6675</td>\n",
              "      <td>landslide</td>\n",
              "      <td>dundee</td>\n",
              "      <td>dundee news army veteran fears loose rocks dun...</td>\n",
              "      <td>1</td>\n",
              "    </tr>\n",
              "    <tr>\n",
              "      <th>3271</th>\n",
              "      <td>4696</td>\n",
              "      <td>engulfed</td>\n",
              "      <td>london</td>\n",
              "      <td>tube strike live latest travel updates london ...</td>\n",
              "      <td>1</td>\n",
              "    </tr>\n",
              "    <tr>\n",
              "      <th>4242</th>\n",
              "      <td>6027</td>\n",
              "      <td>hazardous</td>\n",
              "      <td>portland</td>\n",
              "      <td>hazard hazardous condition fwy terwilliger blv...</td>\n",
              "      <td>1</td>\n",
              "    </tr>\n",
              "    <tr>\n",
              "      <th>6016</th>\n",
              "      <td>8591</td>\n",
              "      <td>screams</td>\n",
              "      <td>texas</td>\n",
              "      <td>screams mother</td>\n",
              "      <td>0</td>\n",
              "    </tr>\n",
              "    <tr>\n",
              "      <th>122</th>\n",
              "      <td>175</td>\n",
              "      <td>aftershock</td>\n",
              "      <td>nan</td>\n",
              "      <td>moment get scary roller coaster guy behind scr...</td>\n",
              "      <td>0</td>\n",
              "    </tr>\n",
              "    <tr>\n",
              "      <th>6160</th>\n",
              "      <td>8786</td>\n",
              "      <td>siren</td>\n",
              "      <td>flipadelphia</td>\n",
              "      <td>soonermagic_ mean fan need girl sounding like ...</td>\n",
              "      <td>1</td>\n",
              "    </tr>\n",
              "    <tr>\n",
              "      <th>3264</th>\n",
              "      <td>4689</td>\n",
              "      <td>engulfed</td>\n",
              "      <td>usa</td>\n",
              "      <td>car engulfed flames backs traffic parley ûªs s...</td>\n",
              "      <td>1</td>\n",
              "    </tr>\n",
              "  </tbody>\n",
              "</table>\n",
              "</div>\n",
              "      <button class=\"colab-df-convert\" onclick=\"convertToInteractive('df-f8bbc995-b988-4585-a7f5-9a6ad4defa27')\"\n",
              "              title=\"Convert this dataframe to an interactive table.\"\n",
              "              style=\"display:none;\">\n",
              "        \n",
              "  <svg xmlns=\"http://www.w3.org/2000/svg\" height=\"24px\"viewBox=\"0 0 24 24\"\n",
              "       width=\"24px\">\n",
              "    <path d=\"M0 0h24v24H0V0z\" fill=\"none\"/>\n",
              "    <path d=\"M18.56 5.44l.94 2.06.94-2.06 2.06-.94-2.06-.94-.94-2.06-.94 2.06-2.06.94zm-11 1L8.5 8.5l.94-2.06 2.06-.94-2.06-.94L8.5 2.5l-.94 2.06-2.06.94zm10 10l.94 2.06.94-2.06 2.06-.94-2.06-.94-.94-2.06-.94 2.06-2.06.94z\"/><path d=\"M17.41 7.96l-1.37-1.37c-.4-.4-.92-.59-1.43-.59-.52 0-1.04.2-1.43.59L10.3 9.45l-7.72 7.72c-.78.78-.78 2.05 0 2.83L4 21.41c.39.39.9.59 1.41.59.51 0 1.02-.2 1.41-.59l7.78-7.78 2.81-2.81c.8-.78.8-2.07 0-2.86zM5.41 20L4 18.59l7.72-7.72 1.47 1.35L5.41 20z\"/>\n",
              "  </svg>\n",
              "      </button>\n",
              "      \n",
              "  <style>\n",
              "    .colab-df-container {\n",
              "      display:flex;\n",
              "      flex-wrap:wrap;\n",
              "      gap: 12px;\n",
              "    }\n",
              "\n",
              "    .colab-df-convert {\n",
              "      background-color: #E8F0FE;\n",
              "      border: none;\n",
              "      border-radius: 50%;\n",
              "      cursor: pointer;\n",
              "      display: none;\n",
              "      fill: #1967D2;\n",
              "      height: 32px;\n",
              "      padding: 0 0 0 0;\n",
              "      width: 32px;\n",
              "    }\n",
              "\n",
              "    .colab-df-convert:hover {\n",
              "      background-color: #E2EBFA;\n",
              "      box-shadow: 0px 1px 2px rgba(60, 64, 67, 0.3), 0px 1px 3px 1px rgba(60, 64, 67, 0.15);\n",
              "      fill: #174EA6;\n",
              "    }\n",
              "\n",
              "    [theme=dark] .colab-df-convert {\n",
              "      background-color: #3B4455;\n",
              "      fill: #D2E3FC;\n",
              "    }\n",
              "\n",
              "    [theme=dark] .colab-df-convert:hover {\n",
              "      background-color: #434B5C;\n",
              "      box-shadow: 0px 1px 3px 1px rgba(0, 0, 0, 0.15);\n",
              "      filter: drop-shadow(0px 1px 2px rgba(0, 0, 0, 0.3));\n",
              "      fill: #FFFFFF;\n",
              "    }\n",
              "  </style>\n",
              "\n",
              "      <script>\n",
              "        const buttonEl =\n",
              "          document.querySelector('#df-f8bbc995-b988-4585-a7f5-9a6ad4defa27 button.colab-df-convert');\n",
              "        buttonEl.style.display =\n",
              "          google.colab.kernel.accessAllowed ? 'block' : 'none';\n",
              "\n",
              "        async function convertToInteractive(key) {\n",
              "          const element = document.querySelector('#df-f8bbc995-b988-4585-a7f5-9a6ad4defa27');\n",
              "          const dataTable =\n",
              "            await google.colab.kernel.invokeFunction('convertToInteractive',\n",
              "                                                     [key], {});\n",
              "          if (!dataTable) return;\n",
              "\n",
              "          const docLinkHtml = 'Like what you see? Visit the ' +\n",
              "            '<a target=\"_blank\" href=https://colab.research.google.com/notebooks/data_table.ipynb>data table notebook</a>'\n",
              "            + ' to learn more about interactive tables.';\n",
              "          element.innerHTML = '';\n",
              "          dataTable['output_type'] = 'display_data';\n",
              "          await google.colab.output.renderOutput(dataTable, element);\n",
              "          const docLink = document.createElement('div');\n",
              "          docLink.innerHTML = docLinkHtml;\n",
              "          element.appendChild(docLink);\n",
              "        }\n",
              "      </script>\n",
              "    </div>\n",
              "  </div>\n",
              "  "
            ],
            "text/plain": [
              "        id     keyword                 location  \\\n",
              "553    802      battle                      nan   \n",
              "1984  2855      damage  cheshire london allover   \n",
              "2797  4024    disaster                      nan   \n",
              "4695  6675   landslide                   dundee   \n",
              "3271  4696    engulfed                   london   \n",
              "4242  6027   hazardous                 portland   \n",
              "6016  8591     screams                    texas   \n",
              "122    175  aftershock                      nan   \n",
              "6160  8786       siren             flipadelphia   \n",
              "3264  4689    engulfed                      usa   \n",
              "\n",
              "                                                   text  target  \n",
              "553   baaaack petersen bowhunting battle bows make s...       0  \n",
              "1984  unions say supportive london yet prepared dama...       0  \n",
              "2797  vitaly churkin briliantly exposes hypocrisy uk...       1  \n",
              "4695  dundee news army veteran fears loose rocks dun...       1  \n",
              "3271  tube strike live latest travel updates london ...       1  \n",
              "4242  hazard hazardous condition fwy terwilliger blv...       1  \n",
              "6016                                     screams mother       0  \n",
              "122   moment get scary roller coaster guy behind scr...       0  \n",
              "6160  soonermagic_ mean fan need girl sounding like ...       1  \n",
              "3264  car engulfed flames backs traffic parley ûªs s...       1  "
            ]
          },
          "metadata": {},
          "execution_count": 127
        }
      ]
    },
    {
      "cell_type": "markdown",
      "source": [
        "### Text encoding"
      ],
      "metadata": {
        "id": "oPEFRU7HsMc9"
      }
    },
    {
      "cell_type": "code",
      "source": [
        "def define_tokenizer(train_sentences, val_sentences, test_sentences):\n",
        "    sentences = pd.concat([train_sentences, val_sentences, test_sentences])\n",
        "    \n",
        "    tokenizer = tf.keras.preprocessing.text.Tokenizer()\n",
        "    tokenizer.fit_on_texts(sentences)\n",
        "    \n",
        "    return tokenizer\n",
        "    \n",
        "def encode(sentences, tokenizer):\n",
        "    encoded_sentences = tokenizer.texts_to_sequences(sentences)\n",
        "    encoded_sentences = tf.keras.preprocessing.sequence.pad_sequences(encoded_sentences, padding='post')\n",
        "    \n",
        "    return encoded_sentences"
      ],
      "metadata": {
        "id": "aGtKs7rS5LxO"
      },
      "execution_count": 128,
      "outputs": []
    },
    {
      "cell_type": "code",
      "source": [
        "val_data = train_df.tail(1500)\n",
        "train_data = train_df.head(6113)\n",
        "test_data = test_df"
      ],
      "metadata": {
        "id": "28olT-bgXlcm"
      },
      "execution_count": 132,
      "outputs": []
    },
    {
      "cell_type": "code",
      "source": [
        "tokenizer = define_tokenizer(train_data['text'], val_data['text'], test_data['text'])\n",
        "\n",
        "encoded_sentences = encode(train_data['text'], tokenizer)\n",
        "val_encoded_sentences = encode(val_data['text'], tokenizer)\n",
        "encoded_test_sentences = encode(test_data['text'], tokenizer)"
      ],
      "metadata": {
        "id": "NjMqxfxV2hR8"
      },
      "execution_count": 133,
      "outputs": []
    },
    {
      "cell_type": "code",
      "source": [
        "tokenizer.word_index['disaster']"
      ],
      "metadata": {
        "colab": {
          "base_uri": "https://localhost:8080/"
        },
        "id": "NHa86jK63Hc8",
        "outputId": "3d74407e-8d4f-47b2-de7e-8c5a1afb686f"
      },
      "execution_count": 134,
      "outputs": [
        {
          "output_type": "execute_result",
          "data": {
            "text/plain": [
              "12"
            ]
          },
          "metadata": {},
          "execution_count": 134
        }
      ]
    },
    {
      "cell_type": "code",
      "source": [
        "len(tokenizer.word_index)"
      ],
      "metadata": {
        "colab": {
          "base_uri": "https://localhost:8080/"
        },
        "id": "DryvjxBI3Lkr",
        "outputId": "544e9906-b475-45d3-9c56-c1e61160133d"
      },
      "execution_count": 135,
      "outputs": [
        {
          "output_type": "execute_result",
          "data": {
            "text/plain": [
              "19999"
            ]
          },
          "metadata": {},
          "execution_count": 135
        }
      ]
    },
    {
      "cell_type": "code",
      "source": [
        "print(f\"Lower: {tokenizer.get_config()['lower']}\")\n",
        "print(f\"Split: {tokenizer.get_config()['split']}\")\n",
        "print(f\"Filters: {tokenizer.get_config()['filters']}\")"
      ],
      "metadata": {
        "colab": {
          "base_uri": "https://localhost:8080/"
        },
        "id": "-tRPRKovTzoH",
        "outputId": "1c1a97da-f7f8-4d4f-cc11-2e1dae484eaa"
      },
      "execution_count": 136,
      "outputs": [
        {
          "output_type": "stream",
          "name": "stdout",
          "text": [
            "Lower: True\n",
            "Split:  \n",
            "Filters: !\"#$%&()*+,-./:;<=>?@[\\]^_`{|}~\t\n",
            "\n"
          ]
        }
      ]
    },
    {
      "cell_type": "markdown",
      "source": [
        "### Use GloVe Embedding\n",
        "GloVe is an unsupervised learning algorithm for obtaining vector representations for words. Training is performed on aggregated global word-word co-occurrence statistics from a corpus, and the resulting representations showcase interesting linear substructures of the word vector space. Documentation can be [found here](https://nlp.stanford.edu/projects/glove/)."
      ],
      "metadata": {
        "id": "3kxrrMmjJutt"
      }
    },
    {
      "cell_type": "code",
      "source": [
        "embedding_dict = {}\n",
        "\n",
        "with open('./glove.6B.100d.txt','r') as f:\n",
        "    for line in f:\n",
        "        values = line.split()\n",
        "        word = values[0]\n",
        "        vectors = np.asarray(values[1:],'float32')\n",
        "        embedding_dict[word] = vectors\n",
        "        \n",
        "f.close()"
      ],
      "metadata": {
        "id": "0EX0lsnyJRwj"
      },
      "execution_count": 137,
      "outputs": []
    },
    {
      "cell_type": "code",
      "source": [
        "num_words = len(tokenizer.word_index) + 1\n",
        "embedding_matrix = np.zeros((num_words, 100))\n",
        "\n",
        "for word, i in tokenizer.word_index.items():\n",
        "    if i > num_words:\n",
        "        continue\n",
        "    \n",
        "    emb_vec = embedding_dict.get(word)\n",
        "    \n",
        "    if emb_vec is not None:\n",
        "        embedding_matrix[i] = emb_vec"
      ],
      "metadata": {
        "id": "5E6eTatYJRuE"
      },
      "execution_count": 138,
      "outputs": []
    },
    {
      "cell_type": "markdown",
      "source": [
        "## Modeling"
      ],
      "metadata": {
        "id": "NP-vCwKBw11b"
      }
    },
    {
      "cell_type": "markdown",
      "source": [
        "### Setup pipeline\n",
        "We will create a pipeline that:\n",
        "- Shuffle the data per training step\n",
        "- Process the next batch of data for training while the current batch of data is training\n",
        "- Defining each batch as a padded batch"
      ],
      "metadata": {
        "id": "B1bDUVHJWNDc"
      }
    },
    {
      "cell_type": "code",
      "source": [
        "tf_data = tf.data.Dataset.from_tensor_slices((encoded_sentences, train_data['target'].values))\n",
        "\n",
        "def pipeline(tf_data, buffer_size=100, batch_size=32):\n",
        "    tf_data = tf_data.shuffle(buffer_size)    \n",
        "    tf_data = tf_data.prefetch(tf.data.experimental.AUTOTUNE)\n",
        "    tf_data = tf_data.padded_batch(batch_size, padded_shapes=([None],[]))\n",
        "    \n",
        "    return tf_data\n",
        "\n",
        "tf_data = pipeline(tf_data, buffer_size=1000, batch_size=32)"
      ],
      "metadata": {
        "id": "9bF8eP8sWMmJ"
      },
      "execution_count": 139,
      "outputs": []
    },
    {
      "cell_type": "code",
      "source": [
        "print(tf_data)"
      ],
      "metadata": {
        "colab": {
          "base_uri": "https://localhost:8080/"
        },
        "id": "LM41KbtdW_er",
        "outputId": "5ac37d46-3bf8-4b91-dfdc-7988bf8682e3"
      },
      "execution_count": 140,
      "outputs": [
        {
          "output_type": "stream",
          "name": "stdout",
          "text": [
            "<PaddedBatchDataset element_spec=(TensorSpec(shape=(None, None), dtype=tf.int32, name=None), TensorSpec(shape=(None,), dtype=tf.int64, name=None))>\n"
          ]
        }
      ]
    },
    {
      "cell_type": "code",
      "source": [
        "# create pipeline for validation set\n",
        "tf_val_data = tf.data.Dataset.from_tensor_slices((val_encoded_sentences, val_data['target'].values))\n",
        "\n",
        "def val_pipeline(tf_data, batch_size=1):        \n",
        "    tf_data = tf_data.prefetch(tf.data.experimental.AUTOTUNE)\n",
        "    tf_data = tf_data.padded_batch(batch_size, padded_shapes=([None],[]))\n",
        "    \n",
        "    return tf_data\n",
        "\n",
        "tf_val_data = val_pipeline(tf_val_data, batch_size=len(val_data))"
      ],
      "metadata": {
        "id": "Jaqs3uA8W_b9"
      },
      "execution_count": 141,
      "outputs": []
    },
    {
      "cell_type": "code",
      "source": [
        "print(tf_val_data)"
      ],
      "metadata": {
        "colab": {
          "base_uri": "https://localhost:8080/"
        },
        "id": "LLHhQzmAW_Zu",
        "outputId": "ad621ce4-4e86-4950-e7c8-b675824aafa2"
      },
      "execution_count": 142,
      "outputs": [
        {
          "output_type": "stream",
          "name": "stdout",
          "text": [
            "<PaddedBatchDataset element_spec=(TensorSpec(shape=(None, None), dtype=tf.int32, name=None), TensorSpec(shape=(None,), dtype=tf.int64, name=None))>\n"
          ]
        }
      ]
    },
    {
      "cell_type": "markdown",
      "source": [
        "### Train model"
      ],
      "metadata": {
        "id": "G1B19CM5ZKyF"
      }
    },
    {
      "cell_type": "code",
      "source": [
        "embedding = tf.keras.layers.Embedding(\n",
        "    len(tokenizer.word_index) + 1,\n",
        "    100,\n",
        "    embeddings_initializer = tf.keras.initializers.Constant(embedding_matrix),\n",
        "    trainable = True\n",
        ")"
      ],
      "metadata": {
        "id": "_gDZh_fgW_XI"
      },
      "execution_count": 143,
      "outputs": []
    },
    {
      "cell_type": "code",
      "source": [
        "model = tf.keras.Sequential([\n",
        "    embedding,\n",
        "    tf.keras.layers.SpatialDropout1D(0.2),\n",
        "    tf.keras.layers.Bidirectional(tf.keras.layers.LSTM(128, dropout=0.2, recurrent_dropout=0.2)),\n",
        "    tf.keras.layers.Dense(1, activation='sigmoid')\n",
        "])"
      ],
      "metadata": {
        "id": "KCBEnBhRW_UL"
      },
      "execution_count": 144,
      "outputs": []
    },
    {
      "cell_type": "code",
      "source": [
        "model.compile(\n",
        "    loss=tf.keras.losses.BinaryCrossentropy(from_logits=True),\n",
        "    optimizer=tf.keras.optimizers.Adam(0.0001),\n",
        "    metrics=['accuracy', 'Precision', 'Recall']\n",
        ")"
      ],
      "metadata": {
        "id": "k2FyyFLnZPVB"
      },
      "execution_count": 145,
      "outputs": []
    },
    {
      "cell_type": "code",
      "source": [
        "callbacks = [\n",
        "    tf.keras.callbacks.ReduceLROnPlateau(monitor='loss', patience=2, verbose=1),\n",
        "    tf.keras.callbacks.EarlyStopping(monitor='loss', patience=5, verbose=1),\n",
        "]"
      ],
      "metadata": {
        "id": "JJI4TgrFZPR-"
      },
      "execution_count": 146,
      "outputs": []
    },
    {
      "cell_type": "code",
      "source": [
        "history = model.fit(\n",
        "    tf_data, \n",
        "    validation_data = tf_val_data,\n",
        "    epochs = 50,\n",
        "    callbacks = callbacks\n",
        ")"
      ],
      "metadata": {
        "colab": {
          "base_uri": "https://localhost:8080/"
        },
        "id": "qOthNo04ZPPh",
        "outputId": "54c44661-498f-488a-d854-59ec9678b180"
      },
      "execution_count": 147,
      "outputs": [
        {
          "output_type": "stream",
          "name": "stdout",
          "text": [
            "Epoch 1/50\n"
          ]
        },
        {
          "output_type": "stream",
          "name": "stderr",
          "text": [
            "/usr/local/lib/python3.7/dist-packages/tensorflow/python/util/dispatch.py:1082: UserWarning: \"`binary_crossentropy` received `from_logits=True`, but the `output` argument was produced by a sigmoid or softmax activation and thus does not represent logits. Was this intended?\"\n",
            "  return dispatch_target(*args, **kwargs)\n"
          ]
        },
        {
          "output_type": "stream",
          "name": "stdout",
          "text": [
            "192/192 [==============================] - 38s 161ms/step - loss: 0.5735 - accuracy: 0.7248 - precision: 0.7431 - recall: 0.5265 - val_loss: 0.4317 - val_accuracy: 0.8033 - val_precision: 0.8254 - val_recall: 0.7376 - lr: 1.0000e-04\n",
            "Epoch 2/50\n",
            "192/192 [==============================] - 30s 158ms/step - loss: 0.4628 - accuracy: 0.7906 - precision: 0.7977 - recall: 0.6715 - val_loss: 0.4197 - val_accuracy: 0.8107 - val_precision: 0.8165 - val_recall: 0.7702 - lr: 1.0000e-04\n",
            "Epoch 3/50\n",
            "192/192 [==============================] - 31s 159ms/step - loss: 0.4473 - accuracy: 0.7973 - precision: 0.8031 - recall: 0.6851 - val_loss: 0.4129 - val_accuracy: 0.8140 - val_precision: 0.8492 - val_recall: 0.7348 - lr: 1.0000e-04\n",
            "Epoch 4/50\n",
            "192/192 [==============================] - 31s 159ms/step - loss: 0.4372 - accuracy: 0.8037 - precision: 0.8165 - recall: 0.6867 - val_loss: 0.4114 - val_accuracy: 0.8093 - val_precision: 0.8189 - val_recall: 0.7631 - lr: 1.0000e-04\n",
            "Epoch 5/50\n",
            "192/192 [==============================] - 31s 160ms/step - loss: 0.4263 - accuracy: 0.8120 - precision: 0.8225 - recall: 0.7042 - val_loss: 0.4123 - val_accuracy: 0.8120 - val_precision: 0.8133 - val_recall: 0.7787 - lr: 1.0000e-04\n",
            "Epoch 6/50\n",
            "192/192 [==============================] - 31s 159ms/step - loss: 0.4165 - accuracy: 0.8169 - precision: 0.8287 - recall: 0.7108 - val_loss: 0.4057 - val_accuracy: 0.8127 - val_precision: 0.8442 - val_recall: 0.7376 - lr: 1.0000e-04\n",
            "Epoch 7/50\n",
            "192/192 [==============================] - 30s 157ms/step - loss: 0.4066 - accuracy: 0.8230 - precision: 0.8336 - recall: 0.7225 - val_loss: 0.4075 - val_accuracy: 0.8120 - val_precision: 0.8269 - val_recall: 0.7589 - lr: 1.0000e-04\n",
            "Epoch 8/50\n",
            "192/192 [==============================] - 30s 158ms/step - loss: 0.3993 - accuracy: 0.8230 - precision: 0.8336 - recall: 0.7225 - val_loss: 0.4078 - val_accuracy: 0.8133 - val_precision: 0.8571 - val_recall: 0.7234 - lr: 1.0000e-04\n",
            "Epoch 9/50\n",
            "192/192 [==============================] - 31s 161ms/step - loss: 0.3904 - accuracy: 0.8305 - precision: 0.8449 - recall: 0.7303 - val_loss: 0.4073 - val_accuracy: 0.8160 - val_precision: 0.8421 - val_recall: 0.7489 - lr: 1.0000e-04\n",
            "Epoch 10/50\n",
            "192/192 [==============================] - 31s 160ms/step - loss: 0.3866 - accuracy: 0.8335 - precision: 0.8465 - recall: 0.7369 - val_loss: 0.4070 - val_accuracy: 0.8160 - val_precision: 0.8346 - val_recall: 0.7589 - lr: 1.0000e-04\n",
            "Epoch 11/50\n",
            "192/192 [==============================] - 31s 160ms/step - loss: 0.3726 - accuracy: 0.8448 - precision: 0.8585 - recall: 0.7545 - val_loss: 0.4098 - val_accuracy: 0.8153 - val_precision: 0.8333 - val_recall: 0.7589 - lr: 1.0000e-04\n",
            "Epoch 12/50\n",
            "192/192 [==============================] - 34s 178ms/step - loss: 0.3746 - accuracy: 0.8361 - precision: 0.8551 - recall: 0.7338 - val_loss: 0.4093 - val_accuracy: 0.8140 - val_precision: 0.8237 - val_recall: 0.7688 - lr: 1.0000e-04\n",
            "Epoch 13/50\n",
            "192/192 [==============================] - 32s 165ms/step - loss: 0.3588 - accuracy: 0.8475 - precision: 0.8558 - recall: 0.7658 - val_loss: 0.4104 - val_accuracy: 0.8193 - val_precision: 0.8557 - val_recall: 0.7404 - lr: 1.0000e-04\n",
            "Epoch 14/50\n",
            "192/192 [==============================] - 31s 161ms/step - loss: 0.3461 - accuracy: 0.8570 - precision: 0.8666 - recall: 0.7794 - val_loss: 0.4113 - val_accuracy: 0.8180 - val_precision: 0.8518 - val_recall: 0.7418 - lr: 1.0000e-04\n",
            "Epoch 15/50\n",
            "192/192 [==============================] - 31s 159ms/step - loss: 0.3436 - accuracy: 0.8547 - precision: 0.8670 - recall: 0.7724 - val_loss: 0.4157 - val_accuracy: 0.8147 - val_precision: 0.8144 - val_recall: 0.7844 - lr: 1.0000e-04\n",
            "Epoch 16/50\n",
            "192/192 [==============================] - 31s 161ms/step - loss: 0.3342 - accuracy: 0.8611 - precision: 0.8747 - recall: 0.7810 - val_loss: 0.4137 - val_accuracy: 0.8180 - val_precision: 0.8375 - val_recall: 0.7603 - lr: 1.0000e-04\n",
            "Epoch 17/50\n",
            "192/192 [==============================] - 31s 161ms/step - loss: 0.3265 - accuracy: 0.8637 - precision: 0.8772 - recall: 0.7853 - val_loss: 0.4140 - val_accuracy: 0.8160 - val_precision: 0.8255 - val_recall: 0.7716 - lr: 1.0000e-04\n",
            "Epoch 18/50\n",
            "192/192 [==============================] - 31s 160ms/step - loss: 0.3141 - accuracy: 0.8701 - precision: 0.8819 - recall: 0.7973 - val_loss: 0.4233 - val_accuracy: 0.8160 - val_precision: 0.8245 - val_recall: 0.7730 - lr: 1.0000e-04\n",
            "Epoch 19/50\n",
            "192/192 [==============================] - 31s 160ms/step - loss: 0.3125 - accuracy: 0.8719 - precision: 0.8798 - recall: 0.8048 - val_loss: 0.4247 - val_accuracy: 0.8193 - val_precision: 0.8489 - val_recall: 0.7489 - lr: 1.0000e-04\n",
            "Epoch 20/50\n",
            "192/192 [==============================] - 31s 162ms/step - loss: 0.3079 - accuracy: 0.8706 - precision: 0.8844 - recall: 0.7958 - val_loss: 0.4234 - val_accuracy: 0.8120 - val_precision: 0.8406 - val_recall: 0.7404 - lr: 1.0000e-04\n",
            "Epoch 21/50\n",
            "192/192 [==============================] - 30s 158ms/step - loss: 0.2960 - accuracy: 0.8767 - precision: 0.8912 - recall: 0.8044 - val_loss: 0.4288 - val_accuracy: 0.8200 - val_precision: 0.8300 - val_recall: 0.7759 - lr: 1.0000e-04\n",
            "Epoch 22/50\n",
            "192/192 [==============================] - 31s 160ms/step - loss: 0.2884 - accuracy: 0.8778 - precision: 0.8846 - recall: 0.8153 - val_loss: 0.4358 - val_accuracy: 0.8147 - val_precision: 0.8438 - val_recall: 0.7433 - lr: 1.0000e-04\n",
            "Epoch 23/50\n",
            "192/192 [==============================] - 31s 161ms/step - loss: 0.2838 - accuracy: 0.8819 - precision: 0.8890 - recall: 0.8211 - val_loss: 0.4315 - val_accuracy: 0.8200 - val_precision: 0.8222 - val_recall: 0.7872 - lr: 1.0000e-04\n",
            "Epoch 24/50\n",
            "192/192 [==============================] - 31s 163ms/step - loss: 0.2802 - accuracy: 0.8850 - precision: 0.8886 - recall: 0.8301 - val_loss: 0.4310 - val_accuracy: 0.8173 - val_precision: 0.8341 - val_recall: 0.7631 - lr: 1.0000e-04\n",
            "Epoch 25/50\n",
            "192/192 [==============================] - 31s 164ms/step - loss: 0.2738 - accuracy: 0.8873 - precision: 0.8942 - recall: 0.8297 - val_loss: 0.4347 - val_accuracy: 0.8200 - val_precision: 0.8537 - val_recall: 0.7447 - lr: 1.0000e-04\n",
            "Epoch 26/50\n",
            "192/192 [==============================] - 31s 162ms/step - loss: 0.2677 - accuracy: 0.8879 - precision: 0.9014 - recall: 0.8231 - val_loss: 0.4516 - val_accuracy: 0.8047 - val_precision: 0.7943 - val_recall: 0.7887 - lr: 1.0000e-04\n",
            "Epoch 27/50\n",
            "192/192 [==============================] - 31s 163ms/step - loss: 0.2611 - accuracy: 0.8948 - precision: 0.9028 - recall: 0.8398 - val_loss: 0.4460 - val_accuracy: 0.8140 - val_precision: 0.8218 - val_recall: 0.7716 - lr: 1.0000e-04\n",
            "Epoch 28/50\n",
            "192/192 [==============================] - 31s 161ms/step - loss: 0.2539 - accuracy: 0.8961 - precision: 0.9025 - recall: 0.8437 - val_loss: 0.4556 - val_accuracy: 0.8100 - val_precision: 0.8097 - val_recall: 0.7787 - lr: 1.0000e-04\n",
            "Epoch 29/50\n",
            "192/192 [==============================] - 31s 160ms/step - loss: 0.2467 - accuracy: 0.9022 - precision: 0.9066 - recall: 0.8550 - val_loss: 0.4542 - val_accuracy: 0.8047 - val_precision: 0.7960 - val_recall: 0.7858 - lr: 1.0000e-04\n",
            "Epoch 30/50\n",
            "192/192 [==============================] - 30s 159ms/step - loss: 0.2369 - accuracy: 0.9064 - precision: 0.9093 - recall: 0.8632 - val_loss: 0.4671 - val_accuracy: 0.8007 - val_precision: 0.7843 - val_recall: 0.7943 - lr: 1.0000e-04\n",
            "Epoch 31/50\n",
            "192/192 [==============================] - 31s 159ms/step - loss: 0.2324 - accuracy: 0.9072 - precision: 0.9058 - recall: 0.8694 - val_loss: 0.4638 - val_accuracy: 0.8047 - val_precision: 0.7994 - val_recall: 0.7801 - lr: 1.0000e-04\n",
            "Epoch 32/50\n",
            "192/192 [==============================] - 31s 162ms/step - loss: 0.2319 - accuracy: 0.9069 - precision: 0.9101 - recall: 0.8636 - val_loss: 0.4763 - val_accuracy: 0.8053 - val_precision: 0.8006 - val_recall: 0.7801 - lr: 1.0000e-04\n",
            "Epoch 33/50\n",
            "192/192 [==============================] - 31s 159ms/step - loss: 0.2192 - accuracy: 0.9126 - precision: 0.9164 - recall: 0.8714 - val_loss: 0.4732 - val_accuracy: 0.8033 - val_precision: 0.7971 - val_recall: 0.7801 - lr: 1.0000e-04\n",
            "Epoch 34/50\n",
            "192/192 [==============================] - 31s 160ms/step - loss: 0.2224 - accuracy: 0.9107 - precision: 0.9122 - recall: 0.8710 - val_loss: 0.4742 - val_accuracy: 0.8127 - val_precision: 0.8464 - val_recall: 0.7348 - lr: 1.0000e-04\n",
            "Epoch 35/50\n",
            "192/192 [==============================] - 31s 160ms/step - loss: 0.2128 - accuracy: 0.9177 - precision: 0.9212 - recall: 0.8792 - val_loss: 0.4752 - val_accuracy: 0.8073 - val_precision: 0.8260 - val_recall: 0.7475 - lr: 1.0000e-04\n",
            "Epoch 36/50\n",
            "192/192 [==============================] - 31s 160ms/step - loss: 0.2050 - accuracy: 0.9190 - precision: 0.9218 - recall: 0.8819 - val_loss: 0.4899 - val_accuracy: 0.7980 - val_precision: 0.7922 - val_recall: 0.7730 - lr: 1.0000e-04\n",
            "Epoch 37/50\n",
            "192/192 [==============================] - 31s 161ms/step - loss: 0.2028 - accuracy: 0.9198 - precision: 0.9223 - recall: 0.8835 - val_loss: 0.4904 - val_accuracy: 0.8000 - val_precision: 0.7905 - val_recall: 0.7816 - lr: 1.0000e-04\n",
            "Epoch 38/50\n",
            "192/192 [==============================] - 30s 158ms/step - loss: 0.1952 - accuracy: 0.9220 - precision: 0.9193 - recall: 0.8924 - val_loss: 0.5064 - val_accuracy: 0.8113 - val_precision: 0.8540 - val_recall: 0.7220 - lr: 1.0000e-04\n",
            "Epoch 39/50\n",
            "192/192 [==============================] - 31s 160ms/step - loss: 0.1917 - accuracy: 0.9216 - precision: 0.9223 - recall: 0.8882 - val_loss: 0.4877 - val_accuracy: 0.8107 - val_precision: 0.8401 - val_recall: 0.7376 - lr: 1.0000e-04\n",
            "Epoch 40/50\n",
            "192/192 [==============================] - 31s 162ms/step - loss: 0.1854 - accuracy: 0.9297 - precision: 0.9306 - recall: 0.8995 - val_loss: 0.5012 - val_accuracy: 0.7987 - val_precision: 0.7994 - val_recall: 0.7631 - lr: 1.0000e-04\n",
            "Epoch 41/50\n",
            "192/192 [==============================] - 31s 160ms/step - loss: 0.1786 - accuracy: 0.9279 - precision: 0.9276 - recall: 0.8983 - val_loss: 0.5078 - val_accuracy: 0.7967 - val_precision: 0.7825 - val_recall: 0.7858 - lr: 1.0000e-04\n",
            "Epoch 42/50\n",
            "192/192 [==============================] - 31s 161ms/step - loss: 0.1764 - accuracy: 0.9298 - precision: 0.9314 - recall: 0.8991 - val_loss: 0.5319 - val_accuracy: 0.7953 - val_precision: 0.7660 - val_recall: 0.8128 - lr: 1.0000e-04\n",
            "Epoch 43/50\n",
            "192/192 [==============================] - 31s 161ms/step - loss: 0.1767 - accuracy: 0.9287 - precision: 0.9274 - recall: 0.9006 - val_loss: 0.5069 - val_accuracy: 0.8013 - val_precision: 0.7846 - val_recall: 0.7957 - lr: 1.0000e-04\n",
            "Epoch 44/50\n",
            "192/192 [==============================] - 31s 160ms/step - loss: 0.1640 - accuracy: 0.9365 - precision: 0.9353 - recall: 0.9119 - val_loss: 0.5263 - val_accuracy: 0.7993 - val_precision: 0.7936 - val_recall: 0.7745 - lr: 1.0000e-04\n",
            "Epoch 45/50\n",
            "192/192 [==============================] - 31s 160ms/step - loss: 0.1649 - accuracy: 0.9370 - precision: 0.9336 - recall: 0.9150 - val_loss: 0.5195 - val_accuracy: 0.7927 - val_precision: 0.7906 - val_recall: 0.7603 - lr: 1.0000e-04\n",
            "Epoch 46/50\n",
            "192/192 [==============================] - 31s 160ms/step - loss: 0.1585 - accuracy: 0.9369 - precision: 0.9381 - recall: 0.9096 - val_loss: 0.5388 - val_accuracy: 0.7927 - val_precision: 0.7782 - val_recall: 0.7816 - lr: 1.0000e-04\n",
            "Epoch 47/50\n",
            "192/192 [==============================] - 31s 160ms/step - loss: 0.1658 - accuracy: 0.9321 - precision: 0.9256 - recall: 0.9115 - val_loss: 0.5292 - val_accuracy: 0.7960 - val_precision: 0.7912 - val_recall: 0.7688 - lr: 1.0000e-04\n",
            "Epoch 48/50\n",
            "192/192 [==============================] - 31s 160ms/step - loss: 0.1516 - accuracy: 0.9427 - precision: 0.9443 - recall: 0.9178 - val_loss: 0.5415 - val_accuracy: 0.7960 - val_precision: 0.7846 - val_recall: 0.7801 - lr: 1.0000e-04\n",
            "Epoch 49/50\n",
            "192/192 [==============================] - 31s 160ms/step - loss: 0.1509 - accuracy: 0.9444 - precision: 0.9456 - recall: 0.9205 - val_loss: 0.5870 - val_accuracy: 0.7820 - val_precision: 0.7436 - val_recall: 0.8184 - lr: 1.0000e-04\n",
            "Epoch 50/50\n",
            "192/192 [==============================] - 31s 160ms/step - loss: 0.1390 - accuracy: 0.9457 - precision: 0.9419 - recall: 0.9279 - val_loss: 0.5822 - val_accuracy: 0.7780 - val_precision: 0.7467 - val_recall: 0.7986 - lr: 1.0000e-04\n"
          ]
        }
      ]
    },
    {
      "cell_type": "code",
      "source": [
        "metrics = model.evaluate(tf_val_data)\n",
        "# print(model.metrics_names)\n",
        "\n",
        "\n",
        "precision = metrics[2]\n",
        "recall = metrics[3]\n",
        "f1 = 2 * (precision * recall) / (precision + recall)\n",
        "\n",
        "print(f'Accuracy score: {metrics[1]}')\n",
        "print(f'F1 score: {str(f1)}') "
      ],
      "metadata": {
        "colab": {
          "base_uri": "https://localhost:8080/"
        },
        "id": "6iIQFvxgmdp2",
        "outputId": "1f05cf76-2f55-4a21-fb2e-a6232658e89c"
      },
      "execution_count": 219,
      "outputs": [
        {
          "output_type": "stream",
          "name": "stdout",
          "text": [
            "1/1 [==============================] - 1s 590ms/step - loss: 0.5822 - accuracy: 0.7780 - precision: 0.7467 - recall: 0.7986\n",
            "Accuracy score: 0.777999997138977\n",
            "F1 score: 0.7717614831744717\n"
          ]
        }
      ]
    },
    {
      "cell_type": "code",
      "source": [
        "data = {'loss': history.history['loss'],\n",
        "        'accuracy':  history.history['accuracy'],\n",
        "        'precision': history.history['precision'],\n",
        "        'recall': history.history['recall'],\n",
        "        'val_loss': history.history['val_loss'],\n",
        "        'val_accuracy': history.history['val_accuracy']\n",
        "        }\n",
        "\n",
        "hist_df = pd.DataFrame(data)\n",
        "\n",
        "hist_df.head()"
      ],
      "metadata": {
        "colab": {
          "base_uri": "https://localhost:8080/",
          "height": 206
        },
        "id": "1OzkqfoEZPNO",
        "outputId": "45950892-0b81-4114-eecf-961154ea5e5c"
      },
      "execution_count": 153,
      "outputs": [
        {
          "output_type": "execute_result",
          "data": {
            "text/html": [
              "\n",
              "  <div id=\"df-1bf0987e-4d94-4a17-96f8-6e71626f3deb\">\n",
              "    <div class=\"colab-df-container\">\n",
              "      <div>\n",
              "<style scoped>\n",
              "    .dataframe tbody tr th:only-of-type {\n",
              "        vertical-align: middle;\n",
              "    }\n",
              "\n",
              "    .dataframe tbody tr th {\n",
              "        vertical-align: top;\n",
              "    }\n",
              "\n",
              "    .dataframe thead th {\n",
              "        text-align: right;\n",
              "    }\n",
              "</style>\n",
              "<table border=\"1\" class=\"dataframe\">\n",
              "  <thead>\n",
              "    <tr style=\"text-align: right;\">\n",
              "      <th></th>\n",
              "      <th>loss</th>\n",
              "      <th>accuracy</th>\n",
              "      <th>precision</th>\n",
              "      <th>recall</th>\n",
              "      <th>val_loss</th>\n",
              "      <th>val_accuracy</th>\n",
              "    </tr>\n",
              "  </thead>\n",
              "  <tbody>\n",
              "    <tr>\n",
              "      <th>0</th>\n",
              "      <td>0.573515</td>\n",
              "      <td>0.724849</td>\n",
              "      <td>0.743124</td>\n",
              "      <td>0.526500</td>\n",
              "      <td>0.431696</td>\n",
              "      <td>0.803333</td>\n",
              "    </tr>\n",
              "    <tr>\n",
              "      <th>1</th>\n",
              "      <td>0.462765</td>\n",
              "      <td>0.790610</td>\n",
              "      <td>0.797685</td>\n",
              "      <td>0.671473</td>\n",
              "      <td>0.419701</td>\n",
              "      <td>0.810667</td>\n",
              "    </tr>\n",
              "    <tr>\n",
              "      <th>2</th>\n",
              "      <td>0.447268</td>\n",
              "      <td>0.797317</td>\n",
              "      <td>0.803106</td>\n",
              "      <td>0.685113</td>\n",
              "      <td>0.412946</td>\n",
              "      <td>0.814000</td>\n",
              "    </tr>\n",
              "    <tr>\n",
              "      <th>3</th>\n",
              "      <td>0.437176</td>\n",
              "      <td>0.803697</td>\n",
              "      <td>0.816497</td>\n",
              "      <td>0.686672</td>\n",
              "      <td>0.411430</td>\n",
              "      <td>0.809333</td>\n",
              "    </tr>\n",
              "    <tr>\n",
              "      <th>4</th>\n",
              "      <td>0.426269</td>\n",
              "      <td>0.812040</td>\n",
              "      <td>0.822485</td>\n",
              "      <td>0.704209</td>\n",
              "      <td>0.412314</td>\n",
              "      <td>0.812000</td>\n",
              "    </tr>\n",
              "  </tbody>\n",
              "</table>\n",
              "</div>\n",
              "      <button class=\"colab-df-convert\" onclick=\"convertToInteractive('df-1bf0987e-4d94-4a17-96f8-6e71626f3deb')\"\n",
              "              title=\"Convert this dataframe to an interactive table.\"\n",
              "              style=\"display:none;\">\n",
              "        \n",
              "  <svg xmlns=\"http://www.w3.org/2000/svg\" height=\"24px\"viewBox=\"0 0 24 24\"\n",
              "       width=\"24px\">\n",
              "    <path d=\"M0 0h24v24H0V0z\" fill=\"none\"/>\n",
              "    <path d=\"M18.56 5.44l.94 2.06.94-2.06 2.06-.94-2.06-.94-.94-2.06-.94 2.06-2.06.94zm-11 1L8.5 8.5l.94-2.06 2.06-.94-2.06-.94L8.5 2.5l-.94 2.06-2.06.94zm10 10l.94 2.06.94-2.06 2.06-.94-2.06-.94-.94-2.06-.94 2.06-2.06.94z\"/><path d=\"M17.41 7.96l-1.37-1.37c-.4-.4-.92-.59-1.43-.59-.52 0-1.04.2-1.43.59L10.3 9.45l-7.72 7.72c-.78.78-.78 2.05 0 2.83L4 21.41c.39.39.9.59 1.41.59.51 0 1.02-.2 1.41-.59l7.78-7.78 2.81-2.81c.8-.78.8-2.07 0-2.86zM5.41 20L4 18.59l7.72-7.72 1.47 1.35L5.41 20z\"/>\n",
              "  </svg>\n",
              "      </button>\n",
              "      \n",
              "  <style>\n",
              "    .colab-df-container {\n",
              "      display:flex;\n",
              "      flex-wrap:wrap;\n",
              "      gap: 12px;\n",
              "    }\n",
              "\n",
              "    .colab-df-convert {\n",
              "      background-color: #E8F0FE;\n",
              "      border: none;\n",
              "      border-radius: 50%;\n",
              "      cursor: pointer;\n",
              "      display: none;\n",
              "      fill: #1967D2;\n",
              "      height: 32px;\n",
              "      padding: 0 0 0 0;\n",
              "      width: 32px;\n",
              "    }\n",
              "\n",
              "    .colab-df-convert:hover {\n",
              "      background-color: #E2EBFA;\n",
              "      box-shadow: 0px 1px 2px rgba(60, 64, 67, 0.3), 0px 1px 3px 1px rgba(60, 64, 67, 0.15);\n",
              "      fill: #174EA6;\n",
              "    }\n",
              "\n",
              "    [theme=dark] .colab-df-convert {\n",
              "      background-color: #3B4455;\n",
              "      fill: #D2E3FC;\n",
              "    }\n",
              "\n",
              "    [theme=dark] .colab-df-convert:hover {\n",
              "      background-color: #434B5C;\n",
              "      box-shadow: 0px 1px 3px 1px rgba(0, 0, 0, 0.15);\n",
              "      filter: drop-shadow(0px 1px 2px rgba(0, 0, 0, 0.3));\n",
              "      fill: #FFFFFF;\n",
              "    }\n",
              "  </style>\n",
              "\n",
              "      <script>\n",
              "        const buttonEl =\n",
              "          document.querySelector('#df-1bf0987e-4d94-4a17-96f8-6e71626f3deb button.colab-df-convert');\n",
              "        buttonEl.style.display =\n",
              "          google.colab.kernel.accessAllowed ? 'block' : 'none';\n",
              "\n",
              "        async function convertToInteractive(key) {\n",
              "          const element = document.querySelector('#df-1bf0987e-4d94-4a17-96f8-6e71626f3deb');\n",
              "          const dataTable =\n",
              "            await google.colab.kernel.invokeFunction('convertToInteractive',\n",
              "                                                     [key], {});\n",
              "          if (!dataTable) return;\n",
              "\n",
              "          const docLinkHtml = 'Like what you see? Visit the ' +\n",
              "            '<a target=\"_blank\" href=https://colab.research.google.com/notebooks/data_table.ipynb>data table notebook</a>'\n",
              "            + ' to learn more about interactive tables.';\n",
              "          element.innerHTML = '';\n",
              "          dataTable['output_type'] = 'display_data';\n",
              "          await google.colab.output.renderOutput(dataTable, element);\n",
              "          const docLink = document.createElement('div');\n",
              "          docLink.innerHTML = docLinkHtml;\n",
              "          element.appendChild(docLink);\n",
              "        }\n",
              "      </script>\n",
              "    </div>\n",
              "  </div>\n",
              "  "
            ],
            "text/plain": [
              "       loss  accuracy  precision    recall  val_loss  val_accuracy\n",
              "0  0.573515  0.724849   0.743124  0.526500  0.431696      0.803333\n",
              "1  0.462765  0.790610   0.797685  0.671473  0.419701      0.810667\n",
              "2  0.447268  0.797317   0.803106  0.685113  0.412946      0.814000\n",
              "3  0.437176  0.803697   0.816497  0.686672  0.411430      0.809333\n",
              "4  0.426269  0.812040   0.822485  0.704209  0.412314      0.812000"
            ]
          },
          "metadata": {},
          "execution_count": 153
        }
      ]
    },
    {
      "cell_type": "code",
      "source": [
        "fig, axs = plt.subplots(1, 4, figsize=(20, 5))\n",
        "\n",
        "axs[0].set_title('Loss')\n",
        "axs[0].plot(history.history['loss'], label='train')\n",
        "axs[0].plot(history.history['val_loss'], label='val')\n",
        "axs[0].legend()\n",
        "\n",
        "axs[1].set_title('Accuracy')\n",
        "axs[1].plot(history.history['accuracy'], label='train')\n",
        "axs[1].plot(history.history['val_accuracy'], label='val')\n",
        "axs[1].legend()\n",
        "\n",
        "axs[2].set_title('Precision')\n",
        "axs[2].plot(history.history['precision'], label='train')\n",
        "axs[2].plot(history.history['val_accuracy'], label='val')\n",
        "axs[2].legend()\n",
        "\n",
        "axs[3].set_title('Recall')\n",
        "axs[3].plot(history.history['recall'], label='train')\n",
        "axs[3].plot(history.history['val_loss'], label='val')\n",
        "axs[3].legend()"
      ],
      "metadata": {
        "colab": {
          "base_uri": "https://localhost:8080/",
          "height": 354
        },
        "id": "cgjWNPIBmnxB",
        "outputId": "e4e96a62-cf67-4e8e-d56a-da5ac52af160"
      },
      "execution_count": 154,
      "outputs": [
        {
          "output_type": "execute_result",
          "data": {
            "text/plain": [
              "<matplotlib.legend.Legend at 0x7f5b25921450>"
            ]
          },
          "metadata": {},
          "execution_count": 154
        },
        {
          "output_type": "display_data",
          "data": {
            "image/png": "[encoded data removed]",
            "text/plain": [
              "<Figure size 1440x360 with 4 Axes>"
            ]
          },
          "metadata": {
            "needs_background": "light"
          }
        }
      ]
    },
    {
      "cell_type": "code",
      "source": [
        "# plot loss\n",
        "pyplot.title('Cross Entropy Loss')\n",
        "pyplot.plot(hist_df['loss'], color='blue', label='train')\n",
        "pyplot.plot(hist_df['val_loss'], color='orange', label='test')\n",
        "pyplot.legend()\n",
        "pyplot.show()\n",
        "\n",
        "# plot accuracy\n",
        "pyplot.title('Classification Accuracy')\n",
        "pyplot.plot(hist_df['accuracy'], color='blue', label='train')\n",
        "pyplot.plot(hist_df['val_accuracy'], color='orange', label='test')\n",
        "pyplot.legend()\n",
        "pyplot.show()"
      ],
      "metadata": {
        "colab": {
          "base_uri": "https://localhost:8080/",
          "height": 544
        },
        "id": "TjgER4dBZPKm",
        "outputId": "bf44ac1b-fe6a-4f38-af4c-399c5e9a0aa4"
      },
      "execution_count": 155,
      "outputs": [
        {
          "output_type": "display_data",
          "data": {
            "image/png": "[encoded data removed]",
            "text/plain": [
              "<Figure size 432x288 with 1 Axes>"
            ]
          },
          "metadata": {
            "needs_background": "light"
          }
        },
        {
          "output_type": "display_data",
          "data": {
            "image/png": "[encoded data removed]",
            "text/plain": [
              "<Figure size 432x288 with 1 Axes>"
            ]
          },
          "metadata": {
            "needs_background": "light"
          }
        }
      ]
    },
    {
      "cell_type": "code",
      "source": [
        "# Check for number of false positives\n",
        "predictions = model.predict(tf_val_data)\n",
        "predictions = np.concatenate(predictions).round().astype(int)\n",
        "val_data['predictions'] = predictions\n",
        "\n",
        "false_positives = val_data[(val_data['predictions'] == 1) & (val_data['target'] == 0)]\n",
        "\n",
        "print(f'Count of false positives: {str(len(false_positives))}\\n\\n')"
      ],
      "metadata": {
        "colab": {
          "base_uri": "https://localhost:8080/"
        },
        "id": "4t4GZW78EL1P",
        "outputId": "a9c9b502-35b8-44b3-c442-216b69e074c3"
      },
      "execution_count": 201,
      "outputs": [
        {
          "output_type": "stream",
          "name": "stdout",
          "text": [
            "Count of false positives: 191\n",
            "\n",
            "\n"
          ]
        },
        {
          "output_type": "stream",
          "name": "stderr",
          "text": [
            "/usr/local/lib/python3.7/dist-packages/ipykernel_launcher.py:4: SettingWithCopyWarning: \n",
            "A value is trying to be set on a copy of a slice from a DataFrame.\n",
            "Try using .loc[row_indexer,col_indexer] = value instead\n",
            "\n",
            "See the caveats in the documentation: https://pandas.pydata.org/pandas-docs/stable/user_guide/indexing.html#returning-a-view-versus-a-copy\n",
            "  after removing the cwd from sys.path.\n"
          ]
        }
      ]
    },
    {
      "cell_type": "code",
      "source": [
        "# Look at false positives\n",
        "false_positives.head(10)"
      ],
      "metadata": {
        "colab": {
          "base_uri": "https://localhost:8080/",
          "height": 363
        },
        "id": "xfzi-uMnELyv",
        "outputId": "66dda030-315b-405d-80e8-fcc7cd98f6e4"
      },
      "execution_count": 202,
      "outputs": [
        {
          "output_type": "execute_result",
          "data": {
            "text/html": [
              "\n",
              "  <div id=\"df-fe081c57-6147-4b2a-a25a-fefa580d9088\">\n",
              "    <div class=\"colab-df-container\">\n",
              "      <div>\n",
              "<style scoped>\n",
              "    .dataframe tbody tr th:only-of-type {\n",
              "        vertical-align: middle;\n",
              "    }\n",
              "\n",
              "    .dataframe tbody tr th {\n",
              "        vertical-align: top;\n",
              "    }\n",
              "\n",
              "    .dataframe thead th {\n",
              "        text-align: right;\n",
              "    }\n",
              "</style>\n",
              "<table border=\"1\" class=\"dataframe\">\n",
              "  <thead>\n",
              "    <tr style=\"text-align: right;\">\n",
              "      <th></th>\n",
              "      <th>id</th>\n",
              "      <th>keyword</th>\n",
              "      <th>location</th>\n",
              "      <th>text</th>\n",
              "      <th>target</th>\n",
              "      <th>predictions</th>\n",
              "    </tr>\n",
              "  </thead>\n",
              "  <tbody>\n",
              "    <tr>\n",
              "      <th>6121</th>\n",
              "      <td>8737</td>\n",
              "      <td>sinking</td>\n",
              "      <td>london</td>\n",
              "      <td>slowly sinking wasting edsheeran</td>\n",
              "      <td>0</td>\n",
              "      <td>1</td>\n",
              "    </tr>\n",
              "    <tr>\n",
              "      <th>6159</th>\n",
              "      <td>8785</td>\n",
              "      <td>siren</td>\n",
              "      <td>nan</td>\n",
              "      <td>outdoor siren test fgcu siren tested today ano...</td>\n",
              "      <td>0</td>\n",
              "      <td>1</td>\n",
              "    </tr>\n",
              "    <tr>\n",
              "      <th>6161</th>\n",
              "      <td>8787</td>\n",
              "      <td>siren</td>\n",
              "      <td>nan</td>\n",
              "      <td>hate damn milwaukee indyfest cars sound like r...</td>\n",
              "      <td>0</td>\n",
              "      <td>1</td>\n",
              "    </tr>\n",
              "    <tr>\n",
              "      <th>6168</th>\n",
              "      <td>8797</td>\n",
              "      <td>sirens</td>\n",
              "      <td>canada</td>\n",
              "      <td>raychielovesu block hear sirens amp stories ki...</td>\n",
              "      <td>0</td>\n",
              "      <td>1</td>\n",
              "    </tr>\n",
              "    <tr>\n",
              "      <th>6186</th>\n",
              "      <td>8831</td>\n",
              "      <td>sirens</td>\n",
              "      <td>los angles</td>\n",
              "      <td>going hollywood abceyewitness abc helicopters ...</td>\n",
              "      <td>0</td>\n",
              "      <td>1</td>\n",
              "    </tr>\n",
              "    <tr>\n",
              "      <th>6217</th>\n",
              "      <td>8871</td>\n",
              "      <td>smoke</td>\n",
              "      <td>nan</td>\n",
              "      <td>trynna smoke hoe</td>\n",
              "      <td>0</td>\n",
              "      <td>1</td>\n",
              "    </tr>\n",
              "    <tr>\n",
              "      <th>6227</th>\n",
              "      <td>8888</td>\n",
              "      <td>smoke</td>\n",
              "      <td>indonesia</td>\n",
              "      <td>teamatowinner mean mino said smoke mention</td>\n",
              "      <td>0</td>\n",
              "      <td>1</td>\n",
              "    </tr>\n",
              "    <tr>\n",
              "      <th>6231</th>\n",
              "      <td>8896</td>\n",
              "      <td>snowstorm</td>\n",
              "      <td>nan</td>\n",
              "      <td>yall poem called one snowstorm meet space one ...</td>\n",
              "      <td>0</td>\n",
              "      <td>1</td>\n",
              "    </tr>\n",
              "    <tr>\n",
              "      <th>6233</th>\n",
              "      <td>8900</td>\n",
              "      <td>snowstorm</td>\n",
              "      <td>huntington</td>\n",
              "      <td>sorry built fire desk already irishirr mchapma...</td>\n",
              "      <td>0</td>\n",
              "      <td>1</td>\n",
              "    </tr>\n",
              "    <tr>\n",
              "      <th>6240</th>\n",
              "      <td>8912</td>\n",
              "      <td>snowstorm</td>\n",
              "      <td>south usa</td>\n",
              "      <td>sassy city girl country hunk stranded smoky mo...</td>\n",
              "      <td>0</td>\n",
              "      <td>1</td>\n",
              "    </tr>\n",
              "  </tbody>\n",
              "</table>\n",
              "</div>\n",
              "      <button class=\"colab-df-convert\" onclick=\"convertToInteractive('df-fe081c57-6147-4b2a-a25a-fefa580d9088')\"\n",
              "              title=\"Convert this dataframe to an interactive table.\"\n",
              "              style=\"display:none;\">\n",
              "        \n",
              "  <svg xmlns=\"http://www.w3.org/2000/svg\" height=\"24px\"viewBox=\"0 0 24 24\"\n",
              "       width=\"24px\">\n",
              "    <path d=\"M0 0h24v24H0V0z\" fill=\"none\"/>\n",
              "    <path d=\"M18.56 5.44l.94 2.06.94-2.06 2.06-.94-2.06-.94-.94-2.06-.94 2.06-2.06.94zm-11 1L8.5 8.5l.94-2.06 2.06-.94-2.06-.94L8.5 2.5l-.94 2.06-2.06.94zm10 10l.94 2.06.94-2.06 2.06-.94-2.06-.94-.94-2.06-.94 2.06-2.06.94z\"/><path d=\"M17.41 7.96l-1.37-1.37c-.4-.4-.92-.59-1.43-.59-.52 0-1.04.2-1.43.59L10.3 9.45l-7.72 7.72c-.78.78-.78 2.05 0 2.83L4 21.41c.39.39.9.59 1.41.59.51 0 1.02-.2 1.41-.59l7.78-7.78 2.81-2.81c.8-.78.8-2.07 0-2.86zM5.41 20L4 18.59l7.72-7.72 1.47 1.35L5.41 20z\"/>\n",
              "  </svg>\n",
              "      </button>\n",
              "      \n",
              "  <style>\n",
              "    .colab-df-container {\n",
              "      display:flex;\n",
              "      flex-wrap:wrap;\n",
              "      gap: 12px;\n",
              "    }\n",
              "\n",
              "    .colab-df-convert {\n",
              "      background-color: #E8F0FE;\n",
              "      border: none;\n",
              "      border-radius: 50%;\n",
              "      cursor: pointer;\n",
              "      display: none;\n",
              "      fill: #1967D2;\n",
              "      height: 32px;\n",
              "      padding: 0 0 0 0;\n",
              "      width: 32px;\n",
              "    }\n",
              "\n",
              "    .colab-df-convert:hover {\n",
              "      background-color: #E2EBFA;\n",
              "      box-shadow: 0px 1px 2px rgba(60, 64, 67, 0.3), 0px 1px 3px 1px rgba(60, 64, 67, 0.15);\n",
              "      fill: #174EA6;\n",
              "    }\n",
              "\n",
              "    [theme=dark] .colab-df-convert {\n",
              "      background-color: #3B4455;\n",
              "      fill: #D2E3FC;\n",
              "    }\n",
              "\n",
              "    [theme=dark] .colab-df-convert:hover {\n",
              "      background-color: #434B5C;\n",
              "      box-shadow: 0px 1px 3px 1px rgba(0, 0, 0, 0.15);\n",
              "      filter: drop-shadow(0px 1px 2px rgba(0, 0, 0, 0.3));\n",
              "      fill: #FFFFFF;\n",
              "    }\n",
              "  </style>\n",
              "\n",
              "      <script>\n",
              "        const buttonEl =\n",
              "          document.querySelector('#df-fe081c57-6147-4b2a-a25a-fefa580d9088 button.colab-df-convert');\n",
              "        buttonEl.style.display =\n",
              "          google.colab.kernel.accessAllowed ? 'block' : 'none';\n",
              "\n",
              "        async function convertToInteractive(key) {\n",
              "          const element = document.querySelector('#df-fe081c57-6147-4b2a-a25a-fefa580d9088');\n",
              "          const dataTable =\n",
              "            await google.colab.kernel.invokeFunction('convertToInteractive',\n",
              "                                                     [key], {});\n",
              "          if (!dataTable) return;\n",
              "\n",
              "          const docLinkHtml = 'Like what you see? Visit the ' +\n",
              "            '<a target=\"_blank\" href=https://colab.research.google.com/notebooks/data_table.ipynb>data table notebook</a>'\n",
              "            + ' to learn more about interactive tables.';\n",
              "          element.innerHTML = '';\n",
              "          dataTable['output_type'] = 'display_data';\n",
              "          await google.colab.output.renderOutput(dataTable, element);\n",
              "          const docLink = document.createElement('div');\n",
              "          docLink.innerHTML = docLinkHtml;\n",
              "          element.appendChild(docLink);\n",
              "        }\n",
              "      </script>\n",
              "    </div>\n",
              "  </div>\n",
              "  "
            ],
            "text/plain": [
              "        id    keyword    location  \\\n",
              "6121  8737    sinking      london   \n",
              "6159  8785      siren         nan   \n",
              "6161  8787      siren         nan   \n",
              "6168  8797     sirens      canada   \n",
              "6186  8831     sirens  los angles   \n",
              "6217  8871      smoke         nan   \n",
              "6227  8888      smoke   indonesia   \n",
              "6231  8896  snowstorm         nan   \n",
              "6233  8900  snowstorm  huntington   \n",
              "6240  8912  snowstorm   south usa   \n",
              "\n",
              "                                                   text  target  predictions  \n",
              "6121                   slowly sinking wasting edsheeran       0            1  \n",
              "6159  outdoor siren test fgcu siren tested today ano...       0            1  \n",
              "6161  hate damn milwaukee indyfest cars sound like r...       0            1  \n",
              "6168  raychielovesu block hear sirens amp stories ki...       0            1  \n",
              "6186  going hollywood abceyewitness abc helicopters ...       0            1  \n",
              "6217                                   trynna smoke hoe       0            1  \n",
              "6227         teamatowinner mean mino said smoke mention       0            1  \n",
              "6231  yall poem called one snowstorm meet space one ...       0            1  \n",
              "6233  sorry built fire desk already irishirr mchapma...       0            1  \n",
              "6240  sassy city girl country hunk stranded smoky mo...       0            1  "
            ]
          },
          "metadata": {},
          "execution_count": 202
        }
      ]
    },
    {
      "cell_type": "code",
      "source": [
        "# Check for number of false negatives\n",
        "false_negatives = val_data[(val_data['predictions'] == 0) & (val_data['target'] == 1)]\n",
        "\n",
        "print(f'Count of false negatives: {str(len(false_negatives))}')"
      ],
      "metadata": {
        "colab": {
          "base_uri": "https://localhost:8080/"
        },
        "id": "NxUv0a_7ELvm",
        "outputId": "0d442f25-a593-4f53-e6e3-a70c2a770498"
      },
      "execution_count": 203,
      "outputs": [
        {
          "output_type": "stream",
          "name": "stdout",
          "text": [
            "Count of false negatives: 142\n"
          ]
        }
      ]
    },
    {
      "cell_type": "code",
      "source": [
        "# Look at false negatives\n",
        "false_positives.tail(10)"
      ],
      "metadata": {
        "colab": {
          "base_uri": "https://localhost:8080/",
          "height": 363
        },
        "id": "H5sSJyyEELqE",
        "outputId": "58f41f15-4087-48af-efb8-2b56411da0e0"
      },
      "execution_count": 204,
      "outputs": [
        {
          "output_type": "execute_result",
          "data": {
            "text/html": [
              "\n",
              "  <div id=\"df-9a6f76fa-cabf-4eeb-919f-67d5a26e5bf1\">\n",
              "    <div class=\"colab-df-container\">\n",
              "      <div>\n",
              "<style scoped>\n",
              "    .dataframe tbody tr th:only-of-type {\n",
              "        vertical-align: middle;\n",
              "    }\n",
              "\n",
              "    .dataframe tbody tr th {\n",
              "        vertical-align: top;\n",
              "    }\n",
              "\n",
              "    .dataframe thead th {\n",
              "        text-align: right;\n",
              "    }\n",
              "</style>\n",
              "<table border=\"1\" class=\"dataframe\">\n",
              "  <thead>\n",
              "    <tr style=\"text-align: right;\">\n",
              "      <th></th>\n",
              "      <th>id</th>\n",
              "      <th>keyword</th>\n",
              "      <th>location</th>\n",
              "      <th>text</th>\n",
              "      <th>target</th>\n",
              "      <th>predictions</th>\n",
              "    </tr>\n",
              "  </thead>\n",
              "  <tbody>\n",
              "    <tr>\n",
              "      <th>7459</th>\n",
              "      <td>10675</td>\n",
              "      <td>wounds</td>\n",
              "      <td>north carolina</td>\n",
              "      <td>court back session testimony continues med exa...</td>\n",
              "      <td>0</td>\n",
              "      <td>1</td>\n",
              "    </tr>\n",
              "    <tr>\n",
              "      <th>7467</th>\n",
              "      <td>10684</td>\n",
              "      <td>wounds</td>\n",
              "      <td>charlotte</td>\n",
              "      <td>says many wounds could fatal rather quickly ot...</td>\n",
              "      <td>0</td>\n",
              "      <td>1</td>\n",
              "    </tr>\n",
              "    <tr>\n",
              "      <th>7472</th>\n",
              "      <td>10689</td>\n",
              "      <td>wreck</td>\n",
              "      <td>nan</td>\n",
              "      <td>wreck wreck wreck wreck wreck wreck wreck wrec...</td>\n",
              "      <td>0</td>\n",
              "      <td>1</td>\n",
              "    </tr>\n",
              "    <tr>\n",
              "      <th>7476</th>\n",
              "      <td>10693</td>\n",
              "      <td>wreck</td>\n",
              "      <td>pratt wye</td>\n",
              "      <td>many cars cyclists wreck going past scratching...</td>\n",
              "      <td>0</td>\n",
              "      <td>1</td>\n",
              "    </tr>\n",
              "    <tr>\n",
              "      <th>7487</th>\n",
              "      <td>10709</td>\n",
              "      <td>wreck</td>\n",
              "      <td>nan</td>\n",
              "      <td>emotions train wreck body train wreck wreck</td>\n",
              "      <td>0</td>\n",
              "      <td>1</td>\n",
              "    </tr>\n",
              "    <tr>\n",
              "      <th>7497</th>\n",
              "      <td>10724</td>\n",
              "      <td>wreck</td>\n",
              "      <td>innsmouth mass</td>\n",
              "      <td>staged locomotive wreck could possibly wrong</td>\n",
              "      <td>0</td>\n",
              "      <td>1</td>\n",
              "    </tr>\n",
              "    <tr>\n",
              "      <th>7548</th>\n",
              "      <td>10789</td>\n",
              "      <td>wrecked</td>\n",
              "      <td>pennsylvania</td>\n",
              "      <td>four hundred wrecked cars costing apiece purch...</td>\n",
              "      <td>0</td>\n",
              "      <td>1</td>\n",
              "    </tr>\n",
              "    <tr>\n",
              "      <th>7551</th>\n",
              "      <td>10794</td>\n",
              "      <td>wrecked</td>\n",
              "      <td>nan</td>\n",
              "      <td>freeway africa til wrecked audi</td>\n",
              "      <td>0</td>\n",
              "      <td>1</td>\n",
              "    </tr>\n",
              "    <tr>\n",
              "      <th>7579</th>\n",
              "      <td>10831</td>\n",
              "      <td>wrecked</td>\n",
              "      <td>vancouver canada</td>\n",
              "      <td>three days work pretty much wrecked hahaha sho...</td>\n",
              "      <td>0</td>\n",
              "      <td>1</td>\n",
              "    </tr>\n",
              "    <tr>\n",
              "      <th>7581</th>\n",
              "      <td>10833</td>\n",
              "      <td>wrecked</td>\n",
              "      <td>lincoln</td>\n",
              "      <td>engineshed great atmosphere british lion gig t...</td>\n",
              "      <td>0</td>\n",
              "      <td>1</td>\n",
              "    </tr>\n",
              "  </tbody>\n",
              "</table>\n",
              "</div>\n",
              "      <button class=\"colab-df-convert\" onclick=\"convertToInteractive('df-9a6f76fa-cabf-4eeb-919f-67d5a26e5bf1')\"\n",
              "              title=\"Convert this dataframe to an interactive table.\"\n",
              "              style=\"display:none;\">\n",
              "        \n",
              "  <svg xmlns=\"http://www.w3.org/2000/svg\" height=\"24px\"viewBox=\"0 0 24 24\"\n",
              "       width=\"24px\">\n",
              "    <path d=\"M0 0h24v24H0V0z\" fill=\"none\"/>\n",
              "    <path d=\"M18.56 5.44l.94 2.06.94-2.06 2.06-.94-2.06-.94-.94-2.06-.94 2.06-2.06.94zm-11 1L8.5 8.5l.94-2.06 2.06-.94-2.06-.94L8.5 2.5l-.94 2.06-2.06.94zm10 10l.94 2.06.94-2.06 2.06-.94-2.06-.94-.94-2.06-.94 2.06-2.06.94z\"/><path d=\"M17.41 7.96l-1.37-1.37c-.4-.4-.92-.59-1.43-.59-.52 0-1.04.2-1.43.59L10.3 9.45l-7.72 7.72c-.78.78-.78 2.05 0 2.83L4 21.41c.39.39.9.59 1.41.59.51 0 1.02-.2 1.41-.59l7.78-7.78 2.81-2.81c.8-.78.8-2.07 0-2.86zM5.41 20L4 18.59l7.72-7.72 1.47 1.35L5.41 20z\"/>\n",
              "  </svg>\n",
              "      </button>\n",
              "      \n",
              "  <style>\n",
              "    .colab-df-container {\n",
              "      display:flex;\n",
              "      flex-wrap:wrap;\n",
              "      gap: 12px;\n",
              "    }\n",
              "\n",
              "    .colab-df-convert {\n",
              "      background-color: #E8F0FE;\n",
              "      border: none;\n",
              "      border-radius: 50%;\n",
              "      cursor: pointer;\n",
              "      display: none;\n",
              "      fill: #1967D2;\n",
              "      height: 32px;\n",
              "      padding: 0 0 0 0;\n",
              "      width: 32px;\n",
              "    }\n",
              "\n",
              "    .colab-df-convert:hover {\n",
              "      background-color: #E2EBFA;\n",
              "      box-shadow: 0px 1px 2px rgba(60, 64, 67, 0.3), 0px 1px 3px 1px rgba(60, 64, 67, 0.15);\n",
              "      fill: #174EA6;\n",
              "    }\n",
              "\n",
              "    [theme=dark] .colab-df-convert {\n",
              "      background-color: #3B4455;\n",
              "      fill: #D2E3FC;\n",
              "    }\n",
              "\n",
              "    [theme=dark] .colab-df-convert:hover {\n",
              "      background-color: #434B5C;\n",
              "      box-shadow: 0px 1px 3px 1px rgba(0, 0, 0, 0.15);\n",
              "      filter: drop-shadow(0px 1px 2px rgba(0, 0, 0, 0.3));\n",
              "      fill: #FFFFFF;\n",
              "    }\n",
              "  </style>\n",
              "\n",
              "      <script>\n",
              "        const buttonEl =\n",
              "          document.querySelector('#df-9a6f76fa-cabf-4eeb-919f-67d5a26e5bf1 button.colab-df-convert');\n",
              "        buttonEl.style.display =\n",
              "          google.colab.kernel.accessAllowed ? 'block' : 'none';\n",
              "\n",
              "        async function convertToInteractive(key) {\n",
              "          const element = document.querySelector('#df-9a6f76fa-cabf-4eeb-919f-67d5a26e5bf1');\n",
              "          const dataTable =\n",
              "            await google.colab.kernel.invokeFunction('convertToInteractive',\n",
              "                                                     [key], {});\n",
              "          if (!dataTable) return;\n",
              "\n",
              "          const docLinkHtml = 'Like what you see? Visit the ' +\n",
              "            '<a target=\"_blank\" href=https://colab.research.google.com/notebooks/data_table.ipynb>data table notebook</a>'\n",
              "            + ' to learn more about interactive tables.';\n",
              "          element.innerHTML = '';\n",
              "          dataTable['output_type'] = 'display_data';\n",
              "          await google.colab.output.renderOutput(dataTable, element);\n",
              "          const docLink = document.createElement('div');\n",
              "          docLink.innerHTML = docLinkHtml;\n",
              "          element.appendChild(docLink);\n",
              "        }\n",
              "      </script>\n",
              "    </div>\n",
              "  </div>\n",
              "  "
            ],
            "text/plain": [
              "         id  keyword          location  \\\n",
              "7459  10675   wounds    north carolina   \n",
              "7467  10684   wounds         charlotte   \n",
              "7472  10689    wreck               nan   \n",
              "7476  10693    wreck         pratt wye   \n",
              "7487  10709    wreck               nan   \n",
              "7497  10724    wreck    innsmouth mass   \n",
              "7548  10789  wrecked      pennsylvania   \n",
              "7551  10794  wrecked               nan   \n",
              "7579  10831  wrecked  vancouver canada   \n",
              "7581  10833  wrecked           lincoln   \n",
              "\n",
              "                                                   text  target  predictions  \n",
              "7459  court back session testimony continues med exa...       0            1  \n",
              "7467  says many wounds could fatal rather quickly ot...       0            1  \n",
              "7472  wreck wreck wreck wreck wreck wreck wreck wrec...       0            1  \n",
              "7476  many cars cyclists wreck going past scratching...       0            1  \n",
              "7487        emotions train wreck body train wreck wreck       0            1  \n",
              "7497       staged locomotive wreck could possibly wrong       0            1  \n",
              "7548  four hundred wrecked cars costing apiece purch...       0            1  \n",
              "7551                    freeway africa til wrecked audi       0            1  \n",
              "7579  three days work pretty much wrecked hahaha sho...       0            1  \n",
              "7581  engineshed great atmosphere british lion gig t...       0            1  "
            ]
          },
          "metadata": {},
          "execution_count": 204
        }
      ]
    },
    {
      "cell_type": "markdown",
      "source": [
        "### Make prediction"
      ],
      "metadata": {
        "id": "zbOLeS95l2Fw"
      }
    },
    {
      "cell_type": "code",
      "source": [
        "tf_test_data = tf.data.Dataset.from_tensor_slices((encoded_test_sentences))\n",
        "\n",
        "def test_pipeline(tf_data, batch_size=1):        \n",
        "    tf_data = tf_data.prefetch(tf.data.experimental.AUTOTUNE)\n",
        "    tf_data = tf_data.padded_batch(batch_size, padded_shapes=([None]))\n",
        "    \n",
        "    return tf_data\n",
        "\n",
        "tf_test_data = test_pipeline(tf_test_data)"
      ],
      "metadata": {
        "id": "R5vJ95Cc0i_h"
      },
      "execution_count": 210,
      "outputs": []
    },
    {
      "cell_type": "code",
      "source": [
        "pred = model.predict(tf_test_data)"
      ],
      "metadata": {
        "id": "Ht9P4kuG317q"
      },
      "execution_count": 213,
      "outputs": []
    },
    {
      "cell_type": "code",
      "source": [
        "pred = np.concatenate(pred).round().astype(int)"
      ],
      "metadata": {
        "id": "fcCxdcVM5nw0"
      },
      "execution_count": 214,
      "outputs": []
    },
    {
      "cell_type": "code",
      "source": [
        "sub = pd.DataFrame(data={'target': pred}, index=test_data['id'])\n",
        "sub.index = sub.index.rename('id')\n",
        "sub.to_csv('drive/MyDrive/Colab Notebooks/NLP_Disaster_Tweets/submission1.csv')"
      ],
      "metadata": {
        "id": "fd_l2Ny-50fT"
      },
      "execution_count": 215,
      "outputs": []
    }
  ]
}