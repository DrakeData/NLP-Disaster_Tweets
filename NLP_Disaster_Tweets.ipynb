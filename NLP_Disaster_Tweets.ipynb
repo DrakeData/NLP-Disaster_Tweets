{
  "nbformat": 4,
  "nbformat_minor": 0,
  "metadata": {
    "colab": {
      "name": "NLP_Disaster Tweets.ipynb",
      "provenance": [],
      "toc_visible": true,
      "mount_file_id": "1EBkSLo8xPc3mE5hlPpvBFt4P9XMb6qe3",
      "authorship_tag": "ABX9TyPRmMe9nRNhq9iyNhVQGWOo",
      "include_colab_link": true
    },
    "kernelspec": {
      "name": "python3",
      "display_name": "Python 3"
    },
    "language_info": {
      "name": "python"
    }
  },
  "cells": [
    {
      "cell_type": "markdown",
      "metadata": {
        "id": "view-in-github",
        "colab_type": "text"
      },
      "source": [
        "<a href=\"https://colab.research.google.com/github/DrakeData/NLP-Disaster_Tweets/blob/main/NLP_Disaster_Tweets.ipynb\" target=\"_parent\"><img src=\"https://colab.research.google.com/assets/colab-badge.svg\" alt=\"Open In Colab\"/></a>"
      ]
    },
    {
      "cell_type": "markdown",
      "source": [
        "# NLP Disaster Tweets\n",
        "The data is from a [Kaggle competition](https://www.kaggle.com/c/nlp-getting-started/overview) titled \"Natural Language Processing with Disaster Tweets\". The objective is to use NLP with disaster tweets to determine whether a tweet refers to a disaster or not."
      ],
      "metadata": {
        "id": "Hy3SMCGqrxMM"
      }
    },
    {
      "cell_type": "code",
      "execution_count": 74,
      "metadata": {
        "id": "OsEYa8ENrSds"
      },
      "outputs": [],
      "source": [
        "import pandas as pd\n",
        "import matplotlib.pyplot as plt\n",
        "import seaborn as sns\n",
        "import numpy as np\n",
        "import tensorflow as tf\n",
        "from IPython.display import clear_output\n",
        "import random\n",
        "import os\n",
        "import nltk\n",
        "from nltk.tokenize import RegexpTokenizer\n",
        "from sklearn.metrics import accuracy_score\n",
        "from keras.callbacks import CSVLogger\n",
        "from nltk.stem import WordNetLemmatizer, PorterStemmer\n",
        "from nltk.corpus import stopwords\n",
        "import matplotlib.pyplot as plt\n",
        "from matplotlib import pyplot\n",
        "from sklearn.feature_extraction.text import CountVectorizer,TfidfVectorizer, TfidfTransformer\n",
        "from keras.preprocessing.text import Tokenizer\n",
        "from keras.preprocessing.sequence import pad_sequences\n",
        "from keras.models import Sequential, load_model\n",
        "from keras.layers import LSTM, GRU\n",
        "from keras.layers import Dense, Embedding, Bidirectional, Dropout, Flatten\n",
        "from tensorflow.keras.optimizers import Adam\n",
        "from nltk.stem import SnowballStemmer\n",
        "import re\n",
        "import tensorflow_hub as hub"
      ]
    },
    {
      "cell_type": "markdown",
      "source": [
        "## Ingest\n",
        "Donwloading the data from Kaggle's API"
      ],
      "metadata": {
        "id": "E-kPzgwCsWxD"
      }
    },
    {
      "cell_type": "code",
      "source": [
        "! pip install kaggle"
      ],
      "metadata": {
        "colab": {
          "base_uri": "https://localhost:8080/"
        },
        "id": "HYPO3RqWsVLa",
        "outputId": "f56528d1-2670-4a0e-af87-e81db105563f"
      },
      "execution_count": 2,
      "outputs": [
        {
          "output_type": "stream",
          "name": "stdout",
          "text": [
            "Requirement already satisfied: kaggle in /usr/local/lib/python3.7/dist-packages (1.5.12)\n",
            "Requirement already satisfied: tqdm in /usr/local/lib/python3.7/dist-packages (from kaggle) (4.63.0)\n",
            "Requirement already satisfied: requests in /usr/local/lib/python3.7/dist-packages (from kaggle) (2.23.0)\n",
            "Requirement already satisfied: certifi in /usr/local/lib/python3.7/dist-packages (from kaggle) (2021.10.8)\n",
            "Requirement already satisfied: six>=1.10 in /usr/local/lib/python3.7/dist-packages (from kaggle) (1.15.0)\n",
            "Requirement already satisfied: python-slugify in /usr/local/lib/python3.7/dist-packages (from kaggle) (6.1.1)\n",
            "Requirement already satisfied: urllib3 in /usr/local/lib/python3.7/dist-packages (from kaggle) (1.24.3)\n",
            "Requirement already satisfied: python-dateutil in /usr/local/lib/python3.7/dist-packages (from kaggle) (2.8.2)\n",
            "Requirement already satisfied: text-unidecode>=1.3 in /usr/local/lib/python3.7/dist-packages (from python-slugify->kaggle) (1.3)\n",
            "Requirement already satisfied: chardet<4,>=3.0.2 in /usr/local/lib/python3.7/dist-packages (from requests->kaggle) (3.0.4)\n",
            "Requirement already satisfied: idna<3,>=2.5 in /usr/local/lib/python3.7/dist-packages (from requests->kaggle) (2.10)\n"
          ]
        }
      ]
    },
    {
      "cell_type": "code",
      "source": [
        "! mkdir ~/.kaggle"
      ],
      "metadata": {
        "colab": {
          "base_uri": "https://localhost:8080/"
        },
        "id": "Ix-ZZ7nPvdLt",
        "outputId": "874a7bd2-8587-4df3-e99b-5618fc2dd3c9"
      },
      "execution_count": 3,
      "outputs": [
        {
          "output_type": "stream",
          "name": "stdout",
          "text": [
            "mkdir: cannot create directory ‘/root/.kaggle’: File exists\n"
          ]
        }
      ]
    },
    {
      "cell_type": "code",
      "source": [
        "! cp './drive/MyDrive/Colab Notebooks/API Keys/kaggle.json' ~/.kaggle/"
      ],
      "metadata": {
        "id": "oic19J0Fve7y"
      },
      "execution_count": 4,
      "outputs": []
    },
    {
      "cell_type": "code",
      "source": [
        "! chmod 600 ~/.kaggle/kaggle.json"
      ],
      "metadata": {
        "id": "NF3_ScFFvgnI"
      },
      "execution_count": 5,
      "outputs": []
    },
    {
      "cell_type": "code",
      "source": [
        "! kaggle competitions download nlp-getting-started"
      ],
      "metadata": {
        "colab": {
          "base_uri": "https://localhost:8080/"
        },
        "id": "sywCpNMMvmW7",
        "outputId": "28091726-fcd5-47a5-8584-2d7b8e696a00"
      },
      "execution_count": 6,
      "outputs": [
        {
          "output_type": "stream",
          "name": "stdout",
          "text": [
            "Warning: Looks like you're using an outdated API Version, please consider updating (server 1.5.12 / client 1.5.4)\n",
            "sample_submission.csv: Skipping, found more recently modified local copy (use --force to force download)\n",
            "test.csv: Skipping, found more recently modified local copy (use --force to force download)\n",
            "train.csv: Skipping, found more recently modified local copy (use --force to force download)\n"
          ]
        }
      ]
    },
    {
      "cell_type": "markdown",
      "source": [
        "The below line of code allows us to download Global Vectors for Word Representation (GloVe). \n",
        "\n",
        "From [GloVe's Documentation](https://nlp.stanford.edu/projects/glove/): GloVe is an unsupervised learning algorithm for obtaining vector representations for words. Training is performed on aggregated global word-word co-occurrence statistics from a corpus, and the resulting representations showcase interesting linear substructures of the word vector space."
      ],
      "metadata": {
        "id": "y-Z8YWu1hK56"
      }
    },
    {
      "cell_type": "code",
      "source": [
        "! wget http://nlp.stanford.edu/data/glove.6B.zip"
      ],
      "metadata": {
        "colab": {
          "base_uri": "https://localhost:8080/"
        },
        "id": "4W2FtLEpIA7l",
        "outputId": "0264a96b-c2ed-4943-8452-915076b052dc"
      },
      "execution_count": 7,
      "outputs": [
        {
          "output_type": "stream",
          "name": "stdout",
          "text": [
            "--2022-03-07 01:56:54--  http://nlp.stanford.edu/data/glove.6B.zip\n",
            "Resolving nlp.stanford.edu (nlp.stanford.edu)... 171.64.67.140\n",
            "Connecting to nlp.stanford.edu (nlp.stanford.edu)|171.64.67.140|:80... connected.\n",
            "HTTP request sent, awaiting response... 302 Found\n",
            "Location: https://nlp.stanford.edu/data/glove.6B.zip [following]\n",
            "--2022-03-07 01:56:54--  https://nlp.stanford.edu/data/glove.6B.zip\n",
            "Connecting to nlp.stanford.edu (nlp.stanford.edu)|171.64.67.140|:443... connected.\n",
            "HTTP request sent, awaiting response... 301 Moved Permanently\n",
            "Location: http://downloads.cs.stanford.edu/nlp/data/glove.6B.zip [following]\n",
            "--2022-03-07 01:56:55--  http://downloads.cs.stanford.edu/nlp/data/glove.6B.zip\n",
            "Resolving downloads.cs.stanford.edu (downloads.cs.stanford.edu)... 171.64.64.22\n",
            "Connecting to downloads.cs.stanford.edu (downloads.cs.stanford.edu)|171.64.64.22|:80... connected.\n",
            "HTTP request sent, awaiting response... 200 OK\n",
            "Length: 862182613 (822M) [application/zip]\n",
            "Saving to: ‘glove.6B.zip.1’\n",
            "\n",
            "glove.6B.zip.1        5%[>                   ]  42.50M  8.19MB/s    eta 1m 41s ^C\n"
          ]
        }
      ]
    },
    {
      "cell_type": "code",
      "source": [
        "! unzip glove*.zip"
      ],
      "metadata": {
        "colab": {
          "base_uri": "https://localhost:8080/"
        },
        "id": "qcPqCicgI4gE",
        "outputId": "58daa324-bfc0-4d53-f589-95c1a3665d92"
      },
      "execution_count": 8,
      "outputs": [
        {
          "output_type": "stream",
          "name": "stdout",
          "text": [
            "Archive:  glove.6B.zip\n",
            "replace glove.6B.50d.txt? [y]es, [n]o, [A]ll, [N]one, [r]ename: "
          ]
        }
      ]
    },
    {
      "cell_type": "code",
      "source": [
        "train_df = pd.read_csv('train.csv')\n",
        "\n",
        "test_df = pd.read_csv('test.csv')"
      ],
      "metadata": {
        "id": "NPpXanNFwefB"
      },
      "execution_count": 9,
      "outputs": []
    },
    {
      "cell_type": "markdown",
      "source": [
        "## EDA\n",
        "Exploratory Data Analysis\n"
      ],
      "metadata": {
        "id": "podxhxnRwZw3"
      }
    },
    {
      "cell_type": "code",
      "source": [
        "# Look at random sample of 10\n",
        "train_df.sample(10)"
      ],
      "metadata": {
        "colab": {
          "base_uri": "https://localhost:8080/",
          "height": 363
        },
        "id": "Dm3X13FLvr3K",
        "outputId": "c0b0c301-e2af-4a3a-8aa4-d1efb63a5b61"
      },
      "execution_count": 10,
      "outputs": [
        {
          "output_type": "execute_result",
          "data": {
            "text/html": [
              "\n",
              "  <div id=\"df-4f5c218a-219c-43c9-93e8-67400effb35c\">\n",
              "    <div class=\"colab-df-container\">\n",
              "      <div>\n",
              "<style scoped>\n",
              "    .dataframe tbody tr th:only-of-type {\n",
              "        vertical-align: middle;\n",
              "    }\n",
              "\n",
              "    .dataframe tbody tr th {\n",
              "        vertical-align: top;\n",
              "    }\n",
              "\n",
              "    .dataframe thead th {\n",
              "        text-align: right;\n",
              "    }\n",
              "</style>\n",
              "<table border=\"1\" class=\"dataframe\">\n",
              "  <thead>\n",
              "    <tr style=\"text-align: right;\">\n",
              "      <th></th>\n",
              "      <th>id</th>\n",
              "      <th>keyword</th>\n",
              "      <th>location</th>\n",
              "      <th>text</th>\n",
              "      <th>target</th>\n",
              "    </tr>\n",
              "  </thead>\n",
              "  <tbody>\n",
              "    <tr>\n",
              "      <th>2807</th>\n",
              "      <td>4038</td>\n",
              "      <td>disaster</td>\n",
              "      <td>los angeles</td>\n",
              "      <td>Keeps askin me what this means\\nNot like i got...</td>\n",
              "      <td>1</td>\n",
              "    </tr>\n",
              "    <tr>\n",
              "      <th>2934</th>\n",
              "      <td>4216</td>\n",
              "      <td>drowned</td>\n",
              "      <td>Colorado Springs</td>\n",
              "      <td>http://t.co/riWuP1RbHu Jacksonville family ban...</td>\n",
              "      <td>0</td>\n",
              "    </tr>\n",
              "    <tr>\n",
              "      <th>3858</th>\n",
              "      <td>5488</td>\n",
              "      <td>flames</td>\n",
              "      <td>Sioux Falls, S.D.</td>\n",
              "      <td>RP said they can see smoke coming from the sil...</td>\n",
              "      <td>1</td>\n",
              "    </tr>\n",
              "    <tr>\n",
              "      <th>1981</th>\n",
              "      <td>2852</td>\n",
              "      <td>cyclone</td>\n",
              "      <td>Made in America</td>\n",
              "      <td>Cyclone by Double G would be the cherry on top...</td>\n",
              "      <td>0</td>\n",
              "    </tr>\n",
              "    <tr>\n",
              "      <th>6325</th>\n",
              "      <td>9041</td>\n",
              "      <td>stretcher</td>\n",
              "      <td>3???2???????</td>\n",
              "      <td>ÛÏStretcher in 5 min // Speaker DeckÛ http:...</td>\n",
              "      <td>0</td>\n",
              "    </tr>\n",
              "    <tr>\n",
              "      <th>4991</th>\n",
              "      <td>7121</td>\n",
              "      <td>military</td>\n",
              "      <td>NaN</td>\n",
              "      <td>13 reasons why we love women in the military  ...</td>\n",
              "      <td>0</td>\n",
              "    </tr>\n",
              "    <tr>\n",
              "      <th>1282</th>\n",
              "      <td>1848</td>\n",
              "      <td>burned</td>\n",
              "      <td>NaN</td>\n",
              "      <td>Holy fuck QVC bitch just got burned so hard.</td>\n",
              "      <td>0</td>\n",
              "    </tr>\n",
              "    <tr>\n",
              "      <th>1251</th>\n",
              "      <td>1807</td>\n",
              "      <td>buildings%20on%20fire</td>\n",
              "      <td>UK</td>\n",
              "      <td>#TweetLikeItsSeptember11th2001 Those two build...</td>\n",
              "      <td>1</td>\n",
              "    </tr>\n",
              "    <tr>\n",
              "      <th>6176</th>\n",
              "      <td>8808</td>\n",
              "      <td>sirens</td>\n",
              "      <td>Denver, CO</td>\n",
              "      <td>#SirensIcebreaker What is one fantasy work abo...</td>\n",
              "      <td>0</td>\n",
              "    </tr>\n",
              "    <tr>\n",
              "      <th>5032</th>\n",
              "      <td>7175</td>\n",
              "      <td>mudslide</td>\n",
              "      <td>NaN</td>\n",
              "      <td>You've 100% fucked up when Paul says your cake...</td>\n",
              "      <td>0</td>\n",
              "    </tr>\n",
              "  </tbody>\n",
              "</table>\n",
              "</div>\n",
              "      <button class=\"colab-df-convert\" onclick=\"convertToInteractive('df-4f5c218a-219c-43c9-93e8-67400effb35c')\"\n",
              "              title=\"Convert this dataframe to an interactive table.\"\n",
              "              style=\"display:none;\">\n",
              "        \n",
              "  <svg xmlns=\"http://www.w3.org/2000/svg\" height=\"24px\"viewBox=\"0 0 24 24\"\n",
              "       width=\"24px\">\n",
              "    <path d=\"M0 0h24v24H0V0z\" fill=\"none\"/>\n",
              "    <path d=\"M18.56 5.44l.94 2.06.94-2.06 2.06-.94-2.06-.94-.94-2.06-.94 2.06-2.06.94zm-11 1L8.5 8.5l.94-2.06 2.06-.94-2.06-.94L8.5 2.5l-.94 2.06-2.06.94zm10 10l.94 2.06.94-2.06 2.06-.94-2.06-.94-.94-2.06-.94 2.06-2.06.94z\"/><path d=\"M17.41 7.96l-1.37-1.37c-.4-.4-.92-.59-1.43-.59-.52 0-1.04.2-1.43.59L10.3 9.45l-7.72 7.72c-.78.78-.78 2.05 0 2.83L4 21.41c.39.39.9.59 1.41.59.51 0 1.02-.2 1.41-.59l7.78-7.78 2.81-2.81c.8-.78.8-2.07 0-2.86zM5.41 20L4 18.59l7.72-7.72 1.47 1.35L5.41 20z\"/>\n",
              "  </svg>\n",
              "      </button>\n",
              "      \n",
              "  <style>\n",
              "    .colab-df-container {\n",
              "      display:flex;\n",
              "      flex-wrap:wrap;\n",
              "      gap: 12px;\n",
              "    }\n",
              "\n",
              "    .colab-df-convert {\n",
              "      background-color: #E8F0FE;\n",
              "      border: none;\n",
              "      border-radius: 50%;\n",
              "      cursor: pointer;\n",
              "      display: none;\n",
              "      fill: #1967D2;\n",
              "      height: 32px;\n",
              "      padding: 0 0 0 0;\n",
              "      width: 32px;\n",
              "    }\n",
              "\n",
              "    .colab-df-convert:hover {\n",
              "      background-color: #E2EBFA;\n",
              "      box-shadow: 0px 1px 2px rgba(60, 64, 67, 0.3), 0px 1px 3px 1px rgba(60, 64, 67, 0.15);\n",
              "      fill: #174EA6;\n",
              "    }\n",
              "\n",
              "    [theme=dark] .colab-df-convert {\n",
              "      background-color: #3B4455;\n",
              "      fill: #D2E3FC;\n",
              "    }\n",
              "\n",
              "    [theme=dark] .colab-df-convert:hover {\n",
              "      background-color: #434B5C;\n",
              "      box-shadow: 0px 1px 3px 1px rgba(0, 0, 0, 0.15);\n",
              "      filter: drop-shadow(0px 1px 2px rgba(0, 0, 0, 0.3));\n",
              "      fill: #FFFFFF;\n",
              "    }\n",
              "  </style>\n",
              "\n",
              "      <script>\n",
              "        const buttonEl =\n",
              "          document.querySelector('#df-4f5c218a-219c-43c9-93e8-67400effb35c button.colab-df-convert');\n",
              "        buttonEl.style.display =\n",
              "          google.colab.kernel.accessAllowed ? 'block' : 'none';\n",
              "\n",
              "        async function convertToInteractive(key) {\n",
              "          const element = document.querySelector('#df-4f5c218a-219c-43c9-93e8-67400effb35c');\n",
              "          const dataTable =\n",
              "            await google.colab.kernel.invokeFunction('convertToInteractive',\n",
              "                                                     [key], {});\n",
              "          if (!dataTable) return;\n",
              "\n",
              "          const docLinkHtml = 'Like what you see? Visit the ' +\n",
              "            '<a target=\"_blank\" href=https://colab.research.google.com/notebooks/data_table.ipynb>data table notebook</a>'\n",
              "            + ' to learn more about interactive tables.';\n",
              "          element.innerHTML = '';\n",
              "          dataTable['output_type'] = 'display_data';\n",
              "          await google.colab.output.renderOutput(dataTable, element);\n",
              "          const docLink = document.createElement('div');\n",
              "          docLink.innerHTML = docLinkHtml;\n",
              "          element.appendChild(docLink);\n",
              "        }\n",
              "      </script>\n",
              "    </div>\n",
              "  </div>\n",
              "  "
            ],
            "text/plain": [
              "        id                keyword            location  \\\n",
              "2807  4038               disaster         los angeles   \n",
              "2934  4216                drowned    Colorado Springs   \n",
              "3858  5488                 flames  Sioux Falls, S.D.    \n",
              "1981  2852                cyclone     Made in America   \n",
              "6325  9041              stretcher        3???2???????   \n",
              "4991  7121               military                 NaN   \n",
              "1282  1848                 burned                 NaN   \n",
              "1251  1807  buildings%20on%20fire                  UK   \n",
              "6176  8808                 sirens          Denver, CO   \n",
              "5032  7175               mudslide                 NaN   \n",
              "\n",
              "                                                   text  target  \n",
              "2807  Keeps askin me what this means\\nNot like i got...       1  \n",
              "2934  http://t.co/riWuP1RbHu Jacksonville family ban...       0  \n",
              "3858  RP said they can see smoke coming from the sil...       1  \n",
              "1981  Cyclone by Double G would be the cherry on top...       0  \n",
              "6325  ÛÏStretcher in 5 min // Speaker DeckÛ http:...       0  \n",
              "4991  13 reasons why we love women in the military  ...       0  \n",
              "1282       Holy fuck QVC bitch just got burned so hard.       0  \n",
              "1251  #TweetLikeItsSeptember11th2001 Those two build...       1  \n",
              "6176  #SirensIcebreaker What is one fantasy work abo...       0  \n",
              "5032  You've 100% fucked up when Paul says your cake...       0  "
            ]
          },
          "metadata": {},
          "execution_count": 10
        }
      ]
    },
    {
      "cell_type": "markdown",
      "source": [
        "Column notes:\n",
        "- id: tweet unique identifier\n",
        "- keyword: keyword from the tweet; can return blank\n",
        "- location: location that the tweet was sent from; can return blank\n",
        "- text: text from tweet\n",
        "- target: labels the tweet if the tweet is about a real disaster (1) or not (0)"
      ],
      "metadata": {
        "id": "znpZB2STxDe0"
      }
    },
    {
      "cell_type": "code",
      "source": [
        "# Check shape of data sets\n",
        "print(f\"Train data set shape: {train_df.shape}\")\n",
        "print(f\"Test data set shape: {test_df.shape}\")"
      ],
      "metadata": {
        "colab": {
          "base_uri": "https://localhost:8080/"
        },
        "id": "YoKPHwSkCXgy",
        "outputId": "d879aee0-af0f-45e1-8d71-ae76efe0d4f4"
      },
      "execution_count": 11,
      "outputs": [
        {
          "output_type": "stream",
          "name": "stdout",
          "text": [
            "Train data set shape: (7613, 5)\n",
            "Test data set shape: (3263, 4)\n"
          ]
        }
      ]
    },
    {
      "cell_type": "code",
      "source": [
        "# Check missing values\n",
        "print(f\"Train Dataset missing data: \\n{train_df.isnull().sum()}\\n\")\n",
        "print(f\"Test Dataset missing data: \\n{test_df.isnull().sum()}\")"
      ],
      "metadata": {
        "colab": {
          "base_uri": "https://localhost:8080/"
        },
        "id": "t_BR8EqJCXdC",
        "outputId": "285c874d-6427-4b5f-dec3-3cb62df8d014"
      },
      "execution_count": 12,
      "outputs": [
        {
          "output_type": "stream",
          "name": "stdout",
          "text": [
            "Train Dataset missing data: \n",
            "id             0\n",
            "keyword       61\n",
            "location    2533\n",
            "text           0\n",
            "target         0\n",
            "dtype: int64\n",
            "\n",
            "Test Dataset missing data: \n",
            "id             0\n",
            "keyword       26\n",
            "location    1105\n",
            "text           0\n",
            "dtype: int64\n"
          ]
        }
      ]
    },
    {
      "cell_type": "code",
      "source": [
        "train_df['target'].value_counts()"
      ],
      "metadata": {
        "colab": {
          "base_uri": "https://localhost:8080/"
        },
        "id": "xUFc9UzLh3n4",
        "outputId": "79103775-e304-430d-8f24-f5ef8eeb6af1"
      },
      "execution_count": 13,
      "outputs": [
        {
          "output_type": "execute_result",
          "data": {
            "text/plain": [
              "0    4342\n",
              "1    3271\n",
              "Name: target, dtype: int64"
            ]
          },
          "metadata": {},
          "execution_count": 13
        }
      ]
    },
    {
      "cell_type": "code",
      "source": [
        "sns.countplot(x='target', data=train_df);"
      ],
      "metadata": {
        "colab": {
          "base_uri": "https://localhost:8080/",
          "height": 278
        },
        "id": "ScUax2YJcGuo",
        "outputId": "aed66472-91f7-4e5f-f1f5-517c08ee7345"
      },
      "execution_count": 14,
      "outputs": [
        {
          "output_type": "display_data",
          "data": {
            "image/png": "[encoded data removed]",
            "text/plain": [
              "<Figure size 432x288 with 1 Axes>"
            ]
          },
          "metadata": {
            "needs_background": "light"
          }
        }
      ]
    },
    {
      "cell_type": "code",
      "source": [
        "# Check key words\n",
        "keywords_check = train_df[\"keyword\"].value_counts()[:20].to_frame()\n",
        "\n",
        "fig = plt.figure(figsize=(15,6))\n",
        "sns.barplot(data=keywords_check, x=keywords_check.index, y=\"keyword\", palette=\"PRGn\")\n",
        "plt.title(\"Most common keywords\",size=16)\n",
        "plt.xticks(rotation=70,size=12);"
      ],
      "metadata": {
        "colab": {
          "base_uri": "https://localhost:8080/",
          "height": 466
        },
        "id": "ac0oTqz3poBT",
        "outputId": "0dd6cd68-3c1f-4ab0-962c-8a69a25f588f"
      },
      "execution_count": 15,
      "outputs": [
        {
          "output_type": "display_data",
          "data": {
            "image/png": "[encoded data removed]",
            "text/plain": [
              "<Figure size 1080x432 with 1 Axes>"
            ]
          },
          "metadata": {
            "needs_background": "light"
          }
        }
      ]
    },
    {
      "cell_type": "markdown",
      "source": [
        "### Preprocessing\n",
        "- Make all text lowercase\n",
        "- Remove special characters\n",
        "- Remove numbers \n",
        "- Remove stop words\n",
        "- Remove extra spacing (whitespace)\n",
        "- Remove weblinks\n",
        "- Expand contractions when possible\n",
        "- Stemming - reduce extra characters from a word to its root or base of a word.\n",
        "- Tokenize - task of breaking a phrase into smaller sections\n",
        "\n"
      ],
      "metadata": {
        "id": "yIRMum7XzuVs"
      }
    },
    {
      "cell_type": "code",
      "source": [
        "nltk.download('stopwords')\n",
        "nltk.download('wordnet')"
      ],
      "metadata": {
        "colab": {
          "base_uri": "https://localhost:8080/"
        },
        "id": "8FKnrB8snOWV",
        "outputId": "1b9bc365-d2f8-4a30-96ec-43d62f74db01"
      },
      "execution_count": 16,
      "outputs": [
        {
          "output_type": "stream",
          "name": "stdout",
          "text": [
            "[nltk_data] Downloading package stopwords to /root/nltk_data...\n",
            "[nltk_data]   Package stopwords is already up-to-date!\n",
            "[nltk_data] Downloading package wordnet to /root/nltk_data...\n",
            "[nltk_data]   Package wordnet is already up-to-date!\n"
          ]
        },
        {
          "output_type": "execute_result",
          "data": {
            "text/plain": [
              "True"
            ]
          },
          "metadata": {},
          "execution_count": 16
        }
      ]
    },
    {
      "cell_type": "code",
      "source": [
        "def remove_emoji(string):\n",
        "  '''\n",
        "  Remove emojies from text\n",
        "  '''\n",
        "  emoji_pattern = re.compile(\"[\"\n",
        "  u\"\\U0001F600-\\U0001F64F\"\n",
        "  u\"\\U0001F300-\\U0001F5FF\"\n",
        "  u\"\\U0001F680-\\U0001F6FF\"\n",
        "  u\"\\U0001F1E0-\\U0001F1FF\"\n",
        "  u\"\\U00002702-\\U000027B0\"\n",
        "  u\"\\U000024C2-\\U0001F251\"\n",
        "  u\"\\U0001f926-\\U0001f937\"\n",
        "  u'\\U00010000-\\U0010ffff'\n",
        "  u\"\\u200d\"\n",
        "  u\"\\u2640-\\u2642\"\n",
        "  u\"\\u2600-\\u2B55\"\n",
        "  u\"\\u23cf\"\n",
        "  u\"\\u23e9\"\n",
        "  u\"\\u231a\"\n",
        "  u\"\\u3030\"\n",
        "  u\"\\ufe0f\"\n",
        "  \"]+\", flags=re.UNICODE)\n",
        "  \n",
        "  return emoji_pattern.sub(r' ', string)"
      ],
      "metadata": {
        "id": "BhgH-T8NouUJ"
      },
      "execution_count": 17,
      "outputs": []
    },
    {
      "cell_type": "code",
      "source": [
        "lemmatizer = WordNetLemmatizer()\n",
        "stemmer = SnowballStemmer('english') \n",
        "\n",
        "def preprocess(sentence):\n",
        "  # dtype to string\n",
        "  sentence=str(sentence)\n",
        "  # lowercase\n",
        "  sentence = sentence.lower()\n",
        "  # remove html links\n",
        "  sentence = sentence.replace('{html}',\"\")\n",
        "  # remove emojies\n",
        "  sentence = remove_emoji(sentence)\n",
        "  # remove special characters\n",
        "  cleanr = re.compile('<.*?>')\n",
        "  cleantext = re.sub(cleanr, '', sentence)\n",
        "  # remove urls\n",
        "  rem_url=re.sub(r'http\\S+', '',cleantext)\n",
        "  # remove numbers\n",
        "  rem_num = re.sub('[0-9]+', '', rem_url)\n",
        "\n",
        "  # tokenize text\n",
        "  tokenizer = RegexpTokenizer(r'\\w+')\n",
        "  tokens = tokenizer.tokenize(rem_num)\n",
        "\n",
        "  # remove stopwords  \n",
        "  filtered_words = [w for w in tokens if len(w) > 2 if not w in stopwords.words('english')]\n",
        "  # stemming\n",
        "  stem_words=[stemmer.stem(w) for w in filtered_words]\n",
        "  lemma_words=[lemmatizer.lemmatize(w) for w in stem_words]\n",
        "  \n",
        "  return \" \".join(filtered_words)\n",
        "\n",
        "text_ls = ['keyword', 'location', 'text']\n",
        "\n",
        "\n",
        "# Clean train_df\n",
        "for col in text_ls:\n",
        "  for i in range(len(train_df[col])):\n",
        "    train_df[col][i] = preprocess(train_df[col][i])\n",
        "\n",
        "# Clean test_df\n",
        "for col in text_ls:\n",
        "  for i in range(len(test_df[col])):\n",
        "    test_df[col][i] = preprocess(test_df[col][i])\n",
        "\n",
        "print(\"\\nTrain Set:\")\n",
        "train_df.head()"
      ],
      "metadata": {
        "colab": {
          "base_uri": "https://localhost:8080/",
          "height": 391
        },
        "id": "tAh31Jd3v2EJ",
        "outputId": "22ba2da9-e301-4f99-add0-dbcd52380d42"
      },
      "execution_count": 18,
      "outputs": [
        {
          "output_type": "stream",
          "name": "stderr",
          "text": [
            "/usr/local/lib/python3.7/dist-packages/ipykernel_launcher.py:39: SettingWithCopyWarning: \n",
            "A value is trying to be set on a copy of a slice from a DataFrame\n",
            "\n",
            "See the caveats in the documentation: https://pandas.pydata.org/pandas-docs/stable/user_guide/indexing.html#returning-a-view-versus-a-copy\n",
            "/usr/local/lib/python3.7/dist-packages/ipykernel_launcher.py:44: SettingWithCopyWarning: \n",
            "A value is trying to be set on a copy of a slice from a DataFrame\n",
            "\n",
            "See the caveats in the documentation: https://pandas.pydata.org/pandas-docs/stable/user_guide/indexing.html#returning-a-view-versus-a-copy\n"
          ]
        },
        {
          "output_type": "stream",
          "name": "stdout",
          "text": [
            "\n",
            "Train Set:\n"
          ]
        },
        {
          "output_type": "execute_result",
          "data": {
            "text/html": [
              "\n",
              "  <div id=\"df-704c94d0-e717-47b2-aa50-f627523f5e98\">\n",
              "    <div class=\"colab-df-container\">\n",
              "      <div>\n",
              "<style scoped>\n",
              "    .dataframe tbody tr th:only-of-type {\n",
              "        vertical-align: middle;\n",
              "    }\n",
              "\n",
              "    .dataframe tbody tr th {\n",
              "        vertical-align: top;\n",
              "    }\n",
              "\n",
              "    .dataframe thead th {\n",
              "        text-align: right;\n",
              "    }\n",
              "</style>\n",
              "<table border=\"1\" class=\"dataframe\">\n",
              "  <thead>\n",
              "    <tr style=\"text-align: right;\">\n",
              "      <th></th>\n",
              "      <th>id</th>\n",
              "      <th>keyword</th>\n",
              "      <th>location</th>\n",
              "      <th>text</th>\n",
              "      <th>target</th>\n",
              "    </tr>\n",
              "  </thead>\n",
              "  <tbody>\n",
              "    <tr>\n",
              "      <th>0</th>\n",
              "      <td>1</td>\n",
              "      <td>nan</td>\n",
              "      <td>nan</td>\n",
              "      <td>deeds reason earthquake may allah forgive</td>\n",
              "      <td>1</td>\n",
              "    </tr>\n",
              "    <tr>\n",
              "      <th>1</th>\n",
              "      <td>4</td>\n",
              "      <td>nan</td>\n",
              "      <td>nan</td>\n",
              "      <td>forest fire near ronge sask canada</td>\n",
              "      <td>1</td>\n",
              "    </tr>\n",
              "    <tr>\n",
              "      <th>2</th>\n",
              "      <td>5</td>\n",
              "      <td>nan</td>\n",
              "      <td>nan</td>\n",
              "      <td>residents asked shelter place notified officer...</td>\n",
              "      <td>1</td>\n",
              "    </tr>\n",
              "    <tr>\n",
              "      <th>3</th>\n",
              "      <td>6</td>\n",
              "      <td>nan</td>\n",
              "      <td>nan</td>\n",
              "      <td>people receive wildfires evacuation orders cal...</td>\n",
              "      <td>1</td>\n",
              "    </tr>\n",
              "    <tr>\n",
              "      <th>4</th>\n",
              "      <td>7</td>\n",
              "      <td>nan</td>\n",
              "      <td>nan</td>\n",
              "      <td>got sent photo ruby alaska smoke wildfires pou...</td>\n",
              "      <td>1</td>\n",
              "    </tr>\n",
              "  </tbody>\n",
              "</table>\n",
              "</div>\n",
              "      <button class=\"colab-df-convert\" onclick=\"convertToInteractive('df-704c94d0-e717-47b2-aa50-f627523f5e98')\"\n",
              "              title=\"Convert this dataframe to an interactive table.\"\n",
              "              style=\"display:none;\">\n",
              "        \n",
              "  <svg xmlns=\"http://www.w3.org/2000/svg\" height=\"24px\"viewBox=\"0 0 24 24\"\n",
              "       width=\"24px\">\n",
              "    <path d=\"M0 0h24v24H0V0z\" fill=\"none\"/>\n",
              "    <path d=\"M18.56 5.44l.94 2.06.94-2.06 2.06-.94-2.06-.94-.94-2.06-.94 2.06-2.06.94zm-11 1L8.5 8.5l.94-2.06 2.06-.94-2.06-.94L8.5 2.5l-.94 2.06-2.06.94zm10 10l.94 2.06.94-2.06 2.06-.94-2.06-.94-.94-2.06-.94 2.06-2.06.94z\"/><path d=\"M17.41 7.96l-1.37-1.37c-.4-.4-.92-.59-1.43-.59-.52 0-1.04.2-1.43.59L10.3 9.45l-7.72 7.72c-.78.78-.78 2.05 0 2.83L4 21.41c.39.39.9.59 1.41.59.51 0 1.02-.2 1.41-.59l7.78-7.78 2.81-2.81c.8-.78.8-2.07 0-2.86zM5.41 20L4 18.59l7.72-7.72 1.47 1.35L5.41 20z\"/>\n",
              "  </svg>\n",
              "      </button>\n",
              "      \n",
              "  <style>\n",
              "    .colab-df-container {\n",
              "      display:flex;\n",
              "      flex-wrap:wrap;\n",
              "      gap: 12px;\n",
              "    }\n",
              "\n",
              "    .colab-df-convert {\n",
              "      background-color: #E8F0FE;\n",
              "      border: none;\n",
              "      border-radius: 50%;\n",
              "      cursor: pointer;\n",
              "      display: none;\n",
              "      fill: #1967D2;\n",
              "      height: 32px;\n",
              "      padding: 0 0 0 0;\n",
              "      width: 32px;\n",
              "    }\n",
              "\n",
              "    .colab-df-convert:hover {\n",
              "      background-color: #E2EBFA;\n",
              "      box-shadow: 0px 1px 2px rgba(60, 64, 67, 0.3), 0px 1px 3px 1px rgba(60, 64, 67, 0.15);\n",
              "      fill: #174EA6;\n",
              "    }\n",
              "\n",
              "    [theme=dark] .colab-df-convert {\n",
              "      background-color: #3B4455;\n",
              "      fill: #D2E3FC;\n",
              "    }\n",
              "\n",
              "    [theme=dark] .colab-df-convert:hover {\n",
              "      background-color: #434B5C;\n",
              "      box-shadow: 0px 1px 3px 1px rgba(0, 0, 0, 0.15);\n",
              "      filter: drop-shadow(0px 1px 2px rgba(0, 0, 0, 0.3));\n",
              "      fill: #FFFFFF;\n",
              "    }\n",
              "  </style>\n",
              "\n",
              "      <script>\n",
              "        const buttonEl =\n",
              "          document.querySelector('#df-704c94d0-e717-47b2-aa50-f627523f5e98 button.colab-df-convert');\n",
              "        buttonEl.style.display =\n",
              "          google.colab.kernel.accessAllowed ? 'block' : 'none';\n",
              "\n",
              "        async function convertToInteractive(key) {\n",
              "          const element = document.querySelector('#df-704c94d0-e717-47b2-aa50-f627523f5e98');\n",
              "          const dataTable =\n",
              "            await google.colab.kernel.invokeFunction('convertToInteractive',\n",
              "                                                     [key], {});\n",
              "          if (!dataTable) return;\n",
              "\n",
              "          const docLinkHtml = 'Like what you see? Visit the ' +\n",
              "            '<a target=\"_blank\" href=https://colab.research.google.com/notebooks/data_table.ipynb>data table notebook</a>'\n",
              "            + ' to learn more about interactive tables.';\n",
              "          element.innerHTML = '';\n",
              "          dataTable['output_type'] = 'display_data';\n",
              "          await google.colab.output.renderOutput(dataTable, element);\n",
              "          const docLink = document.createElement('div');\n",
              "          docLink.innerHTML = docLinkHtml;\n",
              "          element.appendChild(docLink);\n",
              "        }\n",
              "      </script>\n",
              "    </div>\n",
              "  </div>\n",
              "  "
            ],
            "text/plain": [
              "   id keyword location                                               text  \\\n",
              "0   1     nan      nan          deeds reason earthquake may allah forgive   \n",
              "1   4     nan      nan                 forest fire near ronge sask canada   \n",
              "2   5     nan      nan  residents asked shelter place notified officer...   \n",
              "3   6     nan      nan  people receive wildfires evacuation orders cal...   \n",
              "4   7     nan      nan  got sent photo ruby alaska smoke wildfires pou...   \n",
              "\n",
              "   target  \n",
              "0       1  \n",
              "1       1  \n",
              "2       1  \n",
              "3       1  \n",
              "4       1  "
            ]
          },
          "metadata": {},
          "execution_count": 18
        }
      ]
    },
    {
      "cell_type": "code",
      "source": [
        "train_df.sample(10)"
      ],
      "metadata": {
        "colab": {
          "base_uri": "https://localhost:8080/",
          "height": 363
        },
        "id": "m8LvInwB2Rkl",
        "outputId": "751b7a4b-8cec-4993-fb8e-1ccacb7687cf"
      },
      "execution_count": 19,
      "outputs": [
        {
          "output_type": "execute_result",
          "data": {
            "text/html": [
              "\n",
              "  <div id=\"df-016b1361-0d74-46a0-92e6-11116718b0af\">\n",
              "    <div class=\"colab-df-container\">\n",
              "      <div>\n",
              "<style scoped>\n",
              "    .dataframe tbody tr th:only-of-type {\n",
              "        vertical-align: middle;\n",
              "    }\n",
              "\n",
              "    .dataframe tbody tr th {\n",
              "        vertical-align: top;\n",
              "    }\n",
              "\n",
              "    .dataframe thead th {\n",
              "        text-align: right;\n",
              "    }\n",
              "</style>\n",
              "<table border=\"1\" class=\"dataframe\">\n",
              "  <thead>\n",
              "    <tr style=\"text-align: right;\">\n",
              "      <th></th>\n",
              "      <th>id</th>\n",
              "      <th>keyword</th>\n",
              "      <th>location</th>\n",
              "      <th>text</th>\n",
              "      <th>target</th>\n",
              "    </tr>\n",
              "  </thead>\n",
              "  <tbody>\n",
              "    <tr>\n",
              "      <th>1160</th>\n",
              "      <td>1671</td>\n",
              "      <td>bridge collapse</td>\n",
              "      <td>vitì_ria</td>\n",
              "      <td>marshall plan united states dambisa moyo via p...</td>\n",
              "      <td>0</td>\n",
              "    </tr>\n",
              "    <tr>\n",
              "      <th>2602</th>\n",
              "      <td>3736</td>\n",
              "      <td>destroyed</td>\n",
              "      <td>studio</td>\n",
              "      <td>flood two people dead houses destroyed kaduna ...</td>\n",
              "      <td>1</td>\n",
              "    </tr>\n",
              "    <tr>\n",
              "      <th>7142</th>\n",
              "      <td>10234</td>\n",
              "      <td>volcano</td>\n",
              "      <td>ted inc ireland europe</td>\n",
              "      <td>songhey well also gay girls like predict tsuna...</td>\n",
              "      <td>0</td>\n",
              "    </tr>\n",
              "    <tr>\n",
              "      <th>2282</th>\n",
              "      <td>3276</td>\n",
              "      <td>demolish</td>\n",
              "      <td>hooters peachtree</td>\n",
              "      <td>nothing midget demolish show respect</td>\n",
              "      <td>0</td>\n",
              "    </tr>\n",
              "    <tr>\n",
              "      <th>1660</th>\n",
              "      <td>2397</td>\n",
              "      <td>collapsed</td>\n",
              "      <td>nan</td>\n",
              "      <td>look collapsed attempting munch endangered spe...</td>\n",
              "      <td>0</td>\n",
              "    </tr>\n",
              "    <tr>\n",
              "      <th>1243</th>\n",
              "      <td>1791</td>\n",
              "      <td>buildings fire</td>\n",
              "      <td>nigeria global</td>\n",
              "      <td>kenya several buildings reported fire close da...</td>\n",
              "      <td>1</td>\n",
              "    </tr>\n",
              "    <tr>\n",
              "      <th>1784</th>\n",
              "      <td>2560</td>\n",
              "      <td>crash</td>\n",
              "      <td>nan</td>\n",
              "      <td>sterlingknight car crashsterling driving carme...</td>\n",
              "      <td>0</td>\n",
              "    </tr>\n",
              "    <tr>\n",
              "      <th>5139</th>\n",
              "      <td>7329</td>\n",
              "      <td>nuclear reactor</td>\n",
              "      <td>london heart sea</td>\n",
              "      <td>rolling sandunes gentle lapping sea call gulls...</td>\n",
              "      <td>1</td>\n",
              "    </tr>\n",
              "    <tr>\n",
              "      <th>4391</th>\n",
              "      <td>6243</td>\n",
              "      <td>hijacking</td>\n",
              "      <td>perth australia</td>\n",
              "      <td>hot funtenna hijacking computers send data sou...</td>\n",
              "      <td>0</td>\n",
              "    </tr>\n",
              "    <tr>\n",
              "      <th>2147</th>\n",
              "      <td>3082</td>\n",
              "      <td>deaths</td>\n",
              "      <td>weyburn</td>\n",
              "      <td>weyburn police warn public fentanyl deaths pro...</td>\n",
              "      <td>1</td>\n",
              "    </tr>\n",
              "  </tbody>\n",
              "</table>\n",
              "</div>\n",
              "      <button class=\"colab-df-convert\" onclick=\"convertToInteractive('df-016b1361-0d74-46a0-92e6-11116718b0af')\"\n",
              "              title=\"Convert this dataframe to an interactive table.\"\n",
              "              style=\"display:none;\">\n",
              "        \n",
              "  <svg xmlns=\"http://www.w3.org/2000/svg\" height=\"24px\"viewBox=\"0 0 24 24\"\n",
              "       width=\"24px\">\n",
              "    <path d=\"M0 0h24v24H0V0z\" fill=\"none\"/>\n",
              "    <path d=\"M18.56 5.44l.94 2.06.94-2.06 2.06-.94-2.06-.94-.94-2.06-.94 2.06-2.06.94zm-11 1L8.5 8.5l.94-2.06 2.06-.94-2.06-.94L8.5 2.5l-.94 2.06-2.06.94zm10 10l.94 2.06.94-2.06 2.06-.94-2.06-.94-.94-2.06-.94 2.06-2.06.94z\"/><path d=\"M17.41 7.96l-1.37-1.37c-.4-.4-.92-.59-1.43-.59-.52 0-1.04.2-1.43.59L10.3 9.45l-7.72 7.72c-.78.78-.78 2.05 0 2.83L4 21.41c.39.39.9.59 1.41.59.51 0 1.02-.2 1.41-.59l7.78-7.78 2.81-2.81c.8-.78.8-2.07 0-2.86zM5.41 20L4 18.59l7.72-7.72 1.47 1.35L5.41 20z\"/>\n",
              "  </svg>\n",
              "      </button>\n",
              "      \n",
              "  <style>\n",
              "    .colab-df-container {\n",
              "      display:flex;\n",
              "      flex-wrap:wrap;\n",
              "      gap: 12px;\n",
              "    }\n",
              "\n",
              "    .colab-df-convert {\n",
              "      background-color: #E8F0FE;\n",
              "      border: none;\n",
              "      border-radius: 50%;\n",
              "      cursor: pointer;\n",
              "      display: none;\n",
              "      fill: #1967D2;\n",
              "      height: 32px;\n",
              "      padding: 0 0 0 0;\n",
              "      width: 32px;\n",
              "    }\n",
              "\n",
              "    .colab-df-convert:hover {\n",
              "      background-color: #E2EBFA;\n",
              "      box-shadow: 0px 1px 2px rgba(60, 64, 67, 0.3), 0px 1px 3px 1px rgba(60, 64, 67, 0.15);\n",
              "      fill: #174EA6;\n",
              "    }\n",
              "\n",
              "    [theme=dark] .colab-df-convert {\n",
              "      background-color: #3B4455;\n",
              "      fill: #D2E3FC;\n",
              "    }\n",
              "\n",
              "    [theme=dark] .colab-df-convert:hover {\n",
              "      background-color: #434B5C;\n",
              "      box-shadow: 0px 1px 3px 1px rgba(0, 0, 0, 0.15);\n",
              "      filter: drop-shadow(0px 1px 2px rgba(0, 0, 0, 0.3));\n",
              "      fill: #FFFFFF;\n",
              "    }\n",
              "  </style>\n",
              "\n",
              "      <script>\n",
              "        const buttonEl =\n",
              "          document.querySelector('#df-016b1361-0d74-46a0-92e6-11116718b0af button.colab-df-convert');\n",
              "        buttonEl.style.display =\n",
              "          google.colab.kernel.accessAllowed ? 'block' : 'none';\n",
              "\n",
              "        async function convertToInteractive(key) {\n",
              "          const element = document.querySelector('#df-016b1361-0d74-46a0-92e6-11116718b0af');\n",
              "          const dataTable =\n",
              "            await google.colab.kernel.invokeFunction('convertToInteractive',\n",
              "                                                     [key], {});\n",
              "          if (!dataTable) return;\n",
              "\n",
              "          const docLinkHtml = 'Like what you see? Visit the ' +\n",
              "            '<a target=\"_blank\" href=https://colab.research.google.com/notebooks/data_table.ipynb>data table notebook</a>'\n",
              "            + ' to learn more about interactive tables.';\n",
              "          element.innerHTML = '';\n",
              "          dataTable['output_type'] = 'display_data';\n",
              "          await google.colab.output.renderOutput(dataTable, element);\n",
              "          const docLink = document.createElement('div');\n",
              "          docLink.innerHTML = docLinkHtml;\n",
              "          element.appendChild(docLink);\n",
              "        }\n",
              "      </script>\n",
              "    </div>\n",
              "  </div>\n",
              "  "
            ],
            "text/plain": [
              "         id          keyword                location  \\\n",
              "1160   1671  bridge collapse                vitì_ria   \n",
              "2602   3736        destroyed                  studio   \n",
              "7142  10234          volcano  ted inc ireland europe   \n",
              "2282   3276         demolish       hooters peachtree   \n",
              "1660   2397        collapsed                     nan   \n",
              "1243   1791   buildings fire          nigeria global   \n",
              "1784   2560            crash                     nan   \n",
              "5139   7329  nuclear reactor        london heart sea   \n",
              "4391   6243        hijacking         perth australia   \n",
              "2147   3082           deaths                 weyburn   \n",
              "\n",
              "                                                   text  target  \n",
              "1160  marshall plan united states dambisa moyo via p...       0  \n",
              "2602  flood two people dead houses destroyed kaduna ...       1  \n",
              "7142  songhey well also gay girls like predict tsuna...       0  \n",
              "2282               nothing midget demolish show respect       0  \n",
              "1660  look collapsed attempting munch endangered spe...       0  \n",
              "1243  kenya several buildings reported fire close da...       1  \n",
              "1784  sterlingknight car crashsterling driving carme...       0  \n",
              "5139  rolling sandunes gentle lapping sea call gulls...       1  \n",
              "4391  hot funtenna hijacking computers send data sou...       0  \n",
              "2147  weyburn police warn public fentanyl deaths pro...       1  "
            ]
          },
          "metadata": {},
          "execution_count": 19
        }
      ]
    },
    {
      "cell_type": "markdown",
      "source": [
        "### Text Encoding\n",
        "As the model won't understand what to do with the string variables creating a sentence, we will need to encode the words. To this this, we will convert the words into an array of numbers representing the sentence. The tokenizer will assign a number index to every unique word so that the model can treat it like a categorical value."
      ],
      "metadata": {
        "id": "oPEFRU7HsMc9"
      }
    },
    {
      "cell_type": "code",
      "source": [
        "def define_tokenizer(train_sentences, val_sentences, test_sentences):\n",
        "  '''\n",
        "  Takes the train, val, and test data sets and assigning an index number to every word present in the sentences.\n",
        "  '''\n",
        "  sentences = pd.concat([train_sentences, val_sentences, test_sentences])\n",
        "  \n",
        "  tokenizer = tf.keras.preprocessing.text.Tokenizer()\n",
        "  tokenizer.fit_on_texts(sentences)\n",
        "  \n",
        "  return tokenizer\n",
        "    \n",
        "def encode(sentences, tokenizer):\n",
        "  '''\n",
        "  Takes the tokenizer to encode all the sentences into an array of index numbers representing the sentence\n",
        "  '''\n",
        "  encoded_sentences = tokenizer.texts_to_sequences(sentences)\n",
        "  encoded_sentences = tf.keras.preprocessing.sequence.pad_sequences(encoded_sentences, padding='post')\n",
        "  \n",
        "  return encoded_sentences"
      ],
      "metadata": {
        "id": "aGtKs7rS5LxO"
      },
      "execution_count": 20,
      "outputs": []
    },
    {
      "cell_type": "code",
      "source": [
        "# Split out data into train, val, test set\n",
        "val_data = train_df.tail(1500)\n",
        "train_data = train_df.head(6113)\n",
        "test_data = test_df"
      ],
      "metadata": {
        "id": "28olT-bgXlcm"
      },
      "execution_count": 21,
      "outputs": []
    },
    {
      "cell_type": "code",
      "source": [
        "tokenizer = define_tokenizer(train_data['text'], val_data['text'], test_data['text'])\n",
        "\n",
        "encoded_sentences = encode(train_data['text'], tokenizer)\n",
        "val_encoded_sentences = encode(val_data['text'], tokenizer)\n",
        "encoded_test_sentences = encode(test_data['text'], tokenizer)"
      ],
      "metadata": {
        "id": "NjMqxfxV2hR8"
      },
      "execution_count": 22,
      "outputs": []
    },
    {
      "cell_type": "code",
      "source": [
        "tokenizer.word_index['disaster']"
      ],
      "metadata": {
        "colab": {
          "base_uri": "https://localhost:8080/"
        },
        "id": "NHa86jK63Hc8",
        "outputId": "97003d6a-f77c-4cfb-d5f5-3866e00ee4cf"
      },
      "execution_count": 23,
      "outputs": [
        {
          "output_type": "execute_result",
          "data": {
            "text/plain": [
              "12"
            ]
          },
          "metadata": {},
          "execution_count": 23
        }
      ]
    },
    {
      "cell_type": "code",
      "source": [
        "len(tokenizer.word_index)"
      ],
      "metadata": {
        "colab": {
          "base_uri": "https://localhost:8080/"
        },
        "id": "DryvjxBI3Lkr",
        "outputId": "dc313582-631d-4c09-ba62-f4c32261277c"
      },
      "execution_count": 24,
      "outputs": [
        {
          "output_type": "execute_result",
          "data": {
            "text/plain": [
              "19999"
            ]
          },
          "metadata": {},
          "execution_count": 24
        }
      ]
    },
    {
      "cell_type": "code",
      "source": [
        "# Check if sentences  are lowercase\n",
        "print(f\"Lower: {tokenizer.get_config()['lower']}\")\n",
        "\n",
        "# Check the split to get the words from the sentences\n",
        "print(f\"Split: {tokenizer.get_config()['split']}\")\n",
        "\n",
        "# what characters are filters out\n",
        "print(f\"Filters: {tokenizer.get_config()['filters']}\")"
      ],
      "metadata": {
        "colab": {
          "base_uri": "https://localhost:8080/"
        },
        "id": "-tRPRKovTzoH",
        "outputId": "83106e48-3ef8-426b-810c-17afe4b60b47"
      },
      "execution_count": 25,
      "outputs": [
        {
          "output_type": "stream",
          "name": "stdout",
          "text": [
            "Lower: True\n",
            "Split:  \n",
            "Filters: !\"#$%&()*+,-./:;<=>?@[\\]^_`{|}~\t\n",
            "\n"
          ]
        }
      ]
    },
    {
      "cell_type": "markdown",
      "source": [
        "### Use GloVe Embedding\n",
        "GloVe is an unsupervised learning algorithm for obtaining vector representations for words. Training is performed on aggregated global word-word co-occurrence statistics from a corpus, and the resulting representations showcase interesting linear substructures of the word vector space. Documentation can be [found here](https://nlp.stanford.edu/projects/glove/)."
      ],
      "metadata": {
        "id": "3kxrrMmjJutt"
      }
    },
    {
      "cell_type": "code",
      "source": [
        "embedding_dict = {}\n",
        "\n",
        "with open('./glove.6B.100d.txt','r') as f:\n",
        "    for line in f:\n",
        "        values = line.split()\n",
        "        word = values[0]\n",
        "        vectors = np.asarray(values[1:],'float32')\n",
        "        embedding_dict[word] = vectors\n",
        "        \n",
        "f.close()"
      ],
      "metadata": {
        "id": "0EX0lsnyJRwj"
      },
      "execution_count": 26,
      "outputs": []
    },
    {
      "cell_type": "markdown",
      "source": [
        "Match encoding of the tokenizer with the embeddings by updating the encoded words in the embedding with the encoding from the tokenizer."
      ],
      "metadata": {
        "id": "BCw-KSyRo-nF"
      }
    },
    {
      "cell_type": "code",
      "source": [
        "num_words = len(tokenizer.word_index) + 1\n",
        "embedding_matrix = np.zeros((num_words, 100))\n",
        "\n",
        "for word, i in tokenizer.word_index.items():\n",
        "    if i > num_words:\n",
        "        continue\n",
        "    \n",
        "    emb_vec = embedding_dict.get(word)\n",
        "    \n",
        "    if emb_vec is not None:\n",
        "        embedding_matrix[i] = emb_vec"
      ],
      "metadata": {
        "id": "5E6eTatYJRuE"
      },
      "execution_count": 27,
      "outputs": []
    },
    {
      "cell_type": "markdown",
      "source": [
        "## Modeling"
      ],
      "metadata": {
        "id": "NP-vCwKBw11b"
      }
    },
    {
      "cell_type": "markdown",
      "source": [
        "### Model 1"
      ],
      "metadata": {
        "id": "Dgsww8b2N1ak"
      }
    },
    {
      "cell_type": "markdown",
      "source": [
        "#### Setup Pipeline\n",
        "We will create a pipeline that:\n",
        "- Shuffle the data per training step\n",
        "- Process the next batch of data for training while the current batch of data is training\n",
        "- Defining each batch as a padded batch"
      ],
      "metadata": {
        "id": "B1bDUVHJWNDc"
      }
    },
    {
      "cell_type": "code",
      "source": [
        "tf_data = tf.data.Dataset.from_tensor_slices((encoded_sentences, train_data['target'].values))\n",
        "\n",
        "def pipeline(tf_data, buffer_size=100, batch_size=32):\n",
        "    tf_data = tf_data.shuffle(buffer_size)    \n",
        "    tf_data = tf_data.prefetch(tf.data.experimental.AUTOTUNE)\n",
        "    tf_data = tf_data.padded_batch(batch_size, padded_shapes=([None],[]))\n",
        "    \n",
        "    return tf_data\n",
        "\n",
        "tf_data = pipeline(tf_data, buffer_size=1000, batch_size=32)"
      ],
      "metadata": {
        "id": "9bF8eP8sWMmJ"
      },
      "execution_count": 28,
      "outputs": []
    },
    {
      "cell_type": "code",
      "source": [
        "print(tf_data)"
      ],
      "metadata": {
        "colab": {
          "base_uri": "https://localhost:8080/"
        },
        "id": "LM41KbtdW_er",
        "outputId": "4e5598bb-e126-4a14-d843-866947c56b7e"
      },
      "execution_count": 29,
      "outputs": [
        {
          "output_type": "stream",
          "name": "stdout",
          "text": [
            "<PaddedBatchDataset element_spec=(TensorSpec(shape=(None, None), dtype=tf.int32, name=None), TensorSpec(shape=(None,), dtype=tf.int64, name=None))>\n"
          ]
        }
      ]
    },
    {
      "cell_type": "code",
      "source": [
        "# create pipeline for validation set\n",
        "tf_val_data = tf.data.Dataset.from_tensor_slices((val_encoded_sentences, val_data['target'].values))\n",
        "\n",
        "def val_pipeline(tf_data, batch_size=1):        \n",
        "    tf_data = tf_data.prefetch(tf.data.experimental.AUTOTUNE)\n",
        "    tf_data = tf_data.padded_batch(batch_size, padded_shapes=([None],[]))\n",
        "    \n",
        "    return tf_data\n",
        "\n",
        "tf_val_data = val_pipeline(tf_val_data, batch_size=len(val_data))"
      ],
      "metadata": {
        "id": "Jaqs3uA8W_b9"
      },
      "execution_count": 30,
      "outputs": []
    },
    {
      "cell_type": "code",
      "source": [
        "print(tf_val_data)"
      ],
      "metadata": {
        "colab": {
          "base_uri": "https://localhost:8080/"
        },
        "id": "LLHhQzmAW_Zu",
        "outputId": "9480c835-52c1-4307-b83c-bf8d8ba15d6e"
      },
      "execution_count": 31,
      "outputs": [
        {
          "output_type": "stream",
          "name": "stdout",
          "text": [
            "<PaddedBatchDataset element_spec=(TensorSpec(shape=(None, None), dtype=tf.int32, name=None), TensorSpec(shape=(None,), dtype=tf.int64, name=None))>\n"
          ]
        }
      ]
    },
    {
      "cell_type": "markdown",
      "source": [
        "#### Train Model"
      ],
      "metadata": {
        "id": "G1B19CM5ZKyF"
      }
    },
    {
      "cell_type": "code",
      "source": [
        "embedding = tf.keras.layers.Embedding(\n",
        "    len(tokenizer.word_index) + 1,\n",
        "    100,\n",
        "    embeddings_initializer = tf.keras.initializers.Constant(embedding_matrix),\n",
        "    trainable = True\n",
        ")"
      ],
      "metadata": {
        "id": "_gDZh_fgW_XI"
      },
      "execution_count": 32,
      "outputs": []
    },
    {
      "cell_type": "code",
      "source": [
        "model = tf.keras.Sequential([\n",
        "    embedding,\n",
        "    tf.keras.layers.SpatialDropout1D(0.2),\n",
        "    tf.keras.layers.Bidirectional(tf.keras.layers.LSTM(128, dropout=0.2, recurrent_dropout=0.2)),\n",
        "    tf.keras.layers.Dense(1, activation='sigmoid')\n",
        "])"
      ],
      "metadata": {
        "id": "KCBEnBhRW_UL"
      },
      "execution_count": 33,
      "outputs": []
    },
    {
      "cell_type": "code",
      "source": [
        "model.compile(\n",
        "    loss=tf.keras.losses.BinaryCrossentropy(from_logits=True),\n",
        "    optimizer=tf.keras.optimizers.Adam(0.0001),\n",
        "    metrics=['accuracy', 'Precision', 'Recall']\n",
        ")"
      ],
      "metadata": {
        "id": "k2FyyFLnZPVB"
      },
      "execution_count": 34,
      "outputs": []
    },
    {
      "cell_type": "code",
      "source": [
        "callbacks = [\n",
        "    tf.keras.callbacks.ReduceLROnPlateau(monitor='loss', patience=2, verbose=1),\n",
        "    tf.keras.callbacks.EarlyStopping(monitor='loss', patience=5, verbose=1),\n",
        "]"
      ],
      "metadata": {
        "id": "JJI4TgrFZPR-"
      },
      "execution_count": 35,
      "outputs": []
    },
    {
      "cell_type": "code",
      "source": [
        "history = model.fit(\n",
        "    tf_data, \n",
        "    validation_data = tf_val_data,\n",
        "    epochs = 50,\n",
        "    callbacks = callbacks\n",
        ")\n",
        "\n",
        "clear_output()"
      ],
      "metadata": {
        "id": "qOthNo04ZPPh"
      },
      "execution_count": 36,
      "outputs": []
    },
    {
      "cell_type": "code",
      "source": [
        "# save model\n",
        "model.save(\n",
        "    'drive/MyDrive/Colab Notebooks/NLP_Disaster_Tweets/model1.h5',\n",
        "    overwrite=True,\n",
        "    include_optimizer=True,\n",
        "    save_format=None,\n",
        "    signatures=None,\n",
        "    options=None,\n",
        "    save_traces=True,\n",
        ")"
      ],
      "metadata": {
        "id": "CcmzPaYp4UxA"
      },
      "execution_count": 37,
      "outputs": []
    },
    {
      "cell_type": "code",
      "source": [
        "# # Read in model\n",
        "# model = load_model('drive/MyDrive/Colab Notebooks/NLP_Disaster_Tweets/model1.h5')"
      ],
      "metadata": {
        "id": "swyXQgOw4lx8"
      },
      "execution_count": 38,
      "outputs": []
    },
    {
      "cell_type": "code",
      "source": [
        "metrics = model.evaluate(tf_val_data)\n",
        "# print(model.metrics_names)\n",
        "\n",
        "\n",
        "precision = metrics[2]\n",
        "recall = metrics[3]\n",
        "f1 = 2 * (precision * recall) / (precision + recall)\n",
        "\n",
        "print(f'Accuracy score: {metrics[1]}')\n",
        "print(f'F1 score: {str(f1)}') "
      ],
      "metadata": {
        "colab": {
          "base_uri": "https://localhost:8080/"
        },
        "id": "6iIQFvxgmdp2",
        "outputId": "1a8022bf-0013-4ad6-fc29-0e99f179a2ff"
      },
      "execution_count": 39,
      "outputs": [
        {
          "output_type": "stream",
          "name": "stdout",
          "text": [
            "1/1 [==============================] - 0s 411ms/step - loss: 0.5473 - accuracy: 0.7980 - precision: 0.7896 - recall: 0.7773\n",
            "Accuracy score: 0.7979999780654907\n",
            "F1 score: 0.7834167108374794\n"
          ]
        }
      ]
    },
    {
      "cell_type": "code",
      "source": [
        "data = {'loss': history.history['loss'],\n",
        "        'accuracy':  history.history['accuracy'],\n",
        "        'precision': history.history['precision'],\n",
        "        'recall': history.history['recall'],\n",
        "        'val_loss': history.history['val_loss'],\n",
        "        'val_accuracy': history.history['val_accuracy']\n",
        "        }\n",
        "\n",
        "hist_df = pd.DataFrame(data)\n",
        "\n",
        "hist_df.head()"
      ],
      "metadata": {
        "colab": {
          "base_uri": "https://localhost:8080/",
          "height": 206
        },
        "id": "1OzkqfoEZPNO",
        "outputId": "66d94c65-13a4-46d1-c858-4945aa618890"
      },
      "execution_count": 40,
      "outputs": [
        {
          "output_type": "execute_result",
          "data": {
            "text/html": [
              "\n",
              "  <div id=\"df-fb5fa61a-f711-4f8d-8f29-5339549af931\">\n",
              "    <div class=\"colab-df-container\">\n",
              "      <div>\n",
              "<style scoped>\n",
              "    .dataframe tbody tr th:only-of-type {\n",
              "        vertical-align: middle;\n",
              "    }\n",
              "\n",
              "    .dataframe tbody tr th {\n",
              "        vertical-align: top;\n",
              "    }\n",
              "\n",
              "    .dataframe thead th {\n",
              "        text-align: right;\n",
              "    }\n",
              "</style>\n",
              "<table border=\"1\" class=\"dataframe\">\n",
              "  <thead>\n",
              "    <tr style=\"text-align: right;\">\n",
              "      <th></th>\n",
              "      <th>loss</th>\n",
              "      <th>accuracy</th>\n",
              "      <th>precision</th>\n",
              "      <th>recall</th>\n",
              "      <th>val_loss</th>\n",
              "      <th>val_accuracy</th>\n",
              "    </tr>\n",
              "  </thead>\n",
              "  <tbody>\n",
              "    <tr>\n",
              "      <th>0</th>\n",
              "      <td>0.580688</td>\n",
              "      <td>0.714543</td>\n",
              "      <td>0.750458</td>\n",
              "      <td>0.479345</td>\n",
              "      <td>0.436889</td>\n",
              "      <td>0.802667</td>\n",
              "    </tr>\n",
              "    <tr>\n",
              "      <th>1</th>\n",
              "      <td>0.475942</td>\n",
              "      <td>0.784230</td>\n",
              "      <td>0.786931</td>\n",
              "      <td>0.666407</td>\n",
              "      <td>0.420009</td>\n",
              "      <td>0.813333</td>\n",
              "    </tr>\n",
              "    <tr>\n",
              "      <th>2</th>\n",
              "      <td>0.451377</td>\n",
              "      <td>0.794536</td>\n",
              "      <td>0.795845</td>\n",
              "      <td>0.686672</td>\n",
              "      <td>0.413625</td>\n",
              "      <td>0.812667</td>\n",
              "    </tr>\n",
              "    <tr>\n",
              "      <th>3</th>\n",
              "      <td>0.436516</td>\n",
              "      <td>0.807623</td>\n",
              "      <td>0.813911</td>\n",
              "      <td>0.702260</td>\n",
              "      <td>0.411340</td>\n",
              "      <td>0.810000</td>\n",
              "    </tr>\n",
              "    <tr>\n",
              "      <th>4</th>\n",
              "      <td>0.430040</td>\n",
              "      <td>0.813349</td>\n",
              "      <td>0.819364</td>\n",
              "      <td>0.712393</td>\n",
              "      <td>0.407956</td>\n",
              "      <td>0.816667</td>\n",
              "    </tr>\n",
              "  </tbody>\n",
              "</table>\n",
              "</div>\n",
              "      <button class=\"colab-df-convert\" onclick=\"convertToInteractive('df-fb5fa61a-f711-4f8d-8f29-5339549af931')\"\n",
              "              title=\"Convert this dataframe to an interactive table.\"\n",
              "              style=\"display:none;\">\n",
              "        \n",
              "  <svg xmlns=\"http://www.w3.org/2000/svg\" height=\"24px\"viewBox=\"0 0 24 24\"\n",
              "       width=\"24px\">\n",
              "    <path d=\"M0 0h24v24H0V0z\" fill=\"none\"/>\n",
              "    <path d=\"M18.56 5.44l.94 2.06.94-2.06 2.06-.94-2.06-.94-.94-2.06-.94 2.06-2.06.94zm-11 1L8.5 8.5l.94-2.06 2.06-.94-2.06-.94L8.5 2.5l-.94 2.06-2.06.94zm10 10l.94 2.06.94-2.06 2.06-.94-2.06-.94-.94-2.06-.94 2.06-2.06.94z\"/><path d=\"M17.41 7.96l-1.37-1.37c-.4-.4-.92-.59-1.43-.59-.52 0-1.04.2-1.43.59L10.3 9.45l-7.72 7.72c-.78.78-.78 2.05 0 2.83L4 21.41c.39.39.9.59 1.41.59.51 0 1.02-.2 1.41-.59l7.78-7.78 2.81-2.81c.8-.78.8-2.07 0-2.86zM5.41 20L4 18.59l7.72-7.72 1.47 1.35L5.41 20z\"/>\n",
              "  </svg>\n",
              "      </button>\n",
              "      \n",
              "  <style>\n",
              "    .colab-df-container {\n",
              "      display:flex;\n",
              "      flex-wrap:wrap;\n",
              "      gap: 12px;\n",
              "    }\n",
              "\n",
              "    .colab-df-convert {\n",
              "      background-color: #E8F0FE;\n",
              "      border: none;\n",
              "      border-radius: 50%;\n",
              "      cursor: pointer;\n",
              "      display: none;\n",
              "      fill: #1967D2;\n",
              "      height: 32px;\n",
              "      padding: 0 0 0 0;\n",
              "      width: 32px;\n",
              "    }\n",
              "\n",
              "    .colab-df-convert:hover {\n",
              "      background-color: #E2EBFA;\n",
              "      box-shadow: 0px 1px 2px rgba(60, 64, 67, 0.3), 0px 1px 3px 1px rgba(60, 64, 67, 0.15);\n",
              "      fill: #174EA6;\n",
              "    }\n",
              "\n",
              "    [theme=dark] .colab-df-convert {\n",
              "      background-color: #3B4455;\n",
              "      fill: #D2E3FC;\n",
              "    }\n",
              "\n",
              "    [theme=dark] .colab-df-convert:hover {\n",
              "      background-color: #434B5C;\n",
              "      box-shadow: 0px 1px 3px 1px rgba(0, 0, 0, 0.15);\n",
              "      filter: drop-shadow(0px 1px 2px rgba(0, 0, 0, 0.3));\n",
              "      fill: #FFFFFF;\n",
              "    }\n",
              "  </style>\n",
              "\n",
              "      <script>\n",
              "        const buttonEl =\n",
              "          document.querySelector('#df-fb5fa61a-f711-4f8d-8f29-5339549af931 button.colab-df-convert');\n",
              "        buttonEl.style.display =\n",
              "          google.colab.kernel.accessAllowed ? 'block' : 'none';\n",
              "\n",
              "        async function convertToInteractive(key) {\n",
              "          const element = document.querySelector('#df-fb5fa61a-f711-4f8d-8f29-5339549af931');\n",
              "          const dataTable =\n",
              "            await google.colab.kernel.invokeFunction('convertToInteractive',\n",
              "                                                     [key], {});\n",
              "          if (!dataTable) return;\n",
              "\n",
              "          const docLinkHtml = 'Like what you see? Visit the ' +\n",
              "            '<a target=\"_blank\" href=https://colab.research.google.com/notebooks/data_table.ipynb>data table notebook</a>'\n",
              "            + ' to learn more about interactive tables.';\n",
              "          element.innerHTML = '';\n",
              "          dataTable['output_type'] = 'display_data';\n",
              "          await google.colab.output.renderOutput(dataTable, element);\n",
              "          const docLink = document.createElement('div');\n",
              "          docLink.innerHTML = docLinkHtml;\n",
              "          element.appendChild(docLink);\n",
              "        }\n",
              "      </script>\n",
              "    </div>\n",
              "  </div>\n",
              "  "
            ],
            "text/plain": [
              "       loss  accuracy  precision    recall  val_loss  val_accuracy\n",
              "0  0.580688  0.714543   0.750458  0.479345  0.436889      0.802667\n",
              "1  0.475942  0.784230   0.786931  0.666407  0.420009      0.813333\n",
              "2  0.451377  0.794536   0.795845  0.686672  0.413625      0.812667\n",
              "3  0.436516  0.807623   0.813911  0.702260  0.411340      0.810000\n",
              "4  0.430040  0.813349   0.819364  0.712393  0.407956      0.816667"
            ]
          },
          "metadata": {},
          "execution_count": 40
        }
      ]
    },
    {
      "cell_type": "code",
      "source": [
        "fig, axs = plt.subplots(1, 4, figsize=(20, 5))\n",
        "\n",
        "axs[0].set_title('Loss')\n",
        "axs[0].plot(hist_df['loss'], label='train')\n",
        "axs[0].plot(hist_df['val_loss'], label='val')\n",
        "axs[0].legend()\n",
        "\n",
        "axs[1].set_title('Accuracy')\n",
        "axs[1].plot(hist_df['accuracy'], label='train')\n",
        "axs[1].plot(hist_df['val_accuracy'], label='val')\n",
        "axs[1].legend()\n",
        "\n",
        "axs[2].set_title('Precision')\n",
        "axs[2].plot(hist_df['precision'], label='train')\n",
        "axs[2].plot(hist_df['val_accuracy'], label='val')\n",
        "axs[2].legend()\n",
        "\n",
        "axs[3].set_title('Recall')\n",
        "axs[3].plot(hist_df['recall'], label='train')\n",
        "axs[3].plot(hist_df['val_loss'], label='val')\n",
        "axs[3].legend()"
      ],
      "metadata": {
        "colab": {
          "base_uri": "https://localhost:8080/",
          "height": 354
        },
        "id": "cgjWNPIBmnxB",
        "outputId": "b1299b7c-6a49-4ad7-a63b-530167ee28ea"
      },
      "execution_count": 51,
      "outputs": [
        {
          "output_type": "execute_result",
          "data": {
            "text/plain": [
              "<matplotlib.legend.Legend at 0x7fa7546791d0>"
            ]
          },
          "metadata": {},
          "execution_count": 51
        },
        {
          "output_type": "display_data",
          "data": {
            "image/png": "[encoded data removed]",
            "text/plain": [
              "<Figure size 1440x360 with 4 Axes>"
            ]
          },
          "metadata": {
            "needs_background": "light"
          }
        }
      ]
    },
    {
      "cell_type": "code",
      "source": [
        "# Check for number of false positives\n",
        "predictions = model.predict(tf_val_data)\n",
        "predictions = np.concatenate(predictions).round().astype(int)\n",
        "val_data['predictions'] = predictions\n",
        "\n",
        "false_positives = val_data[(val_data['predictions'] == 1) & (val_data['target'] == 0)]\n",
        "\n",
        "print(f'Count of false positives: {str(len(false_positives))}\\n\\n')"
      ],
      "metadata": {
        "colab": {
          "base_uri": "https://localhost:8080/"
        },
        "id": "4t4GZW78EL1P",
        "outputId": "b6daaa46-66b5-403a-fabc-5c6e3d297690"
      },
      "execution_count": 43,
      "outputs": [
        {
          "output_type": "stream",
          "name": "stdout",
          "text": [
            "Count of false positives: 146\n",
            "\n",
            "\n"
          ]
        },
        {
          "output_type": "stream",
          "name": "stderr",
          "text": [
            "/usr/local/lib/python3.7/dist-packages/ipykernel_launcher.py:4: SettingWithCopyWarning: \n",
            "A value is trying to be set on a copy of a slice from a DataFrame.\n",
            "Try using .loc[row_indexer,col_indexer] = value instead\n",
            "\n",
            "See the caveats in the documentation: https://pandas.pydata.org/pandas-docs/stable/user_guide/indexing.html#returning-a-view-versus-a-copy\n",
            "  after removing the cwd from sys.path.\n"
          ]
        }
      ]
    },
    {
      "cell_type": "code",
      "source": [
        "# Look at false positives\n",
        "false_positives.head(10)"
      ],
      "metadata": {
        "colab": {
          "base_uri": "https://localhost:8080/",
          "height": 363
        },
        "id": "xfzi-uMnELyv",
        "outputId": "27a03d1b-691f-4ffc-b684-d99f981d964a"
      },
      "execution_count": 44,
      "outputs": [
        {
          "output_type": "execute_result",
          "data": {
            "text/html": [
              "\n",
              "  <div id=\"df-7a410d1c-23fd-4606-97d3-089c247997d2\">\n",
              "    <div class=\"colab-df-container\">\n",
              "      <div>\n",
              "<style scoped>\n",
              "    .dataframe tbody tr th:only-of-type {\n",
              "        vertical-align: middle;\n",
              "    }\n",
              "\n",
              "    .dataframe tbody tr th {\n",
              "        vertical-align: top;\n",
              "    }\n",
              "\n",
              "    .dataframe thead th {\n",
              "        text-align: right;\n",
              "    }\n",
              "</style>\n",
              "<table border=\"1\" class=\"dataframe\">\n",
              "  <thead>\n",
              "    <tr style=\"text-align: right;\">\n",
              "      <th></th>\n",
              "      <th>id</th>\n",
              "      <th>keyword</th>\n",
              "      <th>location</th>\n",
              "      <th>text</th>\n",
              "      <th>target</th>\n",
              "      <th>predictions</th>\n",
              "    </tr>\n",
              "  </thead>\n",
              "  <tbody>\n",
              "    <tr>\n",
              "      <th>6121</th>\n",
              "      <td>8737</td>\n",
              "      <td>sinking</td>\n",
              "      <td>london</td>\n",
              "      <td>slowly sinking wasting edsheeran</td>\n",
              "      <td>0</td>\n",
              "      <td>1</td>\n",
              "    </tr>\n",
              "    <tr>\n",
              "      <th>6161</th>\n",
              "      <td>8787</td>\n",
              "      <td>siren</td>\n",
              "      <td>nan</td>\n",
              "      <td>hate damn milwaukee indyfest cars sound like r...</td>\n",
              "      <td>0</td>\n",
              "      <td>1</td>\n",
              "    </tr>\n",
              "    <tr>\n",
              "      <th>6231</th>\n",
              "      <td>8896</td>\n",
              "      <td>snowstorm</td>\n",
              "      <td>nan</td>\n",
              "      <td>yall poem called one snowstorm meet space one ...</td>\n",
              "      <td>0</td>\n",
              "      <td>1</td>\n",
              "    </tr>\n",
              "    <tr>\n",
              "      <th>6233</th>\n",
              "      <td>8900</td>\n",
              "      <td>snowstorm</td>\n",
              "      <td>huntington</td>\n",
              "      <td>sorry built fire desk already irishirr mchapma...</td>\n",
              "      <td>0</td>\n",
              "      <td>1</td>\n",
              "    </tr>\n",
              "    <tr>\n",
              "      <th>6240</th>\n",
              "      <td>8912</td>\n",
              "      <td>snowstorm</td>\n",
              "      <td>south usa</td>\n",
              "      <td>sassy city girl country hunk stranded smoky mo...</td>\n",
              "      <td>0</td>\n",
              "      <td>1</td>\n",
              "    </tr>\n",
              "    <tr>\n",
              "      <th>6244</th>\n",
              "      <td>8920</td>\n",
              "      <td>snowstorm</td>\n",
              "      <td>deployed middle east</td>\n",
              "      <td>cacheadvance besides nasty thunderstorm snowst...</td>\n",
              "      <td>0</td>\n",
              "      <td>1</td>\n",
              "    </tr>\n",
              "    <tr>\n",
              "      <th>6257</th>\n",
              "      <td>8941</td>\n",
              "      <td>snowstorm</td>\n",
              "      <td>italy</td>\n",
              "      <td>snowstorm planned outside rome mary major toni...</td>\n",
              "      <td>0</td>\n",
              "      <td>1</td>\n",
              "    </tr>\n",
              "    <tr>\n",
              "      <th>6258</th>\n",
              "      <td>8942</td>\n",
              "      <td>storm</td>\n",
              "      <td>nan</td>\n",
              "      <td>finally storm</td>\n",
              "      <td>0</td>\n",
              "      <td>1</td>\n",
              "    </tr>\n",
              "    <tr>\n",
              "      <th>6272</th>\n",
              "      <td>8962</td>\n",
              "      <td>storm</td>\n",
              "      <td>philly</td>\n",
              "      <td>okay welcome rain gave storm could weather</td>\n",
              "      <td>0</td>\n",
              "      <td>1</td>\n",
              "    </tr>\n",
              "    <tr>\n",
              "      <th>6277</th>\n",
              "      <td>8968</td>\n",
              "      <td>storm</td>\n",
              "      <td>johns creek</td>\n",
              "      <td>storm</td>\n",
              "      <td>0</td>\n",
              "      <td>1</td>\n",
              "    </tr>\n",
              "  </tbody>\n",
              "</table>\n",
              "</div>\n",
              "      <button class=\"colab-df-convert\" onclick=\"convertToInteractive('df-7a410d1c-23fd-4606-97d3-089c247997d2')\"\n",
              "              title=\"Convert this dataframe to an interactive table.\"\n",
              "              style=\"display:none;\">\n",
              "        \n",
              "  <svg xmlns=\"http://www.w3.org/2000/svg\" height=\"24px\"viewBox=\"0 0 24 24\"\n",
              "       width=\"24px\">\n",
              "    <path d=\"M0 0h24v24H0V0z\" fill=\"none\"/>\n",
              "    <path d=\"M18.56 5.44l.94 2.06.94-2.06 2.06-.94-2.06-.94-.94-2.06-.94 2.06-2.06.94zm-11 1L8.5 8.5l.94-2.06 2.06-.94-2.06-.94L8.5 2.5l-.94 2.06-2.06.94zm10 10l.94 2.06.94-2.06 2.06-.94-2.06-.94-.94-2.06-.94 2.06-2.06.94z\"/><path d=\"M17.41 7.96l-1.37-1.37c-.4-.4-.92-.59-1.43-.59-.52 0-1.04.2-1.43.59L10.3 9.45l-7.72 7.72c-.78.78-.78 2.05 0 2.83L4 21.41c.39.39.9.59 1.41.59.51 0 1.02-.2 1.41-.59l7.78-7.78 2.81-2.81c.8-.78.8-2.07 0-2.86zM5.41 20L4 18.59l7.72-7.72 1.47 1.35L5.41 20z\"/>\n",
              "  </svg>\n",
              "      </button>\n",
              "      \n",
              "  <style>\n",
              "    .colab-df-container {\n",
              "      display:flex;\n",
              "      flex-wrap:wrap;\n",
              "      gap: 12px;\n",
              "    }\n",
              "\n",
              "    .colab-df-convert {\n",
              "      background-color: #E8F0FE;\n",
              "      border: none;\n",
              "      border-radius: 50%;\n",
              "      cursor: pointer;\n",
              "      display: none;\n",
              "      fill: #1967D2;\n",
              "      height: 32px;\n",
              "      padding: 0 0 0 0;\n",
              "      width: 32px;\n",
              "    }\n",
              "\n",
              "    .colab-df-convert:hover {\n",
              "      background-color: #E2EBFA;\n",
              "      box-shadow: 0px 1px 2px rgba(60, 64, 67, 0.3), 0px 1px 3px 1px rgba(60, 64, 67, 0.15);\n",
              "      fill: #174EA6;\n",
              "    }\n",
              "\n",
              "    [theme=dark] .colab-df-convert {\n",
              "      background-color: #3B4455;\n",
              "      fill: #D2E3FC;\n",
              "    }\n",
              "\n",
              "    [theme=dark] .colab-df-convert:hover {\n",
              "      background-color: #434B5C;\n",
              "      box-shadow: 0px 1px 3px 1px rgba(0, 0, 0, 0.15);\n",
              "      filter: drop-shadow(0px 1px 2px rgba(0, 0, 0, 0.3));\n",
              "      fill: #FFFFFF;\n",
              "    }\n",
              "  </style>\n",
              "\n",
              "      <script>\n",
              "        const buttonEl =\n",
              "          document.querySelector('#df-7a410d1c-23fd-4606-97d3-089c247997d2 button.colab-df-convert');\n",
              "        buttonEl.style.display =\n",
              "          google.colab.kernel.accessAllowed ? 'block' : 'none';\n",
              "\n",
              "        async function convertToInteractive(key) {\n",
              "          const element = document.querySelector('#df-7a410d1c-23fd-4606-97d3-089c247997d2');\n",
              "          const dataTable =\n",
              "            await google.colab.kernel.invokeFunction('convertToInteractive',\n",
              "                                                     [key], {});\n",
              "          if (!dataTable) return;\n",
              "\n",
              "          const docLinkHtml = 'Like what you see? Visit the ' +\n",
              "            '<a target=\"_blank\" href=https://colab.research.google.com/notebooks/data_table.ipynb>data table notebook</a>'\n",
              "            + ' to learn more about interactive tables.';\n",
              "          element.innerHTML = '';\n",
              "          dataTable['output_type'] = 'display_data';\n",
              "          await google.colab.output.renderOutput(dataTable, element);\n",
              "          const docLink = document.createElement('div');\n",
              "          docLink.innerHTML = docLinkHtml;\n",
              "          element.appendChild(docLink);\n",
              "        }\n",
              "      </script>\n",
              "    </div>\n",
              "  </div>\n",
              "  "
            ],
            "text/plain": [
              "        id    keyword              location  \\\n",
              "6121  8737    sinking                london   \n",
              "6161  8787      siren                   nan   \n",
              "6231  8896  snowstorm                   nan   \n",
              "6233  8900  snowstorm            huntington   \n",
              "6240  8912  snowstorm             south usa   \n",
              "6244  8920  snowstorm  deployed middle east   \n",
              "6257  8941  snowstorm                 italy   \n",
              "6258  8942      storm                   nan   \n",
              "6272  8962      storm                philly   \n",
              "6277  8968      storm           johns creek   \n",
              "\n",
              "                                                   text  target  predictions  \n",
              "6121                   slowly sinking wasting edsheeran       0            1  \n",
              "6161  hate damn milwaukee indyfest cars sound like r...       0            1  \n",
              "6231  yall poem called one snowstorm meet space one ...       0            1  \n",
              "6233  sorry built fire desk already irishirr mchapma...       0            1  \n",
              "6240  sassy city girl country hunk stranded smoky mo...       0            1  \n",
              "6244  cacheadvance besides nasty thunderstorm snowst...       0            1  \n",
              "6257  snowstorm planned outside rome mary major toni...       0            1  \n",
              "6258                                      finally storm       0            1  \n",
              "6272         okay welcome rain gave storm could weather       0            1  \n",
              "6277                                              storm       0            1  "
            ]
          },
          "metadata": {},
          "execution_count": 44
        }
      ]
    },
    {
      "cell_type": "code",
      "source": [
        "# Check for number of false negatives\n",
        "false_negatives = val_data[(val_data['predictions'] == 0) & (val_data['target'] == 1)]\n",
        "\n",
        "print(f'Count of false negatives: {str(len(false_negatives))}')"
      ],
      "metadata": {
        "colab": {
          "base_uri": "https://localhost:8080/"
        },
        "id": "NxUv0a_7ELvm",
        "outputId": "ac67e204-22f0-4e45-fb43-c9313ae3faaf"
      },
      "execution_count": 45,
      "outputs": [
        {
          "output_type": "stream",
          "name": "stdout",
          "text": [
            "Count of false negatives: 157\n"
          ]
        }
      ]
    },
    {
      "cell_type": "code",
      "source": [
        "# Look at false negatives\n",
        "false_positives.tail(10)"
      ],
      "metadata": {
        "colab": {
          "base_uri": "https://localhost:8080/",
          "height": 363
        },
        "id": "H5sSJyyEELqE",
        "outputId": "63abb0bd-344b-4add-c8f5-28c178a3f876"
      },
      "execution_count": 46,
      "outputs": [
        {
          "output_type": "execute_result",
          "data": {
            "text/html": [
              "\n",
              "  <div id=\"df-961e9aa8-9cf5-4a61-992d-0ff51041824c\">\n",
              "    <div class=\"colab-df-container\">\n",
              "      <div>\n",
              "<style scoped>\n",
              "    .dataframe tbody tr th:only-of-type {\n",
              "        vertical-align: middle;\n",
              "    }\n",
              "\n",
              "    .dataframe tbody tr th {\n",
              "        vertical-align: top;\n",
              "    }\n",
              "\n",
              "    .dataframe thead th {\n",
              "        text-align: right;\n",
              "    }\n",
              "</style>\n",
              "<table border=\"1\" class=\"dataframe\">\n",
              "  <thead>\n",
              "    <tr style=\"text-align: right;\">\n",
              "      <th></th>\n",
              "      <th>id</th>\n",
              "      <th>keyword</th>\n",
              "      <th>location</th>\n",
              "      <th>text</th>\n",
              "      <th>target</th>\n",
              "      <th>predictions</th>\n",
              "    </tr>\n",
              "  </thead>\n",
              "  <tbody>\n",
              "    <tr>\n",
              "      <th>7437</th>\n",
              "      <td>10640</td>\n",
              "      <td>wounds</td>\n",
              "      <td>newcastle england</td>\n",
              "      <td>nout like rubbin salt wounds dad</td>\n",
              "      <td>0</td>\n",
              "      <td>1</td>\n",
              "    </tr>\n",
              "    <tr>\n",
              "      <th>7442</th>\n",
              "      <td>10650</td>\n",
              "      <td>wounds</td>\n",
              "      <td>earth</td>\n",
              "      <td>dianneg gunshot wound bicep wounds chest torso...</td>\n",
              "      <td>0</td>\n",
              "      <td>1</td>\n",
              "    </tr>\n",
              "    <tr>\n",
              "      <th>7445</th>\n",
              "      <td>10656</td>\n",
              "      <td>wounds</td>\n",
              "      <td>lake highlands</td>\n",
              "      <td>crack path wiped morning beach run surface wou...</td>\n",
              "      <td>0</td>\n",
              "      <td>1</td>\n",
              "    </tr>\n",
              "    <tr>\n",
              "      <th>7448</th>\n",
              "      <td>10659</td>\n",
              "      <td>wounds</td>\n",
              "      <td>nan</td>\n",
              "      <td>puncture wounds</td>\n",
              "      <td>0</td>\n",
              "      <td>1</td>\n",
              "    </tr>\n",
              "    <tr>\n",
              "      <th>7453</th>\n",
              "      <td>10666</td>\n",
              "      <td>wounds</td>\n",
              "      <td>cape town</td>\n",
              "      <td>thought surgical wounds healed weather helping...</td>\n",
              "      <td>0</td>\n",
              "      <td>1</td>\n",
              "    </tr>\n",
              "    <tr>\n",
              "      <th>7459</th>\n",
              "      <td>10675</td>\n",
              "      <td>wounds</td>\n",
              "      <td>north carolina</td>\n",
              "      <td>court back session testimony continues med exa...</td>\n",
              "      <td>0</td>\n",
              "      <td>1</td>\n",
              "    </tr>\n",
              "    <tr>\n",
              "      <th>7467</th>\n",
              "      <td>10684</td>\n",
              "      <td>wounds</td>\n",
              "      <td>charlotte</td>\n",
              "      <td>says many wounds could fatal rather quickly ot...</td>\n",
              "      <td>0</td>\n",
              "      <td>1</td>\n",
              "    </tr>\n",
              "    <tr>\n",
              "      <th>7497</th>\n",
              "      <td>10724</td>\n",
              "      <td>wreck</td>\n",
              "      <td>innsmouth mass</td>\n",
              "      <td>staged locomotive wreck could possibly wrong</td>\n",
              "      <td>0</td>\n",
              "      <td>1</td>\n",
              "    </tr>\n",
              "    <tr>\n",
              "      <th>7548</th>\n",
              "      <td>10789</td>\n",
              "      <td>wrecked</td>\n",
              "      <td>pennsylvania</td>\n",
              "      <td>four hundred wrecked cars costing apiece purch...</td>\n",
              "      <td>0</td>\n",
              "      <td>1</td>\n",
              "    </tr>\n",
              "    <tr>\n",
              "      <th>7551</th>\n",
              "      <td>10794</td>\n",
              "      <td>wrecked</td>\n",
              "      <td>nan</td>\n",
              "      <td>freeway africa til wrecked audi</td>\n",
              "      <td>0</td>\n",
              "      <td>1</td>\n",
              "    </tr>\n",
              "  </tbody>\n",
              "</table>\n",
              "</div>\n",
              "      <button class=\"colab-df-convert\" onclick=\"convertToInteractive('df-961e9aa8-9cf5-4a61-992d-0ff51041824c')\"\n",
              "              title=\"Convert this dataframe to an interactive table.\"\n",
              "              style=\"display:none;\">\n",
              "        \n",
              "  <svg xmlns=\"http://www.w3.org/2000/svg\" height=\"24px\"viewBox=\"0 0 24 24\"\n",
              "       width=\"24px\">\n",
              "    <path d=\"M0 0h24v24H0V0z\" fill=\"none\"/>\n",
              "    <path d=\"M18.56 5.44l.94 2.06.94-2.06 2.06-.94-2.06-.94-.94-2.06-.94 2.06-2.06.94zm-11 1L8.5 8.5l.94-2.06 2.06-.94-2.06-.94L8.5 2.5l-.94 2.06-2.06.94zm10 10l.94 2.06.94-2.06 2.06-.94-2.06-.94-.94-2.06-.94 2.06-2.06.94z\"/><path d=\"M17.41 7.96l-1.37-1.37c-.4-.4-.92-.59-1.43-.59-.52 0-1.04.2-1.43.59L10.3 9.45l-7.72 7.72c-.78.78-.78 2.05 0 2.83L4 21.41c.39.39.9.59 1.41.59.51 0 1.02-.2 1.41-.59l7.78-7.78 2.81-2.81c.8-.78.8-2.07 0-2.86zM5.41 20L4 18.59l7.72-7.72 1.47 1.35L5.41 20z\"/>\n",
              "  </svg>\n",
              "      </button>\n",
              "      \n",
              "  <style>\n",
              "    .colab-df-container {\n",
              "      display:flex;\n",
              "      flex-wrap:wrap;\n",
              "      gap: 12px;\n",
              "    }\n",
              "\n",
              "    .colab-df-convert {\n",
              "      background-color: #E8F0FE;\n",
              "      border: none;\n",
              "      border-radius: 50%;\n",
              "      cursor: pointer;\n",
              "      display: none;\n",
              "      fill: #1967D2;\n",
              "      height: 32px;\n",
              "      padding: 0 0 0 0;\n",
              "      width: 32px;\n",
              "    }\n",
              "\n",
              "    .colab-df-convert:hover {\n",
              "      background-color: #E2EBFA;\n",
              "      box-shadow: 0px 1px 2px rgba(60, 64, 67, 0.3), 0px 1px 3px 1px rgba(60, 64, 67, 0.15);\n",
              "      fill: #174EA6;\n",
              "    }\n",
              "\n",
              "    [theme=dark] .colab-df-convert {\n",
              "      background-color: #3B4455;\n",
              "      fill: #D2E3FC;\n",
              "    }\n",
              "\n",
              "    [theme=dark] .colab-df-convert:hover {\n",
              "      background-color: #434B5C;\n",
              "      box-shadow: 0px 1px 3px 1px rgba(0, 0, 0, 0.15);\n",
              "      filter: drop-shadow(0px 1px 2px rgba(0, 0, 0, 0.3));\n",
              "      fill: #FFFFFF;\n",
              "    }\n",
              "  </style>\n",
              "\n",
              "      <script>\n",
              "        const buttonEl =\n",
              "          document.querySelector('#df-961e9aa8-9cf5-4a61-992d-0ff51041824c button.colab-df-convert');\n",
              "        buttonEl.style.display =\n",
              "          google.colab.kernel.accessAllowed ? 'block' : 'none';\n",
              "\n",
              "        async function convertToInteractive(key) {\n",
              "          const element = document.querySelector('#df-961e9aa8-9cf5-4a61-992d-0ff51041824c');\n",
              "          const dataTable =\n",
              "            await google.colab.kernel.invokeFunction('convertToInteractive',\n",
              "                                                     [key], {});\n",
              "          if (!dataTable) return;\n",
              "\n",
              "          const docLinkHtml = 'Like what you see? Visit the ' +\n",
              "            '<a target=\"_blank\" href=https://colab.research.google.com/notebooks/data_table.ipynb>data table notebook</a>'\n",
              "            + ' to learn more about interactive tables.';\n",
              "          element.innerHTML = '';\n",
              "          dataTable['output_type'] = 'display_data';\n",
              "          await google.colab.output.renderOutput(dataTable, element);\n",
              "          const docLink = document.createElement('div');\n",
              "          docLink.innerHTML = docLinkHtml;\n",
              "          element.appendChild(docLink);\n",
              "        }\n",
              "      </script>\n",
              "    </div>\n",
              "  </div>\n",
              "  "
            ],
            "text/plain": [
              "         id  keyword           location  \\\n",
              "7437  10640   wounds  newcastle england   \n",
              "7442  10650   wounds              earth   \n",
              "7445  10656   wounds     lake highlands   \n",
              "7448  10659   wounds                nan   \n",
              "7453  10666   wounds          cape town   \n",
              "7459  10675   wounds     north carolina   \n",
              "7467  10684   wounds          charlotte   \n",
              "7497  10724    wreck     innsmouth mass   \n",
              "7548  10789  wrecked       pennsylvania   \n",
              "7551  10794  wrecked                nan   \n",
              "\n",
              "                                                   text  target  predictions  \n",
              "7437                   nout like rubbin salt wounds dad       0            1  \n",
              "7442  dianneg gunshot wound bicep wounds chest torso...       0            1  \n",
              "7445  crack path wiped morning beach run surface wou...       0            1  \n",
              "7448                                    puncture wounds       0            1  \n",
              "7453  thought surgical wounds healed weather helping...       0            1  \n",
              "7459  court back session testimony continues med exa...       0            1  \n",
              "7467  says many wounds could fatal rather quickly ot...       0            1  \n",
              "7497       staged locomotive wreck could possibly wrong       0            1  \n",
              "7548  four hundred wrecked cars costing apiece purch...       0            1  \n",
              "7551                    freeway africa til wrecked audi       0            1  "
            ]
          },
          "metadata": {},
          "execution_count": 46
        }
      ]
    },
    {
      "cell_type": "markdown",
      "source": [
        "#### Make Prediction"
      ],
      "metadata": {
        "id": "zbOLeS95l2Fw"
      }
    },
    {
      "cell_type": "code",
      "source": [
        "tf_test_data = tf.data.Dataset.from_tensor_slices((encoded_test_sentences))\n",
        "\n",
        "def test_pipeline(tf_data, batch_size=1):        \n",
        "    tf_data = tf_data.prefetch(tf.data.experimental.AUTOTUNE)\n",
        "    tf_data = tf_data.padded_batch(batch_size, padded_shapes=([None]))\n",
        "    \n",
        "    return tf_data\n",
        "\n",
        "tf_test_data = test_pipeline(tf_test_data)"
      ],
      "metadata": {
        "id": "R5vJ95Cc0i_h"
      },
      "execution_count": 47,
      "outputs": []
    },
    {
      "cell_type": "code",
      "source": [
        "pred = model.predict(tf_test_data)"
      ],
      "metadata": {
        "id": "Ht9P4kuG317q"
      },
      "execution_count": 48,
      "outputs": []
    },
    {
      "cell_type": "code",
      "source": [
        "pred = np.concatenate(pred).round().astype(int)"
      ],
      "metadata": {
        "id": "fcCxdcVM5nw0"
      },
      "execution_count": 49,
      "outputs": []
    },
    {
      "cell_type": "code",
      "source": [
        "sub = pd.DataFrame(data={'target': pred}, index=test_data['id'])\n",
        "sub.index = sub.index.rename('id')\n",
        "sub.to_csv('drive/MyDrive/Colab Notebooks/NLP_Disaster_Tweets/submission1.csv')"
      ],
      "metadata": {
        "id": "fd_l2Ny-50fT"
      },
      "execution_count": 50,
      "outputs": []
    },
    {
      "cell_type": "markdown",
      "source": [
        "![image1.PNG](data:image/png;base64,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)"
      ],
      "metadata": {
        "id": "RWTjvdOfHcQ4"
      }
    },
    {
      "cell_type": "markdown",
      "source": [
        "### Model 2\n",
        "Adding a density layer"
      ],
      "metadata": {
        "id": "7w1cXtOiN811"
      }
    },
    {
      "cell_type": "markdown",
      "source": [
        "#### Setup Model"
      ],
      "metadata": {
        "id": "wUdyjkhabSUy"
      }
    },
    {
      "cell_type": "code",
      "source": [
        "model2 = tf.keras.Sequential([\n",
        "    embedding,\n",
        "    tf.keras.layers.SpatialDropout1D(0.2),\n",
        "    tf.keras.layers.Dense(1, activation='relu'),\n",
        "    tf.keras.layers.Bidirectional(tf.keras.layers.LSTM(128, dropout=0.2, recurrent_dropout=0.2)),\n",
        "    tf.keras.layers.Dense(1, activation='sigmoid')\n",
        "])"
      ],
      "metadata": {
        "id": "pOjTlVf8Hfx0"
      },
      "execution_count": 64,
      "outputs": []
    },
    {
      "cell_type": "code",
      "source": [
        "model2.compile(\n",
        "    loss=tf.keras.losses.BinaryCrossentropy(from_logits=True),\n",
        "    optimizer=tf.keras.optimizers.Adam(0.0001),\n",
        "    metrics=['accuracy', 'Precision', 'Recall']\n",
        ")"
      ],
      "metadata": {
        "id": "UJjSZM8wO0n7"
      },
      "execution_count": 65,
      "outputs": []
    },
    {
      "cell_type": "code",
      "source": [
        "callbacks2 = [\n",
        "    tf.keras.callbacks.ReduceLROnPlateau(monitor='loss', patience=2, verbose=1),\n",
        "    tf.keras.callbacks.EarlyStopping(monitor='loss', patience=5, verbose=1),\n",
        "]"
      ],
      "metadata": {
        "id": "iNWbhFdOPRBB"
      },
      "execution_count": 66,
      "outputs": []
    },
    {
      "cell_type": "markdown",
      "source": [
        "#### Train Model"
      ],
      "metadata": {
        "id": "vn73sRtYbVbP"
      }
    },
    {
      "cell_type": "code",
      "source": [
        "history2 = model2.fit(\n",
        "    tf_data, \n",
        "    validation_data = tf_val_data,\n",
        "    epochs = 50,\n",
        "    callbacks = callbacks2\n",
        ")\n",
        "\n",
        "clear_output()"
      ],
      "metadata": {
        "id": "r2-Kz1RIPrHh"
      },
      "execution_count": 67,
      "outputs": []
    },
    {
      "cell_type": "code",
      "source": [
        "metrics2 = model2.evaluate(tf_val_data)\n",
        "# print(model.metrics_names)\n",
        "\n",
        "\n",
        "precision2 = metrics2[2]\n",
        "recall2 = metrics2[3]\n",
        "f1 = 2 * (precision2 * recall2) / (precision2 + recall2)\n",
        "\n",
        "print(f'Accuracy score: {metrics2[1]}')\n",
        "print(f'F1 score: {str(f1)}') "
      ],
      "metadata": {
        "colab": {
          "base_uri": "https://localhost:8080/"
        },
        "id": "0vdLlXYUP0vE",
        "outputId": "ff3e6f27-03e5-4569-d5dd-fac0584da25e"
      },
      "execution_count": 100,
      "outputs": [
        {
          "output_type": "stream",
          "name": "stdout",
          "text": [
            "1/1 [==============================] - 1s 782ms/step - loss: 0.6189 - accuracy: 0.7140 - precision: 0.6601 - recall: 0.8071\n",
            "Accuracy score: 0.7139999866485596\n",
            "F1 score: 0.7262284725308885\n"
          ]
        }
      ]
    },
    {
      "cell_type": "code",
      "source": [
        "data2 = {'loss': history2.history['loss'],\n",
        "        'accuracy':  history2.history['accuracy'],\n",
        "        'precision': history2.history['precision'],\n",
        "        'recall': history2.history['recall'],\n",
        "        'val_loss': history2.history['val_loss'],\n",
        "        'val_accuracy': history2.history['val_accuracy']\n",
        "        }\n",
        "\n",
        "hist_df2 = pd.DataFrame(data2)\n",
        "\n",
        "hist_df2.head()"
      ],
      "metadata": {
        "colab": {
          "base_uri": "https://localhost:8080/",
          "height": 206
        },
        "id": "uKJW3cI7T1Ot",
        "outputId": "6b8d5527-dbda-43ae-b072-aeb60bb8e317"
      },
      "execution_count": 69,
      "outputs": [
        {
          "output_type": "execute_result",
          "data": {
            "text/html": [
              "\n",
              "  <div id=\"df-c5db0905-7390-45ed-8ab6-ba4df3bca945\">\n",
              "    <div class=\"colab-df-container\">\n",
              "      <div>\n",
              "<style scoped>\n",
              "    .dataframe tbody tr th:only-of-type {\n",
              "        vertical-align: middle;\n",
              "    }\n",
              "\n",
              "    .dataframe tbody tr th {\n",
              "        vertical-align: top;\n",
              "    }\n",
              "\n",
              "    .dataframe thead th {\n",
              "        text-align: right;\n",
              "    }\n",
              "</style>\n",
              "<table border=\"1\" class=\"dataframe\">\n",
              "  <thead>\n",
              "    <tr style=\"text-align: right;\">\n",
              "      <th></th>\n",
              "      <th>loss</th>\n",
              "      <th>accuracy</th>\n",
              "      <th>precision</th>\n",
              "      <th>recall</th>\n",
              "      <th>val_loss</th>\n",
              "      <th>val_accuracy</th>\n",
              "    </tr>\n",
              "  </thead>\n",
              "  <tbody>\n",
              "    <tr>\n",
              "      <th>0</th>\n",
              "      <td>0.677187</td>\n",
              "      <td>0.606085</td>\n",
              "      <td>0.602332</td>\n",
              "      <td>0.181216</td>\n",
              "      <td>0.676697</td>\n",
              "      <td>0.560000</td>\n",
              "    </tr>\n",
              "    <tr>\n",
              "      <th>1</th>\n",
              "      <td>0.651826</td>\n",
              "      <td>0.637985</td>\n",
              "      <td>0.639305</td>\n",
              "      <td>0.315666</td>\n",
              "      <td>0.643594</td>\n",
              "      <td>0.633333</td>\n",
              "    </tr>\n",
              "    <tr>\n",
              "      <th>2</th>\n",
              "      <td>0.614125</td>\n",
              "      <td>0.667921</td>\n",
              "      <td>0.655093</td>\n",
              "      <td>0.441154</td>\n",
              "      <td>0.597277</td>\n",
              "      <td>0.692000</td>\n",
              "    </tr>\n",
              "    <tr>\n",
              "      <th>3</th>\n",
              "      <td>0.583327</td>\n",
              "      <td>0.698675</td>\n",
              "      <td>0.680459</td>\n",
              "      <td>0.531956</td>\n",
              "      <td>0.592442</td>\n",
              "      <td>0.701333</td>\n",
              "    </tr>\n",
              "    <tr>\n",
              "      <th>4</th>\n",
              "      <td>0.562959</td>\n",
              "      <td>0.717160</td>\n",
              "      <td>0.702272</td>\n",
              "      <td>0.566251</td>\n",
              "      <td>0.584327</td>\n",
              "      <td>0.706667</td>\n",
              "    </tr>\n",
              "  </tbody>\n",
              "</table>\n",
              "</div>\n",
              "      <button class=\"colab-df-convert\" onclick=\"convertToInteractive('df-c5db0905-7390-45ed-8ab6-ba4df3bca945')\"\n",
              "              title=\"Convert this dataframe to an interactive table.\"\n",
              "              style=\"display:none;\">\n",
              "        \n",
              "  <svg xmlns=\"http://www.w3.org/2000/svg\" height=\"24px\"viewBox=\"0 0 24 24\"\n",
              "       width=\"24px\">\n",
              "    <path d=\"M0 0h24v24H0V0z\" fill=\"none\"/>\n",
              "    <path d=\"M18.56 5.44l.94 2.06.94-2.06 2.06-.94-2.06-.94-.94-2.06-.94 2.06-2.06.94zm-11 1L8.5 8.5l.94-2.06 2.06-.94-2.06-.94L8.5 2.5l-.94 2.06-2.06.94zm10 10l.94 2.06.94-2.06 2.06-.94-2.06-.94-.94-2.06-.94 2.06-2.06.94z\"/><path d=\"M17.41 7.96l-1.37-1.37c-.4-.4-.92-.59-1.43-.59-.52 0-1.04.2-1.43.59L10.3 9.45l-7.72 7.72c-.78.78-.78 2.05 0 2.83L4 21.41c.39.39.9.59 1.41.59.51 0 1.02-.2 1.41-.59l7.78-7.78 2.81-2.81c.8-.78.8-2.07 0-2.86zM5.41 20L4 18.59l7.72-7.72 1.47 1.35L5.41 20z\"/>\n",
              "  </svg>\n",
              "      </button>\n",
              "      \n",
              "  <style>\n",
              "    .colab-df-container {\n",
              "      display:flex;\n",
              "      flex-wrap:wrap;\n",
              "      gap: 12px;\n",
              "    }\n",
              "\n",
              "    .colab-df-convert {\n",
              "      background-color: #E8F0FE;\n",
              "      border: none;\n",
              "      border-radius: 50%;\n",
              "      cursor: pointer;\n",
              "      display: none;\n",
              "      fill: #1967D2;\n",
              "      height: 32px;\n",
              "      padding: 0 0 0 0;\n",
              "      width: 32px;\n",
              "    }\n",
              "\n",
              "    .colab-df-convert:hover {\n",
              "      background-color: #E2EBFA;\n",
              "      box-shadow: 0px 1px 2px rgba(60, 64, 67, 0.3), 0px 1px 3px 1px rgba(60, 64, 67, 0.15);\n",
              "      fill: #174EA6;\n",
              "    }\n",
              "\n",
              "    [theme=dark] .colab-df-convert {\n",
              "      background-color: #3B4455;\n",
              "      fill: #D2E3FC;\n",
              "    }\n",
              "\n",
              "    [theme=dark] .colab-df-convert:hover {\n",
              "      background-color: #434B5C;\n",
              "      box-shadow: 0px 1px 3px 1px rgba(0, 0, 0, 0.15);\n",
              "      filter: drop-shadow(0px 1px 2px rgba(0, 0, 0, 0.3));\n",
              "      fill: #FFFFFF;\n",
              "    }\n",
              "  </style>\n",
              "\n",
              "      <script>\n",
              "        const buttonEl =\n",
              "          document.querySelector('#df-c5db0905-7390-45ed-8ab6-ba4df3bca945 button.colab-df-convert');\n",
              "        buttonEl.style.display =\n",
              "          google.colab.kernel.accessAllowed ? 'block' : 'none';\n",
              "\n",
              "        async function convertToInteractive(key) {\n",
              "          const element = document.querySelector('#df-c5db0905-7390-45ed-8ab6-ba4df3bca945');\n",
              "          const dataTable =\n",
              "            await google.colab.kernel.invokeFunction('convertToInteractive',\n",
              "                                                     [key], {});\n",
              "          if (!dataTable) return;\n",
              "\n",
              "          const docLinkHtml = 'Like what you see? Visit the ' +\n",
              "            '<a target=\"_blank\" href=https://colab.research.google.com/notebooks/data_table.ipynb>data table notebook</a>'\n",
              "            + ' to learn more about interactive tables.';\n",
              "          element.innerHTML = '';\n",
              "          dataTable['output_type'] = 'display_data';\n",
              "          await google.colab.output.renderOutput(dataTable, element);\n",
              "          const docLink = document.createElement('div');\n",
              "          docLink.innerHTML = docLinkHtml;\n",
              "          element.appendChild(docLink);\n",
              "        }\n",
              "      </script>\n",
              "    </div>\n",
              "  </div>\n",
              "  "
            ],
            "text/plain": [
              "       loss  accuracy  precision    recall  val_loss  val_accuracy\n",
              "0  0.677187  0.606085   0.602332  0.181216  0.676697      0.560000\n",
              "1  0.651826  0.637985   0.639305  0.315666  0.643594      0.633333\n",
              "2  0.614125  0.667921   0.655093  0.441154  0.597277      0.692000\n",
              "3  0.583327  0.698675   0.680459  0.531956  0.592442      0.701333\n",
              "4  0.562959  0.717160   0.702272  0.566251  0.584327      0.706667"
            ]
          },
          "metadata": {},
          "execution_count": 69
        }
      ]
    },
    {
      "cell_type": "code",
      "source": [
        "fig, axs = plt.subplots(1, 4, figsize=(20, 5))\n",
        "\n",
        "axs[0].set_title('Loss')\n",
        "axs[0].plot(hist_df2['loss'], label='train')\n",
        "axs[0].plot(hist_df2['val_loss'], label='val')\n",
        "axs[0].legend()\n",
        "\n",
        "axs[1].set_title('Accuracy')\n",
        "axs[1].plot(hist_df2['accuracy'], label='train')\n",
        "axs[1].plot(hist_df2['val_accuracy'], label='val')\n",
        "axs[1].legend()\n",
        "\n",
        "axs[2].set_title('Precision')\n",
        "axs[2].plot(hist_df2['precision'], label='train')\n",
        "axs[2].plot(hist_df2['val_accuracy'], label='val')\n",
        "axs[2].legend()\n",
        "\n",
        "axs[3].set_title('Recall')\n",
        "axs[3].plot(hist_df2['recall'], label='train')\n",
        "axs[3].plot(hist_df2['val_loss'], label='val')\n",
        "axs[3].legend()"
      ],
      "metadata": {
        "colab": {
          "base_uri": "https://localhost:8080/",
          "height": 354
        },
        "id": "5vVoHNpnUBts",
        "outputId": "1ccefea8-97d8-4f50-881d-57a9f43d111f"
      },
      "execution_count": 70,
      "outputs": [
        {
          "output_type": "execute_result",
          "data": {
            "text/plain": [
              "<matplotlib.legend.Legend at 0x7fa74de477d0>"
            ]
          },
          "metadata": {},
          "execution_count": 70
        },
        {
          "output_type": "display_data",
          "data": {
            "image/png": "[encoded data removed]",
            "text/plain": [
              "<Figure size 1440x360 with 4 Axes>"
            ]
          },
          "metadata": {
            "needs_background": "light"
          }
        }
      ]
    },
    {
      "cell_type": "markdown",
      "source": [
        "#### Make Prediction"
      ],
      "metadata": {
        "id": "NNYaPEw_cjHA"
      }
    },
    {
      "cell_type": "code",
      "source": [
        "pred2 = model2.predict(tf_test_data)"
      ],
      "metadata": {
        "id": "KfXVQpaGUJOl"
      },
      "execution_count": 71,
      "outputs": []
    },
    {
      "cell_type": "code",
      "source": [
        "pred2 = np.concatenate(pred2).round().astype(int)"
      ],
      "metadata": {
        "id": "kOvhIHKJbawj"
      },
      "execution_count": 72,
      "outputs": []
    },
    {
      "cell_type": "code",
      "source": [
        "sub2 = pd.DataFrame(data={'target': pred2}, index=test_data['id'])\n",
        "sub2.index = sub2.index.rename('id')\n",
        "sub2.to_csv('drive/MyDrive/Colab Notebooks/NLP_Disaster_Tweets/submission2.csv')"
      ],
      "metadata": {
        "id": "xE4KxwFabi-6"
      },
      "execution_count": 73,
      "outputs": []
    },
    {
      "cell_type": "markdown",
      "source": [
        "![image2.PNG](data:image/png;base64,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)\n",
        "\n",
        "This model did not preform as well as the first model, but it was close."
      ],
      "metadata": {
        "id": "qwAmYoqYcRuJ"
      }
    },
    {
      "cell_type": "markdown",
      "source": [
        "### Model 3"
      ],
      "metadata": {
        "id": "S6LzOSolcvaD"
      }
    },
    {
      "cell_type": "markdown",
      "source": [
        "#### Setup Model"
      ],
      "metadata": {
        "id": "fBYT9vZfvZD4"
      }
    },
    {
      "cell_type": "code",
      "source": [
        "model3 = tf.keras.Sequential([\n",
        "    embedding,\n",
        "    tf.keras.layers.Dense(64, activation=\"relu\"),\n",
        "    tf.keras.layers.SpatialDropout1D(0.2),\n",
        "    tf.keras.layers.Dense(64, activation=\"relu\"),\n",
        "    tf.keras.layers.Bidirectional(tf.keras.layers.LSTM(128, dropout=0.2, recurrent_dropout=0.2)),\n",
        "    tf.keras.layers.Dense(1, activation='sigmoid')\n",
        "])"
      ],
      "metadata": {
        "id": "4gALestRf81I"
      },
      "execution_count": 95,
      "outputs": []
    },
    {
      "cell_type": "code",
      "source": [
        "model3.compile(\n",
        "  loss=\"binary_crossentropy\",\n",
        "  optimizer=tf.keras.optimizers.Adam(),\n",
        "  metrics=['accuracy', 'Precision', 'Recall']\n",
        ")"
      ],
      "metadata": {
        "id": "31ala9-Ff8x1"
      },
      "execution_count": 96,
      "outputs": []
    },
    {
      "cell_type": "code",
      "source": [
        "callbacks3 = [\n",
        "    tf.keras.callbacks.ReduceLROnPlateau(monitor='loss', patience=2, verbose=1),\n",
        "    tf.keras.callbacks.EarlyStopping(monitor='loss', patience=5, verbose=1),\n",
        "]"
      ],
      "metadata": {
        "id": "ocf0s03xfMEI"
      },
      "execution_count": 97,
      "outputs": []
    },
    {
      "cell_type": "markdown",
      "source": [
        "#### Train Model"
      ],
      "metadata": {
        "id": "d_JEP9Amvcu1"
      }
    },
    {
      "cell_type": "code",
      "source": [
        "history3 = model3.fit(\n",
        "    tf_data, \n",
        "    validation_data = tf_val_data,\n",
        "    epochs=50,\n",
        "    callbacks = callbacks3\n",
        ")\n",
        "\n",
        "clear_output()"
      ],
      "metadata": {
        "id": "VnvG6DJ7ejkH"
      },
      "execution_count": 98,
      "outputs": []
    },
    {
      "cell_type": "code",
      "source": [
        "metrics3 = model3.evaluate(tf_val_data)\n",
        "# print(model.metrics_names)\n",
        "\n",
        "\n",
        "precision3 = metrics3[2]\n",
        "recall3 = metrics3[3]\n",
        "f1 = 2 * (precision3 * recall3) / (precision3 + recall3)\n",
        "\n",
        "print(f'Accuracy score: {metrics3[1]}')\n",
        "print(f'F1 score: {str(f1)}')"
      ],
      "metadata": {
        "colab": {
          "base_uri": "https://localhost:8080/"
        },
        "id": "ySprZ7DAevcb",
        "outputId": "a212643a-847f-42ee-b307-9d457e2eaea5"
      },
      "execution_count": 99,
      "outputs": [
        {
          "output_type": "stream",
          "name": "stdout",
          "text": [
            "1/1 [==============================] - 1s 614ms/step - loss: 1.3124 - accuracy: 0.6713 - precision: 0.6302 - recall: 0.7277\n",
            "Accuracy score: 0.6713333129882812\n",
            "F1 score: 0.6754443740027968\n"
          ]
        }
      ]
    },
    {
      "cell_type": "code",
      "source": [
        "data3 = {'loss': history3.history['loss'],\n",
        "        'accuracy':  history3.history['accuracy'],\n",
        "        'precision': history3.history['precision'],\n",
        "        'recall': history3.history['recall'],\n",
        "        'val_loss': history3.history['val_loss'],\n",
        "        'val_accuracy': history3.history['val_accuracy']\n",
        "        }\n",
        "\n",
        "hist_df3 = pd.DataFrame(data3)\n",
        "\n",
        "hist_df3.head()"
      ],
      "metadata": {
        "colab": {
          "base_uri": "https://localhost:8080/",
          "height": 206
        },
        "id": "cHBJFkUIiL0I",
        "outputId": "e503ef02-64ab-4655-8e89-3bc20cc90558"
      },
      "execution_count": 102,
      "outputs": [
        {
          "output_type": "execute_result",
          "data": {
            "text/html": [
              "\n",
              "  <div id=\"df-56b1bcef-39cb-4f71-9717-dda3631a9950\">\n",
              "    <div class=\"colab-df-container\">\n",
              "      <div>\n",
              "<style scoped>\n",
              "    .dataframe tbody tr th:only-of-type {\n",
              "        vertical-align: middle;\n",
              "    }\n",
              "\n",
              "    .dataframe tbody tr th {\n",
              "        vertical-align: top;\n",
              "    }\n",
              "\n",
              "    .dataframe thead th {\n",
              "        text-align: right;\n",
              "    }\n",
              "</style>\n",
              "<table border=\"1\" class=\"dataframe\">\n",
              "  <thead>\n",
              "    <tr style=\"text-align: right;\">\n",
              "      <th></th>\n",
              "      <th>loss</th>\n",
              "      <th>accuracy</th>\n",
              "      <th>precision</th>\n",
              "      <th>recall</th>\n",
              "      <th>val_loss</th>\n",
              "      <th>val_accuracy</th>\n",
              "    </tr>\n",
              "  </thead>\n",
              "  <tbody>\n",
              "    <tr>\n",
              "      <th>0</th>\n",
              "      <td>0.333287</td>\n",
              "      <td>0.852282</td>\n",
              "      <td>0.862309</td>\n",
              "      <td>0.771239</td>\n",
              "      <td>0.803743</td>\n",
              "      <td>0.712667</td>\n",
              "    </tr>\n",
              "    <tr>\n",
              "      <th>1</th>\n",
              "      <td>0.101410</td>\n",
              "      <td>0.961067</td>\n",
              "      <td>0.962639</td>\n",
              "      <td>0.943882</td>\n",
              "      <td>0.945741</td>\n",
              "      <td>0.698000</td>\n",
              "    </tr>\n",
              "    <tr>\n",
              "      <th>2</th>\n",
              "      <td>0.081193</td>\n",
              "      <td>0.970064</td>\n",
              "      <td>0.972255</td>\n",
              "      <td>0.955963</td>\n",
              "      <td>1.020904</td>\n",
              "      <td>0.698000</td>\n",
              "    </tr>\n",
              "    <tr>\n",
              "      <th>3</th>\n",
              "      <td>0.064716</td>\n",
              "      <td>0.974644</td>\n",
              "      <td>0.973674</td>\n",
              "      <td>0.965705</td>\n",
              "      <td>1.016286</td>\n",
              "      <td>0.684667</td>\n",
              "    </tr>\n",
              "    <tr>\n",
              "      <th>4</th>\n",
              "      <td>0.070552</td>\n",
              "      <td>0.973499</td>\n",
              "      <td>0.970634</td>\n",
              "      <td>0.966095</td>\n",
              "      <td>0.974828</td>\n",
              "      <td>0.698667</td>\n",
              "    </tr>\n",
              "  </tbody>\n",
              "</table>\n",
              "</div>\n",
              "      <button class=\"colab-df-convert\" onclick=\"convertToInteractive('df-56b1bcef-39cb-4f71-9717-dda3631a9950')\"\n",
              "              title=\"Convert this dataframe to an interactive table.\"\n",
              "              style=\"display:none;\">\n",
              "        \n",
              "  <svg xmlns=\"http://www.w3.org/2000/svg\" height=\"24px\"viewBox=\"0 0 24 24\"\n",
              "       width=\"24px\">\n",
              "    <path d=\"M0 0h24v24H0V0z\" fill=\"none\"/>\n",
              "    <path d=\"M18.56 5.44l.94 2.06.94-2.06 2.06-.94-2.06-.94-.94-2.06-.94 2.06-2.06.94zm-11 1L8.5 8.5l.94-2.06 2.06-.94-2.06-.94L8.5 2.5l-.94 2.06-2.06.94zm10 10l.94 2.06.94-2.06 2.06-.94-2.06-.94-.94-2.06-.94 2.06-2.06.94z\"/><path d=\"M17.41 7.96l-1.37-1.37c-.4-.4-.92-.59-1.43-.59-.52 0-1.04.2-1.43.59L10.3 9.45l-7.72 7.72c-.78.78-.78 2.05 0 2.83L4 21.41c.39.39.9.59 1.41.59.51 0 1.02-.2 1.41-.59l7.78-7.78 2.81-2.81c.8-.78.8-2.07 0-2.86zM5.41 20L4 18.59l7.72-7.72 1.47 1.35L5.41 20z\"/>\n",
              "  </svg>\n",
              "      </button>\n",
              "      \n",
              "  <style>\n",
              "    .colab-df-container {\n",
              "      display:flex;\n",
              "      flex-wrap:wrap;\n",
              "      gap: 12px;\n",
              "    }\n",
              "\n",
              "    .colab-df-convert {\n",
              "      background-color: #E8F0FE;\n",
              "      border: none;\n",
              "      border-radius: 50%;\n",
              "      cursor: pointer;\n",
              "      display: none;\n",
              "      fill: #1967D2;\n",
              "      height: 32px;\n",
              "      padding: 0 0 0 0;\n",
              "      width: 32px;\n",
              "    }\n",
              "\n",
              "    .colab-df-convert:hover {\n",
              "      background-color: #E2EBFA;\n",
              "      box-shadow: 0px 1px 2px rgba(60, 64, 67, 0.3), 0px 1px 3px 1px rgba(60, 64, 67, 0.15);\n",
              "      fill: #174EA6;\n",
              "    }\n",
              "\n",
              "    [theme=dark] .colab-df-convert {\n",
              "      background-color: #3B4455;\n",
              "      fill: #D2E3FC;\n",
              "    }\n",
              "\n",
              "    [theme=dark] .colab-df-convert:hover {\n",
              "      background-color: #434B5C;\n",
              "      box-shadow: 0px 1px 3px 1px rgba(0, 0, 0, 0.15);\n",
              "      filter: drop-shadow(0px 1px 2px rgba(0, 0, 0, 0.3));\n",
              "      fill: #FFFFFF;\n",
              "    }\n",
              "  </style>\n",
              "\n",
              "      <script>\n",
              "        const buttonEl =\n",
              "          document.querySelector('#df-56b1bcef-39cb-4f71-9717-dda3631a9950 button.colab-df-convert');\n",
              "        buttonEl.style.display =\n",
              "          google.colab.kernel.accessAllowed ? 'block' : 'none';\n",
              "\n",
              "        async function convertToInteractive(key) {\n",
              "          const element = document.querySelector('#df-56b1bcef-39cb-4f71-9717-dda3631a9950');\n",
              "          const dataTable =\n",
              "            await google.colab.kernel.invokeFunction('convertToInteractive',\n",
              "                                                     [key], {});\n",
              "          if (!dataTable) return;\n",
              "\n",
              "          const docLinkHtml = 'Like what you see? Visit the ' +\n",
              "            '<a target=\"_blank\" href=https://colab.research.google.com/notebooks/data_table.ipynb>data table notebook</a>'\n",
              "            + ' to learn more about interactive tables.';\n",
              "          element.innerHTML = '';\n",
              "          dataTable['output_type'] = 'display_data';\n",
              "          await google.colab.output.renderOutput(dataTable, element);\n",
              "          const docLink = document.createElement('div');\n",
              "          docLink.innerHTML = docLinkHtml;\n",
              "          element.appendChild(docLink);\n",
              "        }\n",
              "      </script>\n",
              "    </div>\n",
              "  </div>\n",
              "  "
            ],
            "text/plain": [
              "       loss  accuracy  precision    recall  val_loss  val_accuracy\n",
              "0  0.333287  0.852282   0.862309  0.771239  0.803743      0.712667\n",
              "1  0.101410  0.961067   0.962639  0.943882  0.945741      0.698000\n",
              "2  0.081193  0.970064   0.972255  0.955963  1.020904      0.698000\n",
              "3  0.064716  0.974644   0.973674  0.965705  1.016286      0.684667\n",
              "4  0.070552  0.973499   0.970634  0.966095  0.974828      0.698667"
            ]
          },
          "metadata": {},
          "execution_count": 102
        }
      ]
    },
    {
      "cell_type": "code",
      "source": [
        "fig, axs = plt.subplots(1, 4, figsize=(20, 5))\n",
        "\n",
        "axs[0].set_title('Loss')\n",
        "axs[0].plot(hist_df3['loss'], label='train')\n",
        "axs[0].plot(hist_df3['val_loss'], label='val')\n",
        "axs[0].legend()\n",
        "\n",
        "axs[1].set_title('Accuracy')\n",
        "axs[1].plot(hist_df3['accuracy'], label='train')\n",
        "axs[1].plot(hist_df3['val_accuracy'], label='val')\n",
        "axs[1].legend()\n",
        "\n",
        "axs[2].set_title('Precision')\n",
        "axs[2].plot(hist_df3['precision'], label='train')\n",
        "axs[2].plot(hist_df3['val_accuracy'], label='val')\n",
        "axs[2].legend()\n",
        "\n",
        "axs[3].set_title('Recall')\n",
        "axs[3].plot(hist_df3['recall'], label='train')\n",
        "axs[3].plot(hist_df3['val_loss'], label='val')\n",
        "axs[3].legend()"
      ],
      "metadata": {
        "colab": {
          "base_uri": "https://localhost:8080/",
          "height": 354
        },
        "id": "PERAXxp4mz3U",
        "outputId": "a7476bec-754a-4a4a-e9f0-e12d9fc9a674"
      },
      "execution_count": 103,
      "outputs": [
        {
          "output_type": "execute_result",
          "data": {
            "text/plain": [
              "<matplotlib.legend.Legend at 0x7fa74dd9ce50>"
            ]
          },
          "metadata": {},
          "execution_count": 103
        },
        {
          "output_type": "display_data",
          "data": {
            "image/png": "[encoded data removed]",
            "text/plain": [
              "<Figure size 1440x360 with 4 Axes>"
            ]
          },
          "metadata": {
            "needs_background": "light"
          }
        }
      ]
    },
    {
      "cell_type": "markdown",
      "source": [
        "#### Make Prediction"
      ],
      "metadata": {
        "id": "uuztgsphviPt"
      }
    },
    {
      "cell_type": "code",
      "source": [
        "pred3 = model3.predict(tf_test_data)"
      ],
      "metadata": {
        "id": "n3OKBVgZsHeL"
      },
      "execution_count": 104,
      "outputs": []
    },
    {
      "cell_type": "code",
      "source": [
        "pred3 = np.concatenate(pred3).round().astype(int)"
      ],
      "metadata": {
        "id": "-TTABNWmuEL_"
      },
      "execution_count": 105,
      "outputs": []
    },
    {
      "cell_type": "code",
      "source": [
        "sub3 = pd.DataFrame(data={'target': pred3}, index=test_data['id'])\n",
        "sub3.index = sub3.index.rename('id')\n",
        "sub3.to_csv('drive/MyDrive/Colab Notebooks/NLP_Disaster_Tweets/submission3.csv')"
      ],
      "metadata": {
        "id": "xttcw4M_uJ2o"
      },
      "execution_count": 106,
      "outputs": []
    },
    {
      "cell_type": "markdown",
      "source": [
        "![image3.PNG](data:image/png;base64,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)"
      ],
      "metadata": {
        "id": "uORakkFyusca"
      }
    },
    {
      "cell_type": "markdown",
      "source": [
        "All 3 models preformed very similar with their Kaggle score around .73; Model 1 had the best performance."
      ],
      "metadata": {
        "id": "eYtECFy1u4ey"
      }
    }
  ]
}